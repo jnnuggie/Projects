{
 "cells": [
  {
   "cell_type": "code",
   "execution_count": 0,
   "metadata": {
    "application/vnd.databricks.v1+cell": {
     "cellMetadata": {
      "byteLimit": 2048000,
      "rowLimit": 10000
     },
     "inputWidgets": {},
     "nuid": "96dca5c0-70c4-4194-833a-303c55c1e55a",
     "showTitle": false,
     "title": ""
    }
   },
   "outputs": [
    {
     "output_type": "execute_result",
     "data": {
      "text/plain": [
       "[FileInfo(path='dbfs:/FileStore/tables/Occupancy_Detection_Data.csv', name='Occupancy_Detection_Data.csv', size=50968, modificationTime=1709125456000),\n",
       " FileInfo(path='dbfs:/FileStore/tables/TS021.csv', name='TS021.csv', size=263057, modificationTime=1710949689000),\n",
       " FileInfo(path='dbfs:/FileStore/tables/account-models/', name='account-models/', size=0, modificationTime=0),\n",
       " FileInfo(path='dbfs:/FileStore/tables/accounts/', name='accounts/', size=0, modificationTime=0),\n",
       " FileInfo(path='dbfs:/FileStore/tables/activations/', name='activations/', size=0, modificationTime=0),\n",
       " FileInfo(path='dbfs:/FileStore/tables/activations-1.zip', name='activations-1.zip', size=8411369, modificationTime=1706707020000),\n",
       " FileInfo(path='dbfs:/FileStore/tables/activations.zip', name='activations.zip', size=8411369, modificationTime=1706706455000),\n",
       " FileInfo(path='dbfs:/FileStore/tables/clinical_trials/', name='clinical_trials/', size=0, modificationTime=0),\n",
       " FileInfo(path='dbfs:/FileStore/tables/clinicaltrial_2023-1.zip', name='clinicaltrial_2023-1.zip', size=57166668, modificationTime=1714385352000),\n",
       " FileInfo(path='dbfs:/FileStore/tables/clinicaltrial_2023-2.zip', name='clinicaltrial_2023-2.zip', size=57166668, modificationTime=1714392312000),\n",
       " FileInfo(path='dbfs:/FileStore/tables/clinicaltrial_2023-3.zip', name='clinicaltrial_2023-3.zip', size=57166668, modificationTime=1714408156000),\n",
       " FileInfo(path='dbfs:/FileStore/tables/clinicaltrial_2023-4.zip', name='clinicaltrial_2023-4.zip', size=57166668, modificationTime=1714411007000),\n",
       " FileInfo(path='dbfs:/FileStore/tables/clinicaltrial_2023.zip', name='clinicaltrial_2023.zip', size=57166668, modificationTime=1714314932000),\n",
       " FileInfo(path='dbfs:/FileStore/tables/ethnic.csv/', name='ethnic.csv/', size=0, modificationTime=0),\n",
       " FileInfo(path='dbfs:/FileStore/tables/flood-1.csv', name='flood-1.csv', size=128984, modificationTime=1707921096000),\n",
       " FileInfo(path='dbfs:/FileStore/tables/flood-1.zip', name='flood-1.zip', size=52053, modificationTime=1707920893000),\n",
       " FileInfo(path='dbfs:/FileStore/tables/flood-2.zip', name='flood-2.zip', size=52053, modificationTime=1707920978000),\n",
       " FileInfo(path='dbfs:/FileStore/tables/flood.csv', name='flood.csv', size=128984, modificationTime=1707921019000),\n",
       " FileInfo(path='dbfs:/FileStore/tables/flood.zip', name='flood.zip', size=52053, modificationTime=1707920693000),\n",
       " FileInfo(path='dbfs:/FileStore/tables/games.csv', name='games.csv', size=143639, modificationTime=1713974106000),\n",
       " FileInfo(path='dbfs:/FileStore/tables/iotstream/', name='iotstream/', size=0, modificationTime=0),\n",
       " FileInfo(path='dbfs:/FileStore/tables/iotstream.zip', name='iotstream.zip', size=43891, modificationTime=1708522663000),\n",
       " FileInfo(path='dbfs:/FileStore/tables/logs/', name='logs/', size=0, modificationTime=0),\n",
       " FileInfo(path='dbfs:/FileStore/tables/pharma/', name='pharma/', size=0, modificationTime=0),\n",
       " FileInfo(path='dbfs:/FileStore/tables/pharma-1.zip', name='pharma-1.zip', size=109982, modificationTime=1714385343000),\n",
       " FileInfo(path='dbfs:/FileStore/tables/pharma-2.zip', name='pharma-2.zip', size=109982, modificationTime=1714392303000),\n",
       " FileInfo(path='dbfs:/FileStore/tables/pharma-3.zip', name='pharma-3.zip', size=109982, modificationTime=1714408147000),\n",
       " FileInfo(path='dbfs:/FileStore/tables/pharma-4.zip', name='pharma-4.zip', size=109982, modificationTime=1714410999000),\n",
       " FileInfo(path='dbfs:/FileStore/tables/pharma.zip', name='pharma.zip', size=109982, modificationTime=1714314923000),\n",
       " FileInfo(path='dbfs:/FileStore/tables/steam_200k.csv', name='steam_200k.csv', size=8059447, modificationTime=1713974107000),\n",
       " FileInfo(path='dbfs:/FileStore/tables/test.json', name='test.json', size=17958, modificationTime=1706101878000),\n",
       " FileInfo(path='dbfs:/FileStore/tables/webpage/', name='webpage/', size=0, modificationTime=0),\n",
       " FileInfo(path='dbfs:/FileStore/tables/webpage.zip', name='webpage.zip', size=1582, modificationTime=1707311093000),\n",
       " FileInfo(path='dbfs:/FileStore/tables/webpage_files_all/', name='webpage_files_all/', size=0, modificationTime=0),\n",
       " FileInfo(path='dbfs:/FileStore/tables/webpage_files_jpg/', name='webpage_files_jpg/', size=0, modificationTime=0)]"
      ]
     },
     "execution_count": 1,
     "metadata": {},
     "output_type": "execute_result"
    }
   ],
   "source": [
    "dbutils.fs.ls(\"/FileStore/tables/\")"
   ]
  },
  {
   "cell_type": "code",
   "execution_count": 0,
   "metadata": {
    "application/vnd.databricks.v1+cell": {
     "cellMetadata": {
      "byteLimit": 2048000,
      "rowLimit": 10000
     },
     "inputWidgets": {},
     "nuid": "3514cdd0-9590-4cfa-b8dd-069ac7c6bda4",
     "showTitle": false,
     "title": ""
    }
   },
   "outputs": [
    {
     "output_type": "execute_result",
     "data": {
      "text/plain": [
       "True"
      ]
     },
     "execution_count": 2,
     "metadata": {},
     "output_type": "execute_result"
    }
   ],
   "source": [
    "dbutils.fs.cp(\"FileStore/tables/clinicaltrial_2023.zip\", \"file:/tmp/\")"
   ]
  },
  {
   "cell_type": "code",
   "execution_count": 0,
   "metadata": {
    "application/vnd.databricks.v1+cell": {
     "cellMetadata": {
      "byteLimit": 2048000,
      "rowLimit": 10000
     },
     "inputWidgets": {},
     "nuid": "6e3f7ee2-98d1-4bdd-af04-aef07c6285b5",
     "showTitle": false,
     "title": ""
    }
   },
   "outputs": [
    {
     "output_type": "stream",
     "name": "stdout",
     "output_type": "stream",
     "text": [
      "Rserv\nRtmpgkabTm\nchauffeur-daemon-params\nchauffeur-daemon.pid\nchauffeur-env.sh\nclinicaltrial_2023.zip\ncustom-spark.conf\ndriver-daemon-params\ndriver-daemon.pid\ndriver-env.sh\nhsperfdata_root\npharma.zip\npython_lsp_logs\nsystemd-private-cceb7b29e1f7438584329a432a6b9727-systemd-logind.service-VWPP6K\nsystemd-private-cceb7b29e1f7438584329a432a6b9727-systemd-resolved.service-XyVSE8\ntmp.ETX2NOHyk6\n"
     ]
    }
   ],
   "source": [
    "%sh\n",
    "ls /tmp/"
   ]
  },
  {
   "cell_type": "code",
   "execution_count": 0,
   "metadata": {
    "application/vnd.databricks.v1+cell": {
     "cellMetadata": {
      "byteLimit": 2048000,
      "rowLimit": 10000
     },
     "inputWidgets": {},
     "nuid": "8f10a145-8d0c-44c2-ad97-57ec2be97b32",
     "showTitle": false,
     "title": ""
    }
   },
   "outputs": [
    {
     "output_type": "stream",
     "name": "stdout",
     "output_type": "stream",
     "text": [
      "Archive:  /tmp/clinicaltrial_2023.zip\n  inflating: /tmp/clinicaltrial_2023.csv  \n"
     ]
    }
   ],
   "source": [
    "%sh \n",
    "unzip -d /tmp/  /tmp/clinicaltrial_2023.zip"
   ]
  },
  {
   "cell_type": "code",
   "execution_count": 0,
   "metadata": {
    "application/vnd.databricks.v1+cell": {
     "cellMetadata": {
      "byteLimit": 2048000,
      "rowLimit": 10000
     },
     "inputWidgets": {},
     "nuid": "ff368431-6ae4-4439-be04-3f53c04b2bae",
     "showTitle": false,
     "title": ""
    }
   },
   "outputs": [
    {
     "output_type": "stream",
     "name": "stdout",
     "output_type": "stream",
     "text": [
      "Rserv\nRtmpgkabTm\nchauffeur-daemon-params\nchauffeur-daemon.pid\nchauffeur-env.sh\nclinicaltrial_2023.csv\nclinicaltrial_2023.zip\ncustom-spark.conf\ndriver-daemon-params\ndriver-daemon.pid\ndriver-env.sh\nhsperfdata_root\npharma.zip\npython_lsp_logs\nsystemd-private-cceb7b29e1f7438584329a432a6b9727-systemd-logind.service-VWPP6K\nsystemd-private-cceb7b29e1f7438584329a432a6b9727-systemd-resolved.service-XyVSE8\ntmp.ETX2NOHyk6\n"
     ]
    }
   ],
   "source": [
    "%sh \n",
    "ls /tmp/"
   ]
  },
  {
   "cell_type": "code",
   "execution_count": 0,
   "metadata": {
    "application/vnd.databricks.v1+cell": {
     "cellMetadata": {
      "byteLimit": 2048000,
      "rowLimit": 10000
     },
     "inputWidgets": {},
     "nuid": "e7ced398-7536-4ebe-b554-bc8fcc94f9bb",
     "showTitle": false,
     "title": ""
    }
   },
   "outputs": [
    {
     "output_type": "execute_result",
     "data": {
      "text/plain": [
       "True"
      ]
     },
     "execution_count": 6,
     "metadata": {},
     "output_type": "execute_result"
    }
   ],
   "source": [
    "dbutils.fs.mkdirs(\"FileStore/tables/clinical_trials/\")"
   ]
  },
  {
   "cell_type": "code",
   "execution_count": 0,
   "metadata": {
    "application/vnd.databricks.v1+cell": {
     "cellMetadata": {
      "byteLimit": 2048000,
      "rowLimit": 10000
     },
     "inputWidgets": {},
     "nuid": "efb4ffec-1b19-48e4-9e1a-8e41e9b270de",
     "showTitle": false,
     "title": ""
    }
   },
   "outputs": [
    {
     "output_type": "execute_result",
     "data": {
      "text/plain": [
       "True"
      ]
     },
     "execution_count": 7,
     "metadata": {},
     "output_type": "execute_result"
    }
   ],
   "source": [
    "dbutils.fs.cp(\"file:/tmp/clinicaltrial_2023.csv\", \"dbfs:/FileStore/tables/clinical_trials/clinicaltrial_2023.csv\")"
   ]
  },
  {
   "cell_type": "code",
   "execution_count": 0,
   "metadata": {
    "application/vnd.databricks.v1+cell": {
     "cellMetadata": {
      "byteLimit": 2048000,
      "rowLimit": 10000
     },
     "inputWidgets": {},
     "nuid": "77f23261-e7f0-4567-b117-9401c8ffe40a",
     "showTitle": false,
     "title": ""
    }
   },
   "outputs": [
    {
     "output_type": "display_data",
     "data": {
      "text/html": [
       "<style scoped>\n",
       "  .table-result-container {\n",
       "    max-height: 300px;\n",
       "    overflow: auto;\n",
       "  }\n",
       "  table, th, td {\n",
       "    border: 1px solid black;\n",
       "    border-collapse: collapse;\n",
       "  }\n",
       "  th, td {\n",
       "    padding: 5px;\n",
       "  }\n",
       "  th {\n",
       "    text-align: left;\n",
       "  }\n",
       "</style><div class='table-result-container'><table class='table-result'><thead style='background-color: white'><tr><th>path</th><th>name</th><th>size</th><th>modificationTime</th></tr></thead><tbody><tr><td>dbfs:/FileStore/tables/clinical_trials/clinicaltrial_2023.csv</td><td>clinicaltrial_2023.csv</td><td>292436366</td><td>1714582861000</td></tr><tr><td>dbfs:/FileStore/tables/clinical_trials/pharma.csv</td><td>pharma.csv</td><td>678999</td><td>1714308423000</td></tr><tr><td>dbfs:/FileStore/tables/clinical_trials/true # exit without an error</td><td>true # exit without an error</td><td>292436366</td><td>1714148843000</td></tr></tbody></table></div>"
      ]
     },
     "metadata": {
      "application/vnd.databricks.v1+output": {
       "addedWidgets": {},
       "aggData": [],
       "aggError": "",
       "aggOverflow": false,
       "aggSchema": [],
       "aggSeriesLimitReached": false,
       "aggType": "",
       "arguments": {},
       "columnCustomDisplayInfos": {},
       "data": [
        [
         "dbfs:/FileStore/tables/clinical_trials/clinicaltrial_2023.csv",
         "clinicaltrial_2023.csv",
         292436366,
         1714582861000
        ],
        [
         "dbfs:/FileStore/tables/clinical_trials/pharma.csv",
         "pharma.csv",
         678999,
         1714308423000
        ],
        [
         "dbfs:/FileStore/tables/clinical_trials/true # exit without an error",
         "true # exit without an error",
         292436366,
         1714148843000
        ]
       ],
       "datasetInfos": [],
       "dbfsResultPath": null,
       "isJsonSchema": true,
       "metadata": {},
       "overflow": false,
       "plotOptions": {
        "customPlotOptions": {},
        "displayType": "table",
        "pivotAggregation": null,
        "pivotColumns": null,
        "xColumns": null,
        "yColumns": null
       },
       "removedWidgets": [],
       "schema": [
        {
         "metadata": "{}",
         "name": "path",
         "type": "\"string\""
        },
        {
         "metadata": "{}",
         "name": "name",
         "type": "\"string\""
        },
        {
         "metadata": "{}",
         "name": "size",
         "type": "\"long\""
        },
        {
         "metadata": "{}",
         "name": "modificationTime",
         "type": "\"long\""
        }
       ],
       "type": "table"
      }
     },
     "output_type": "display_data"
    }
   ],
   "source": [
    "display(dbutils.fs.ls(\"dbfs:/FileStore/tables/clinical_trials/\"))"
   ]
  },
  {
   "cell_type": "code",
   "execution_count": 0,
   "metadata": {
    "application/vnd.databricks.v1+cell": {
     "cellMetadata": {
      "byteLimit": 2048000,
      "rowLimit": 10000
     },
     "inputWidgets": {},
     "nuid": "1cc6b3b1-aab6-4fea-a4e9-0ef5a40175a5",
     "showTitle": false,
     "title": ""
    }
   },
   "outputs": [],
   "source": [
    "%sh \n",
    "\n",
    "rm /tmp/clinicaltrial_2023.csv"
   ]
  },
  {
   "cell_type": "code",
   "execution_count": 0,
   "metadata": {
    "application/vnd.databricks.v1+cell": {
     "cellMetadata": {
      "byteLimit": 2048000,
      "rowLimit": 10000
     },
     "inputWidgets": {},
     "nuid": "97839f52-2e66-4ef0-9e5b-a5e387f8a967",
     "showTitle": false,
     "title": ""
    }
   },
   "outputs": [
    {
     "output_type": "execute_result",
     "data": {
      "text/plain": [
       "True"
      ]
     },
     "execution_count": 10,
     "metadata": {},
     "output_type": "execute_result"
    }
   ],
   "source": [
    "dbutils.fs.cp(\"FileStore/tables/pharma.zip\", \"file:/tmp/\")"
   ]
  },
  {
   "cell_type": "code",
   "execution_count": 0,
   "metadata": {
    "application/vnd.databricks.v1+cell": {
     "cellMetadata": {
      "byteLimit": 2048000,
      "rowLimit": 10000
     },
     "inputWidgets": {},
     "nuid": "fd9272e0-4e2a-4f67-b5e9-3d23c04cf7e5",
     "showTitle": false,
     "title": ""
    }
   },
   "outputs": [
    {
     "output_type": "stream",
     "name": "stdout",
     "output_type": "stream",
     "text": [
      "Archive:  /tmp/pharma.zip\n  inflating: /tmp/pharma.csv         \n"
     ]
    }
   ],
   "source": [
    "%sh \n",
    "unzip -d /tmp/  /tmp/pharma.zip"
   ]
  },
  {
   "cell_type": "code",
   "execution_count": 0,
   "metadata": {
    "application/vnd.databricks.v1+cell": {
     "cellMetadata": {
      "byteLimit": 2048000,
      "rowLimit": 10000
     },
     "inputWidgets": {},
     "nuid": "0fa8979d-6ca8-4e97-8acc-38087a98b502",
     "showTitle": false,
     "title": ""
    }
   },
   "outputs": [
    {
     "output_type": "execute_result",
     "data": {
      "text/plain": [
       "True"
      ]
     },
     "execution_count": 12,
     "metadata": {},
     "output_type": "execute_result"
    }
   ],
   "source": [
    "dbutils.fs.mkdirs(\"FileStore/tables/pharma/\")"
   ]
  },
  {
   "cell_type": "code",
   "execution_count": 0,
   "metadata": {
    "application/vnd.databricks.v1+cell": {
     "cellMetadata": {
      "byteLimit": 2048000,
      "rowLimit": 10000
     },
     "inputWidgets": {},
     "nuid": "7c58ef00-5eb2-4d34-90d1-b27536ddc3ec",
     "showTitle": false,
     "title": ""
    }
   },
   "outputs": [
    {
     "output_type": "execute_result",
     "data": {
      "text/plain": [
       "True"
      ]
     },
     "execution_count": 13,
     "metadata": {},
     "output_type": "execute_result"
    }
   ],
   "source": [
    "dbutils.fs.cp(\"file:/tmp/pharma.csv\", \"dbfs:/FileStore/tables/pharma/pharma.csv\")"
   ]
  },
  {
   "cell_type": "code",
   "execution_count": 0,
   "metadata": {
    "application/vnd.databricks.v1+cell": {
     "cellMetadata": {
      "byteLimit": 2048000,
      "rowLimit": 10000
     },
     "inputWidgets": {},
     "nuid": "381b5c10-ce72-4e61-97aa-cdd3c09d31c8",
     "showTitle": false,
     "title": ""
    }
   },
   "outputs": [],
   "source": [
    "%sh \n",
    "\n",
    "rm /tmp/pharma.csv"
   ]
  },
  {
   "cell_type": "code",
   "execution_count": 0,
   "metadata": {
    "application/vnd.databricks.v1+cell": {
     "cellMetadata": {
      "byteLimit": 2048000,
      "rowLimit": 10000
     },
     "inputWidgets": {},
     "nuid": "547454ea-ed6b-4ccf-833d-b8b792876f29",
     "showTitle": false,
     "title": ""
    }
   },
   "outputs": [
    {
     "output_type": "display_data",
     "data": {
      "text/html": [
       "<style scoped>\n",
       "  .table-result-container {\n",
       "    max-height: 300px;\n",
       "    overflow: auto;\n",
       "  }\n",
       "  table, th, td {\n",
       "    border: 1px solid black;\n",
       "    border-collapse: collapse;\n",
       "  }\n",
       "  th, td {\n",
       "    padding: 5px;\n",
       "  }\n",
       "  th {\n",
       "    text-align: left;\n",
       "  }\n",
       "</style><div class='table-result-container'><table class='table-result'><thead style='background-color: white'><tr><th>path</th><th>name</th><th>size</th><th>modificationTime</th></tr></thead><tbody><tr><td>dbfs:/FileStore/tables/Occupancy_Detection_Data.csv</td><td>Occupancy_Detection_Data.csv</td><td>50968</td><td>1709125456000</td></tr><tr><td>dbfs:/FileStore/tables/TS021.csv</td><td>TS021.csv</td><td>263057</td><td>1710949689000</td></tr><tr><td>dbfs:/FileStore/tables/account-models/</td><td>account-models/</td><td>0</td><td>0</td></tr><tr><td>dbfs:/FileStore/tables/accounts/</td><td>accounts/</td><td>0</td><td>0</td></tr><tr><td>dbfs:/FileStore/tables/activations/</td><td>activations/</td><td>0</td><td>0</td></tr><tr><td>dbfs:/FileStore/tables/activations-1.zip</td><td>activations-1.zip</td><td>8411369</td><td>1706707020000</td></tr><tr><td>dbfs:/FileStore/tables/activations.zip</td><td>activations.zip</td><td>8411369</td><td>1706706455000</td></tr><tr><td>dbfs:/FileStore/tables/clinical_trials/</td><td>clinical_trials/</td><td>0</td><td>0</td></tr><tr><td>dbfs:/FileStore/tables/clinicaltrial_2023-1.zip</td><td>clinicaltrial_2023-1.zip</td><td>57166668</td><td>1714385352000</td></tr><tr><td>dbfs:/FileStore/tables/clinicaltrial_2023-2.zip</td><td>clinicaltrial_2023-2.zip</td><td>57166668</td><td>1714392312000</td></tr><tr><td>dbfs:/FileStore/tables/clinicaltrial_2023-3.zip</td><td>clinicaltrial_2023-3.zip</td><td>57166668</td><td>1714408156000</td></tr><tr><td>dbfs:/FileStore/tables/clinicaltrial_2023-4.zip</td><td>clinicaltrial_2023-4.zip</td><td>57166668</td><td>1714411007000</td></tr><tr><td>dbfs:/FileStore/tables/clinicaltrial_2023.zip</td><td>clinicaltrial_2023.zip</td><td>57166668</td><td>1714314932000</td></tr><tr><td>dbfs:/FileStore/tables/ethnic.csv/</td><td>ethnic.csv/</td><td>0</td><td>0</td></tr><tr><td>dbfs:/FileStore/tables/flood-1.csv</td><td>flood-1.csv</td><td>128984</td><td>1707921096000</td></tr><tr><td>dbfs:/FileStore/tables/flood-1.zip</td><td>flood-1.zip</td><td>52053</td><td>1707920893000</td></tr><tr><td>dbfs:/FileStore/tables/flood-2.zip</td><td>flood-2.zip</td><td>52053</td><td>1707920978000</td></tr><tr><td>dbfs:/FileStore/tables/flood.csv</td><td>flood.csv</td><td>128984</td><td>1707921019000</td></tr><tr><td>dbfs:/FileStore/tables/flood.zip</td><td>flood.zip</td><td>52053</td><td>1707920693000</td></tr><tr><td>dbfs:/FileStore/tables/games.csv</td><td>games.csv</td><td>143639</td><td>1713974106000</td></tr><tr><td>dbfs:/FileStore/tables/iotstream/</td><td>iotstream/</td><td>0</td><td>0</td></tr><tr><td>dbfs:/FileStore/tables/iotstream.zip</td><td>iotstream.zip</td><td>43891</td><td>1708522663000</td></tr><tr><td>dbfs:/FileStore/tables/logs/</td><td>logs/</td><td>0</td><td>0</td></tr><tr><td>dbfs:/FileStore/tables/pharma/</td><td>pharma/</td><td>0</td><td>0</td></tr><tr><td>dbfs:/FileStore/tables/pharma-1.zip</td><td>pharma-1.zip</td><td>109982</td><td>1714385343000</td></tr><tr><td>dbfs:/FileStore/tables/pharma-2.zip</td><td>pharma-2.zip</td><td>109982</td><td>1714392303000</td></tr><tr><td>dbfs:/FileStore/tables/pharma-3.zip</td><td>pharma-3.zip</td><td>109982</td><td>1714408147000</td></tr><tr><td>dbfs:/FileStore/tables/pharma-4.zip</td><td>pharma-4.zip</td><td>109982</td><td>1714410999000</td></tr><tr><td>dbfs:/FileStore/tables/pharma.zip</td><td>pharma.zip</td><td>109982</td><td>1714314923000</td></tr><tr><td>dbfs:/FileStore/tables/steam_200k.csv</td><td>steam_200k.csv</td><td>8059447</td><td>1713974107000</td></tr><tr><td>dbfs:/FileStore/tables/test.json</td><td>test.json</td><td>17958</td><td>1706101878000</td></tr><tr><td>dbfs:/FileStore/tables/webpage/</td><td>webpage/</td><td>0</td><td>0</td></tr><tr><td>dbfs:/FileStore/tables/webpage.zip</td><td>webpage.zip</td><td>1582</td><td>1707311093000</td></tr><tr><td>dbfs:/FileStore/tables/webpage_files_all/</td><td>webpage_files_all/</td><td>0</td><td>0</td></tr><tr><td>dbfs:/FileStore/tables/webpage_files_jpg/</td><td>webpage_files_jpg/</td><td>0</td><td>0</td></tr></tbody></table></div>"
      ]
     },
     "metadata": {
      "application/vnd.databricks.v1+output": {
       "addedWidgets": {},
       "aggData": [],
       "aggError": "",
       "aggOverflow": false,
       "aggSchema": [],
       "aggSeriesLimitReached": false,
       "aggType": "",
       "arguments": {},
       "columnCustomDisplayInfos": {},
       "data": [
        [
         "dbfs:/FileStore/tables/Occupancy_Detection_Data.csv",
         "Occupancy_Detection_Data.csv",
         50968,
         1709125456000
        ],
        [
         "dbfs:/FileStore/tables/TS021.csv",
         "TS021.csv",
         263057,
         1710949689000
        ],
        [
         "dbfs:/FileStore/tables/account-models/",
         "account-models/",
         0,
         0
        ],
        [
         "dbfs:/FileStore/tables/accounts/",
         "accounts/",
         0,
         0
        ],
        [
         "dbfs:/FileStore/tables/activations/",
         "activations/",
         0,
         0
        ],
        [
         "dbfs:/FileStore/tables/activations-1.zip",
         "activations-1.zip",
         8411369,
         1706707020000
        ],
        [
         "dbfs:/FileStore/tables/activations.zip",
         "activations.zip",
         8411369,
         1706706455000
        ],
        [
         "dbfs:/FileStore/tables/clinical_trials/",
         "clinical_trials/",
         0,
         0
        ],
        [
         "dbfs:/FileStore/tables/clinicaltrial_2023-1.zip",
         "clinicaltrial_2023-1.zip",
         57166668,
         1714385352000
        ],
        [
         "dbfs:/FileStore/tables/clinicaltrial_2023-2.zip",
         "clinicaltrial_2023-2.zip",
         57166668,
         1714392312000
        ],
        [
         "dbfs:/FileStore/tables/clinicaltrial_2023-3.zip",
         "clinicaltrial_2023-3.zip",
         57166668,
         1714408156000
        ],
        [
         "dbfs:/FileStore/tables/clinicaltrial_2023-4.zip",
         "clinicaltrial_2023-4.zip",
         57166668,
         1714411007000
        ],
        [
         "dbfs:/FileStore/tables/clinicaltrial_2023.zip",
         "clinicaltrial_2023.zip",
         57166668,
         1714314932000
        ],
        [
         "dbfs:/FileStore/tables/ethnic.csv/",
         "ethnic.csv/",
         0,
         0
        ],
        [
         "dbfs:/FileStore/tables/flood-1.csv",
         "flood-1.csv",
         128984,
         1707921096000
        ],
        [
         "dbfs:/FileStore/tables/flood-1.zip",
         "flood-1.zip",
         52053,
         1707920893000
        ],
        [
         "dbfs:/FileStore/tables/flood-2.zip",
         "flood-2.zip",
         52053,
         1707920978000
        ],
        [
         "dbfs:/FileStore/tables/flood.csv",
         "flood.csv",
         128984,
         1707921019000
        ],
        [
         "dbfs:/FileStore/tables/flood.zip",
         "flood.zip",
         52053,
         1707920693000
        ],
        [
         "dbfs:/FileStore/tables/games.csv",
         "games.csv",
         143639,
         1713974106000
        ],
        [
         "dbfs:/FileStore/tables/iotstream/",
         "iotstream/",
         0,
         0
        ],
        [
         "dbfs:/FileStore/tables/iotstream.zip",
         "iotstream.zip",
         43891,
         1708522663000
        ],
        [
         "dbfs:/FileStore/tables/logs/",
         "logs/",
         0,
         0
        ],
        [
         "dbfs:/FileStore/tables/pharma/",
         "pharma/",
         0,
         0
        ],
        [
         "dbfs:/FileStore/tables/pharma-1.zip",
         "pharma-1.zip",
         109982,
         1714385343000
        ],
        [
         "dbfs:/FileStore/tables/pharma-2.zip",
         "pharma-2.zip",
         109982,
         1714392303000
        ],
        [
         "dbfs:/FileStore/tables/pharma-3.zip",
         "pharma-3.zip",
         109982,
         1714408147000
        ],
        [
         "dbfs:/FileStore/tables/pharma-4.zip",
         "pharma-4.zip",
         109982,
         1714410999000
        ],
        [
         "dbfs:/FileStore/tables/pharma.zip",
         "pharma.zip",
         109982,
         1714314923000
        ],
        [
         "dbfs:/FileStore/tables/steam_200k.csv",
         "steam_200k.csv",
         8059447,
         1713974107000
        ],
        [
         "dbfs:/FileStore/tables/test.json",
         "test.json",
         17958,
         1706101878000
        ],
        [
         "dbfs:/FileStore/tables/webpage/",
         "webpage/",
         0,
         0
        ],
        [
         "dbfs:/FileStore/tables/webpage.zip",
         "webpage.zip",
         1582,
         1707311093000
        ],
        [
         "dbfs:/FileStore/tables/webpage_files_all/",
         "webpage_files_all/",
         0,
         0
        ],
        [
         "dbfs:/FileStore/tables/webpage_files_jpg/",
         "webpage_files_jpg/",
         0,
         0
        ]
       ],
       "datasetInfos": [],
       "dbfsResultPath": null,
       "isJsonSchema": true,
       "metadata": {},
       "overflow": false,
       "plotOptions": {
        "customPlotOptions": {},
        "displayType": "table",
        "pivotAggregation": null,
        "pivotColumns": null,
        "xColumns": null,
        "yColumns": null
       },
       "removedWidgets": [],
       "schema": [
        {
         "metadata": "{}",
         "name": "path",
         "type": "\"string\""
        },
        {
         "metadata": "{}",
         "name": "name",
         "type": "\"string\""
        },
        {
         "metadata": "{}",
         "name": "size",
         "type": "\"long\""
        },
        {
         "metadata": "{}",
         "name": "modificationTime",
         "type": "\"long\""
        }
       ],
       "type": "table"
      }
     },
     "output_type": "display_data"
    }
   ],
   "source": [
    "display(dbutils.fs.ls(\"dbfs:/FileStore/tables/\"))"
   ]
  },
  {
   "cell_type": "code",
   "execution_count": 0,
   "metadata": {
    "application/vnd.databricks.v1+cell": {
     "cellMetadata": {
      "byteLimit": 2048000,
      "rowLimit": 10000
     },
     "inputWidgets": {},
     "nuid": "1c796974-2080-437d-8abb-d407ce76cffb",
     "showTitle": false,
     "title": ""
    }
   },
   "outputs": [
    {
     "output_type": "display_data",
     "data": {
      "text/html": [
       "<style scoped>\n",
       "  .table-result-container {\n",
       "    max-height: 300px;\n",
       "    overflow: auto;\n",
       "  }\n",
       "  table, th, td {\n",
       "    border: 1px solid black;\n",
       "    border-collapse: collapse;\n",
       "  }\n",
       "  th, td {\n",
       "    padding: 5px;\n",
       "  }\n",
       "  th {\n",
       "    text-align: left;\n",
       "  }\n",
       "</style><div class='table-result-container'><table class='table-result'><thead style='background-color: white'><tr><th>path</th><th>name</th><th>size</th><th>modificationTime</th></tr></thead><tbody><tr><td>dbfs:/FileStore/tables/pharma/pharma.csv</td><td>pharma.csv</td><td>678999</td><td>1714582866000</td></tr></tbody></table></div>"
      ]
     },
     "metadata": {
      "application/vnd.databricks.v1+output": {
       "addedWidgets": {},
       "aggData": [],
       "aggError": "",
       "aggOverflow": false,
       "aggSchema": [],
       "aggSeriesLimitReached": false,
       "aggType": "",
       "arguments": {},
       "columnCustomDisplayInfos": {},
       "data": [
        [
         "dbfs:/FileStore/tables/pharma/pharma.csv",
         "pharma.csv",
         678999,
         1714582866000
        ]
       ],
       "datasetInfos": [],
       "dbfsResultPath": null,
       "isJsonSchema": true,
       "metadata": {},
       "overflow": false,
       "plotOptions": {
        "customPlotOptions": {},
        "displayType": "table",
        "pivotAggregation": null,
        "pivotColumns": null,
        "xColumns": null,
        "yColumns": null
       },
       "removedWidgets": [],
       "schema": [
        {
         "metadata": "{}",
         "name": "path",
         "type": "\"string\""
        },
        {
         "metadata": "{}",
         "name": "name",
         "type": "\"string\""
        },
        {
         "metadata": "{}",
         "name": "size",
         "type": "\"long\""
        },
        {
         "metadata": "{}",
         "name": "modificationTime",
         "type": "\"long\""
        }
       ],
       "type": "table"
      }
     },
     "output_type": "display_data"
    }
   ],
   "source": [
    "display(dbutils.fs.ls(\"dbfs:/FileStore/tables/pharma/\"))"
   ]
  },
  {
   "cell_type": "code",
   "execution_count": 0,
   "metadata": {
    "application/vnd.databricks.v1+cell": {
     "cellMetadata": {
      "byteLimit": 2048000,
      "rowLimit": 10000
     },
     "inputWidgets": {},
     "nuid": "06f8898e-4895-4064-bd00-01a8d627cd03",
     "showTitle": false,
     "title": ""
    }
   },
   "outputs": [
    {
     "output_type": "execute_result",
     "data": {
      "text/plain": [
       "['\"Id\\tStudy Title\\tAcronym\\tStatus\\tConditions\\tInterventions\\tSponsor\\tCollaborators\\tEnrollment\\tFunder Type\\tType\\tStudy Design\\tStart\\tCompletion\",,,,,,,,,,,,,,,,,,,,,,,,,,,,,,,,,,,,,,,,,,,,,,,,,,,,,,,,,,,,,,,,,,,,,,,,,,,,,,,,,,,,,,,,,,,,,,,,,,,,,,,,,,,,,,,,,,,,,,,,,,,,,,,,,,,,,,,,,,,,,,,,,,,,,,,,,,,,,,,,,,,,,,,,,,,,,,,,,,,,,,,,,,,,,,,,,,,,,,,,,,,,,,,,,,',\n",
       " '\"NCT03630471\\tEffectiveness of a Problem-solving Intervention for Common Adolescent Mental Health Problems in India\\tPRIDE\\tCOMPLETED\\tMental Health Issue (E.G.\", Depression, Psychosis, Personality Disorder,\" Substance Abuse)\\tBEHAVIORAL: PRIDE \\'Step 1\\' problem-solving intervention|BEHAVIORAL: Enhanced usual care\\tSangath\\tHarvard Medical School (HMS and HSDM)|London School of Hygiene and Tropical Medicine\\t250.0\\tOTHER\\tINTERVENTIONAL\\tAllocation: RANDOMIZED|Intervention Model: PARALLEL|Masking: DOUBLE (INVESTIGATOR\",\" OUTCOMES_ASSESSOR)|Primary Purpose: TREATMENT\\t2018-08-20\\t2019-02-28\",,,,,,,,,,,,,,,,,,,,,,,,,,,,,,,,,,,,,,,,,,,,,,,,,,,,,,,,,,,,,,,,,,,,,,,,,,,,,,,,,,,,,,,,,,,,,,,,,,,,,,,,,,,,,,,,,,,,,,,,,,,,,,,,,,,,,,,,,,,,,,,,,,,,,,,,,,,,,,,,,,,,,,,,,,,,,,,,,,,,,,,,,,,,,,,,,,,,,,,,,,,,,']"
      ]
     },
     "execution_count": 17,
     "metadata": {},
     "output_type": "execute_result"
    }
   ],
   "source": [
    "from pyspark import SparkContext\n",
    "\n",
    "clinicRDD = sc.textFile(\"/FileStore/tables/clinical_trials/clinicaltrial_2023.csv\")\n",
    "\n",
    "clinicRDD.take(2)"
   ]
  },
  {
   "cell_type": "code",
   "execution_count": 0,
   "metadata": {
    "application/vnd.databricks.v1+cell": {
     "cellMetadata": {
      "byteLimit": 2048000,
      "rowLimit": 10000
     },
     "inputWidgets": {},
     "nuid": "5ff580f4-e901-4bbc-b52f-2c762e00b5cf",
     "showTitle": false,
     "title": ""
    }
   },
   "outputs": [],
   "source": [
    "%python\n",
    "from pyspark.sql.types import StructType, StructField, StringType, IntegerType\n",
    "\n",
    "\n",
    "clinic_schema = StructType([\n",
    "    StructField(\"Id\", StringType(), True),\n",
    "    StructField(\"Study Title\", StringType(), True),\n",
    "    StructField(\"Acronym\", StringType(), True),\n",
    "    StructField(\"Status\", StringType(), True),\n",
    "    StructField(\"Conditions\", StringType(), True),\n",
    "    StructField(\"Interventions\", StringType(), True),\n",
    "    StructField(\"Sponsor\", StringType(), True),\n",
    "    StructField(\"Collaborators\", StringType(), True),\n",
    "    StructField(\"Enrollment\", IntegerType(), True),  \n",
    "    StructField(\"Funder Type\", StringType(), True),\n",
    "    StructField(\"Type\", StringType(), True),\n",
    "    StructField(\"Study Design\", StringType(), True),\n",
    "    StructField(\"Start\", StringType(), True), \n",
    "    StructField(\"Completion\", StringType(), True)\n",
    "])"
   ]
  },
  {
   "cell_type": "code",
   "execution_count": 0,
   "metadata": {
    "application/vnd.databricks.v1+cell": {
     "cellMetadata": {
      "byteLimit": 2048000,
      "rowLimit": 10000
     },
     "inputWidgets": {},
     "nuid": "34f672d5-8e5b-46a5-876e-f01ca0f062cb",
     "showTitle": false,
     "title": ""
    }
   },
   "outputs": [
    {
     "output_type": "stream",
     "name": "stdout",
     "output_type": "stream",
     "text": [
      "+------------+--------------------+----------+------------------+--------------------+--------------------+--------------------+--------------------+----------+-----------+--------------+--------------------+----------+--------------------+\n|          Id|         Study Title|   Acronym|            Status|          Conditions|       Interventions|             Sponsor|       Collaborators|Enrollment|Funder Type|          Type|        Study Design|     Start|          Completion|\n+------------+--------------------+----------+------------------+--------------------+--------------------+--------------------+--------------------+----------+-----------+--------------+--------------------+----------+--------------------+\n|\"NCT03630471|Effectiveness of ...|     PRIDE|         COMPLETED|Mental Health Iss...|BEHAVIORAL: PRIDE...|             Sangath|Harvard Medical S...|      NULL|      OTHER|INTERVENTIONAL|Allocation: RANDO...|2018-08-20|2019-02-28\",,,,,,...|\n|\"NCT05992571|Oral Ketone Monoe...|          |        RECRUITING|Cerebrovascular F...|OTHER: Placebo|DI...| McMaster University|Alzheimer's Socie...|      NULL|      OTHER|INTERVENTIONAL|Allocation: RANDO...|2023-10-25|2024-08\",,,,,,,,,...|\n|\"NCT00237471|Impact of Tight G...|          |        TERMINATED|Myocardial Infarc...|DRUG: Insulin (ti...|    Melbourne Health|National Health a...|      NULL|      OTHER|INTERVENTIONAL|Allocation: RANDO...|   2005-10|2006-05\",,,,,,,,,...|\n|\"NCT03820271|New Prognostic Pr...| SUPERMELD|        RECRUITING|Decompensated Cir...|    OTHER: SuperMELD|Assistance Publiq...|                    |      NULL|      OTHER|INTERVENTIONAL|Allocation: NA|In...|2020-10-01|2023-10-01\",,,,,,...|\n|\"NCT06229171|InTake Care: Deve...|InTakeCare|NOT_YET_RECRUITING|Hypertension|Trea...|OTHER: adherence ...|Istituto Auxologi...|Istituti Clinici ...|      NULL|      OTHER|INTERVENTIONAL|Allocation: RANDO...|2024-10-01|2026-04-01\",,,,,,...|\n|\"NCT02945371|Tailored Inhibito...|       REV|         COMPLETED|Smoking|Alcohol D...|BEHAVIORAL: Perso...|University of Oregon|                    |      NULL|      OTHER|INTERVENTIONAL|Allocation: RANDO...|   2014-09|2016-05\",,,,,,,,,...|\n|\"NCT01055171|Neuromodulation o...|          |         COMPLETED|Alcohol Dependenc...|DRUG: Propranolol...|Medical Universit...|National Institut...|      NULL|      OTHER|INTERVENTIONAL|Allocation: RANDO...|   2010-01|2012-08\",,,,,,,,,...|\n|\"NCT01125371|Computerized Brie...|          |         COMPLETED|Alcohol; Harmful ...|BEHAVIORAL: Compu...|Johns Hopkins Uni...|National Institut...|      NULL|      OTHER|INTERVENTIONAL|Allocation: RANDO...|   2011-10|2016-06-07\",,,,,,...|\n|\"NCT02554071|Manitoba Pharmaci...|          |         COMPLETED|   Smoking Cessation|OTHER: Pharmacist...|University of Man...|Govenment of Mani...|      NULL|      OTHER|INTERVENTIONAL|Allocation: NA|In...|   2014-01|2014-11\",,,,,,,,,...|\n|\"NCT01772771|Molecular Testing...|          |        RECRUITING|Glioma|Hematopoie...|PROCEDURE: Biospe...|M.D. Anderson Can...|National Cancer I...|      NULL|      OTHER| OBSERVATIONAL|Observational Mod...|2012-03-01|2033-03-01\",,,,,,...|\n|\"NCT02633371|A Pilot Study Exp...|          |         COMPLETED|       Hyperhidrosis|DRUG: Oxybutynin ...|University of Col...|Society for Pedia...|      NULL|      OTHER|INTERVENTIONAL|Allocation: NA|In...|   2016-02|2017-05\",,,,,,,,,...|\n|\"NCT03400371|Biology of Juveni...|   BIOJUME|        RECRUITING|Juvenile Myocloni...|OTHER: Blood draw...|King's College Lo...|King's College Ho...|      NULL|      OTHER| OBSERVATIONAL|Observational Mod...|2017-07-13|2026-06-30\",,,,,,...|\n|\"NCT00120471|Safety and Blood ...|          |         COMPLETED|      HIV Infections|DRUG: Tenofovir d...|National Institut...|Eunice Kennedy Sh...|      NULL|        NIH|INTERVENTIONAL|Allocation: RANDO...|   2006-11|2011-12\",,,,,,,,,...|\n|\"NCT04784871|Promoting Wellbei...|    5WaysA|         COMPLETED|Wellbeing|Health ...|BEHAVIORAL: 5ways...|  University of Oslo|Norwegian Institu...|      NULL|      OTHER|INTERVENTIONAL|Allocation: RANDO...|2021-03-04|2023-02-24\",,,,,,...|\n|\"NCT02383771|Reversal of the A...|  REVERSAL|         COMPLETED|Coronary Artery D...|DRUG: Ticagrelor|...|The First Affilia...|National Natural ...|      NULL|      OTHER|INTERVENTIONAL|Allocation: RANDO...|   2015-03|2016-12\",,,,,,,,,...|\n|\"NCT03269071|Neural Stem Cell ...|     STEMS|         COMPLETED|Progressive Multi...|DRUG: human fetal...|  IRCCS San Raffaele|Fondazione Italia...|      NULL|      OTHER|INTERVENTIONAL|Allocation: NON_R...|2017-05-17|2021-07-31\",,,,,,...|\n|\"NCT01659671|RCT of the Effect...|     SKUP3|         COMPLETED|Obstructive Sleep...|PROCEDURE: Uvulop...|Karolinska Univer...|Karolinska Instit...|      NULL|      OTHER|INTERVENTIONAL|Allocation: RANDO...|   2007-06|2014-05\",,,,,,,,,...|\n|\"NCT04765371|Comparison Betwee...|  COPreDex|         COMPLETED|Coronavirus Infec...|DRUG: DEXAMETHASO...|        Hôpital NOVO|                    |      NULL|      OTHER|INTERVENTIONAL|Allocation: RANDO...|2021-03-03|2022-05-13\",,,,,,...|\n|\"NCT02830971|Developing a Stan...|          |         COMPLETED|Registered Nurses...|PROCEDURE: Doing ...|Baqiyatallah Medi...|Shahid Beheshti U...|      NULL|      OTHER|INTERVENTIONAL|Allocation: NA|In...|   2016-07|2021-04-12\",,,,,,...|\n|\"NCT00416871|Interleukin-2 and...|          |         COMPLETED|       Kidney Cancer|BIOLOGICAL: aldes...|  Centre Leon Berard|                    |      NULL|      OTHER|INTERVENTIONAL|Allocation: RANDO...|          |2006-02\",,,,,,,,,...|\n+------------+--------------------+----------+------------------+--------------------+--------------------+--------------------+--------------------+----------+-----------+--------------+--------------------+----------+--------------------+\nonly showing top 20 rows\n\n"
     ]
    },
    {
     "output_type": "execute_result",
     "data": {
      "text/plain": [
       "483420"
      ]
     },
     "execution_count": 19,
     "metadata": {},
     "output_type": "execute_result"
    }
   ],
   "source": [
    "from pyspark.sql import Row\n",
    "\n",
    "number_of_columns = 14\n",
    "\n",
    "def parse_line(line):\n",
    "    parts = line.split('\\t')\n",
    "    if len(parts) != number_of_columns:\n",
    "        return None\n",
    "    try:\n",
    "        parts[8] = int(parts[8]) if parts[8].isdigit() else None\n",
    "    except ValueError:\n",
    "        parts[8] = None\n",
    "    return Row(*parts)\n",
    "\n",
    "header = clinicRDD.first()\n",
    "dataRDD = clinicRDD.filter(lambda row: row != header)\n",
    "\n",
    "parsedRDD = dataRDD.map(parse_line).filter(lambda x: x is not None)\n",
    "\n",
    "clinic_df = spark.createDataFrame(parsedRDD, clinic_schema)\n",
    "clinic_df.show()\n",
    "clinic_df.count()"
   ]
  },
  {
   "cell_type": "code",
   "execution_count": 0,
   "metadata": {
    "application/vnd.databricks.v1+cell": {
     "cellMetadata": {
      "byteLimit": 2048000,
      "rowLimit": 10000
     },
     "inputWidgets": {},
     "nuid": "c39b098a-bae9-4c84-aae6-151e7344be34",
     "showTitle": false,
     "title": ""
    }
   },
   "outputs": [
    {
     "output_type": "stream",
     "name": "stdout",
     "output_type": "stream",
     "text": [
      "+-----------+--------------------+----------+------------------+--------------------+--------------------+--------------------+--------------------+----------+-----------+--------------+--------------------+----------+--------------------+\n|         Id|         Study Title|   Acronym|            Status|          Conditions|       Interventions|             Sponsor|       Collaborators|Enrollment|Funder Type|          Type|        Study Design|     Start|          Completion|\n+-----------+--------------------+----------+------------------+--------------------+--------------------+--------------------+--------------------+----------+-----------+--------------+--------------------+----------+--------------------+\n|NCT03630471|Effectiveness of ...|     PRIDE|         COMPLETED|Mental Health Iss...|BEHAVIORAL: PRIDE...|             Sangath|Harvard Medical S...|      NULL|      OTHER|INTERVENTIONAL|Allocation: RANDO...|2018-08-20|2019-02-28,,,,,,,...|\n|NCT05992571|Oral Ketone Monoe...|          |        RECRUITING|Cerebrovascular F...|OTHER: Placebo|DI...| McMaster University|Alzheimer's Socie...|      NULL|      OTHER|INTERVENTIONAL|Allocation: RANDO...|2023-10-25|2024-08,,,,,,,,,,...|\n|NCT00237471|Impact of Tight G...|          |        TERMINATED|Myocardial Infarc...|DRUG: Insulin (ti...|    Melbourne Health|National Health a...|      NULL|      OTHER|INTERVENTIONAL|Allocation: RANDO...|   2005-10|2006-05,,,,,,,,,,...|\n|NCT03820271|New Prognostic Pr...| SUPERMELD|        RECRUITING|Decompensated Cir...|    OTHER: SuperMELD|Assistance Publiq...|                    |      NULL|      OTHER|INTERVENTIONAL|Allocation: NA|In...|2020-10-01|2023-10-01,,,,,,,...|\n|NCT06229171|InTake Care: Deve...|InTakeCare|NOT_YET_RECRUITING|Hypertension|Trea...|OTHER: adherence ...|Istituto Auxologi...|Istituti Clinici ...|      NULL|      OTHER|INTERVENTIONAL|Allocation: RANDO...|2024-10-01|2026-04-01,,,,,,,...|\n|NCT02945371|Tailored Inhibito...|       REV|         COMPLETED|Smoking|Alcohol D...|BEHAVIORAL: Perso...|University of Oregon|                    |      NULL|      OTHER|INTERVENTIONAL|Allocation: RANDO...|   2014-09|2016-05,,,,,,,,,,...|\n|NCT01055171|Neuromodulation o...|          |         COMPLETED|Alcohol Dependenc...|DRUG: Propranolol...|Medical Universit...|National Institut...|      NULL|      OTHER|INTERVENTIONAL|Allocation: RANDO...|   2010-01|2012-08,,,,,,,,,,...|\n|NCT01125371|Computerized Brie...|          |         COMPLETED|Alcohol; Harmful ...|BEHAVIORAL: Compu...|Johns Hopkins Uni...|National Institut...|      NULL|      OTHER|INTERVENTIONAL|Allocation: RANDO...|   2011-10|2016-06-07,,,,,,,...|\n|NCT02554071|Manitoba Pharmaci...|          |         COMPLETED|   Smoking Cessation|OTHER: Pharmacist...|University of Man...|Govenment of Mani...|      NULL|      OTHER|INTERVENTIONAL|Allocation: NA|In...|   2014-01|2014-11,,,,,,,,,,...|\n|NCT01772771|Molecular Testing...|          |        RECRUITING|Glioma|Hematopoie...|PROCEDURE: Biospe...|M.D. Anderson Can...|National Cancer I...|      NULL|      OTHER| OBSERVATIONAL|Observational Mod...|2012-03-01|2033-03-01,,,,,,,...|\n|NCT02633371|A Pilot Study Exp...|          |         COMPLETED|       Hyperhidrosis|DRUG: Oxybutynin ...|University of Col...|Society for Pedia...|      NULL|      OTHER|INTERVENTIONAL|Allocation: NA|In...|   2016-02|2017-05,,,,,,,,,,...|\n|NCT03400371|Biology of Juveni...|   BIOJUME|        RECRUITING|Juvenile Myocloni...|OTHER: Blood draw...|King's College Lo...|King's College Ho...|      NULL|      OTHER| OBSERVATIONAL|Observational Mod...|2017-07-13|2026-06-30,,,,,,,...|\n|NCT00120471|Safety and Blood ...|          |         COMPLETED|      HIV Infections|DRUG: Tenofovir d...|National Institut...|Eunice Kennedy Sh...|      NULL|        NIH|INTERVENTIONAL|Allocation: RANDO...|   2006-11|2011-12,,,,,,,,,,...|\n|NCT04784871|Promoting Wellbei...|    5WaysA|         COMPLETED|Wellbeing|Health ...|BEHAVIORAL: 5ways...|  University of Oslo|Norwegian Institu...|      NULL|      OTHER|INTERVENTIONAL|Allocation: RANDO...|2021-03-04|2023-02-24,,,,,,,...|\n|NCT02383771|Reversal of the A...|  REVERSAL|         COMPLETED|Coronary Artery D...|DRUG: Ticagrelor|...|The First Affilia...|National Natural ...|      NULL|      OTHER|INTERVENTIONAL|Allocation: RANDO...|   2015-03|2016-12,,,,,,,,,,...|\n|NCT03269071|Neural Stem Cell ...|     STEMS|         COMPLETED|Progressive Multi...|DRUG: human fetal...|  IRCCS San Raffaele|Fondazione Italia...|      NULL|      OTHER|INTERVENTIONAL|Allocation: NON_R...|2017-05-17|2021-07-31,,,,,,,...|\n|NCT01659671|RCT of the Effect...|     SKUP3|         COMPLETED|Obstructive Sleep...|PROCEDURE: Uvulop...|Karolinska Univer...|Karolinska Instit...|      NULL|      OTHER|INTERVENTIONAL|Allocation: RANDO...|   2007-06|2014-05,,,,,,,,,,...|\n|NCT04765371|Comparison Betwee...|  COPreDex|         COMPLETED|Coronavirus Infec...|DRUG: DEXAMETHASO...|        Hôpital NOVO|                    |      NULL|      OTHER|INTERVENTIONAL|Allocation: RANDO...|2021-03-03|2022-05-13,,,,,,,...|\n|NCT02830971|Developing a Stan...|          |         COMPLETED|Registered Nurses...|PROCEDURE: Doing ...|Baqiyatallah Medi...|Shahid Beheshti U...|      NULL|      OTHER|INTERVENTIONAL|Allocation: NA|In...|   2016-07|2021-04-12,,,,,,,...|\n|NCT00416871|Interleukin-2 and...|          |         COMPLETED|       Kidney Cancer|BIOLOGICAL: aldes...|  Centre Leon Berard|                    |      NULL|      OTHER|INTERVENTIONAL|Allocation: RANDO...|          |2006-02,,,,,,,,,,...|\n+-----------+--------------------+----------+------------------+--------------------+--------------------+--------------------+--------------------+----------+-----------+--------------+--------------------+----------+--------------------+\nonly showing top 20 rows\n\n"
     ]
    }
   ],
   "source": [
    "from pyspark.sql.functions import regexp_replace\n",
    "\n",
    "def remove_quotes(df):\n",
    "    quotes_removed_df = df.withColumn(\"Id\", regexp_replace(\"Id\", '\"', ''))\n",
    "    quotes_removed_df = quotes_removed_df.withColumn(\"Completion\", regexp_replace(\"Completion\", '\"', ''))\n",
    "    return quotes_removed_df\n",
    "\n",
    "clinic_df = remove_quotes(clinic_df)\n",
    "clinic_df.show()"
   ]
  },
  {
   "cell_type": "code",
   "execution_count": 0,
   "metadata": {
    "application/vnd.databricks.v1+cell": {
     "cellMetadata": {
      "byteLimit": 2048000,
      "rowLimit": 10000
     },
     "inputWidgets": {},
     "nuid": "1f13a807-e6e7-447b-b0fd-3de6c9d0c850",
     "showTitle": false,
     "title": ""
    }
   },
   "outputs": [
    {
     "output_type": "stream",
     "name": "stdout",
     "output_type": "stream",
     "text": [
      "+-----------+--------------------+----------+------------------+--------------------+--------------------+--------------------+--------------------+----------+-----------+--------------+--------------------+----------+----------+\n|         Id|         Study Title|   Acronym|            Status|          Conditions|       Interventions|             Sponsor|       Collaborators|Enrollment|Funder Type|          Type|        Study Design|     Start|Completion|\n+-----------+--------------------+----------+------------------+--------------------+--------------------+--------------------+--------------------+----------+-----------+--------------+--------------------+----------+----------+\n|NCT03630471|Effectiveness of ...|     PRIDE|         COMPLETED|Mental Health Iss...|BEHAVIORAL: PRIDE...|             Sangath|Harvard Medical S...|      NULL|      OTHER|INTERVENTIONAL|Allocation: RANDO...|2018-08-20|2019-02-28|\n|NCT05992571|Oral Ketone Monoe...|          |        RECRUITING|Cerebrovascular F...|OTHER: Placebo|DI...| McMaster University|Alzheimer's Socie...|      NULL|      OTHER|INTERVENTIONAL|Allocation: RANDO...|2023-10-25|   2024-08|\n|NCT00237471|Impact of Tight G...|          |        TERMINATED|Myocardial Infarc...|DRUG: Insulin (ti...|    Melbourne Health|National Health a...|      NULL|      OTHER|INTERVENTIONAL|Allocation: RANDO...|   2005-10|   2006-05|\n|NCT03820271|New Prognostic Pr...| SUPERMELD|        RECRUITING|Decompensated Cir...|    OTHER: SuperMELD|Assistance Publiq...|                    |      NULL|      OTHER|INTERVENTIONAL|Allocation: NA|In...|2020-10-01|2023-10-01|\n|NCT06229171|InTake Care: Deve...|InTakeCare|NOT_YET_RECRUITING|Hypertension|Trea...|OTHER: adherence ...|Istituto Auxologi...|Istituti Clinici ...|      NULL|      OTHER|INTERVENTIONAL|Allocation: RANDO...|2024-10-01|2026-04-01|\n|NCT02945371|Tailored Inhibito...|       REV|         COMPLETED|Smoking|Alcohol D...|BEHAVIORAL: Perso...|University of Oregon|                    |      NULL|      OTHER|INTERVENTIONAL|Allocation: RANDO...|   2014-09|   2016-05|\n|NCT01055171|Neuromodulation o...|          |         COMPLETED|Alcohol Dependenc...|DRUG: Propranolol...|Medical Universit...|National Institut...|      NULL|      OTHER|INTERVENTIONAL|Allocation: RANDO...|   2010-01|   2012-08|\n|NCT01125371|Computerized Brie...|          |         COMPLETED|Alcohol; Harmful ...|BEHAVIORAL: Compu...|Johns Hopkins Uni...|National Institut...|      NULL|      OTHER|INTERVENTIONAL|Allocation: RANDO...|   2011-10|2016-06-07|\n|NCT02554071|Manitoba Pharmaci...|          |         COMPLETED|   Smoking Cessation|OTHER: Pharmacist...|University of Man...|Govenment of Mani...|      NULL|      OTHER|INTERVENTIONAL|Allocation: NA|In...|   2014-01|   2014-11|\n|NCT01772771|Molecular Testing...|          |        RECRUITING|Glioma|Hematopoie...|PROCEDURE: Biospe...|M.D. Anderson Can...|National Cancer I...|      NULL|      OTHER| OBSERVATIONAL|Observational Mod...|2012-03-01|2033-03-01|\n|NCT02633371|A Pilot Study Exp...|          |         COMPLETED|       Hyperhidrosis|DRUG: Oxybutynin ...|University of Col...|Society for Pedia...|      NULL|      OTHER|INTERVENTIONAL|Allocation: NA|In...|   2016-02|   2017-05|\n|NCT03400371|Biology of Juveni...|   BIOJUME|        RECRUITING|Juvenile Myocloni...|OTHER: Blood draw...|King's College Lo...|King's College Ho...|      NULL|      OTHER| OBSERVATIONAL|Observational Mod...|2017-07-13|2026-06-30|\n|NCT00120471|Safety and Blood ...|          |         COMPLETED|      HIV Infections|DRUG: Tenofovir d...|National Institut...|Eunice Kennedy Sh...|      NULL|        NIH|INTERVENTIONAL|Allocation: RANDO...|   2006-11|   2011-12|\n|NCT04784871|Promoting Wellbei...|    5WaysA|         COMPLETED|Wellbeing|Health ...|BEHAVIORAL: 5ways...|  University of Oslo|Norwegian Institu...|      NULL|      OTHER|INTERVENTIONAL|Allocation: RANDO...|2021-03-04|2023-02-24|\n|NCT02383771|Reversal of the A...|  REVERSAL|         COMPLETED|Coronary Artery D...|DRUG: Ticagrelor|...|The First Affilia...|National Natural ...|      NULL|      OTHER|INTERVENTIONAL|Allocation: RANDO...|   2015-03|   2016-12|\n|NCT03269071|Neural Stem Cell ...|     STEMS|         COMPLETED|Progressive Multi...|DRUG: human fetal...|  IRCCS San Raffaele|Fondazione Italia...|      NULL|      OTHER|INTERVENTIONAL|Allocation: NON_R...|2017-05-17|2021-07-31|\n|NCT01659671|RCT of the Effect...|     SKUP3|         COMPLETED|Obstructive Sleep...|PROCEDURE: Uvulop...|Karolinska Univer...|Karolinska Instit...|      NULL|      OTHER|INTERVENTIONAL|Allocation: RANDO...|   2007-06|   2014-05|\n|NCT04765371|Comparison Betwee...|  COPreDex|         COMPLETED|Coronavirus Infec...|DRUG: DEXAMETHASO...|        Hôpital NOVO|                    |      NULL|      OTHER|INTERVENTIONAL|Allocation: RANDO...|2021-03-03|2022-05-13|\n|NCT02830971|Developing a Stan...|          |         COMPLETED|Registered Nurses...|PROCEDURE: Doing ...|Baqiyatallah Medi...|Shahid Beheshti U...|      NULL|      OTHER|INTERVENTIONAL|Allocation: NA|In...|   2016-07|2021-04-12|\n|NCT00416871|Interleukin-2 and...|          |         COMPLETED|       Kidney Cancer|BIOLOGICAL: aldes...|  Centre Leon Berard|                    |      NULL|      OTHER|INTERVENTIONAL|Allocation: RANDO...|          |   2006-02|\n+-----------+--------------------+----------+------------------+--------------------+--------------------+--------------------+--------------------+----------+-----------+--------------+--------------------+----------+----------+\nonly showing top 20 rows\n\n"
     ]
    }
   ],
   "source": [
    "from pyspark.sql.functions import col, trim\n",
    "\n",
    "def remove_trailing_punctuation(df):\n",
    "    for column in df.columns:\n",
    "        df = df.withColumn(column, trim(regexp_replace(col(column), ',+$', '')))\n",
    "    return df\n",
    "\n",
    "clinic_df = remove_trailing_punctuation(clinic_df)\n",
    "clinic_df.show()"
   ]
  },
  {
   "cell_type": "code",
   "execution_count": 0,
   "metadata": {
    "application/vnd.databricks.v1+cell": {
     "cellMetadata": {
      "byteLimit": 2048000,
      "rowLimit": 10000
     },
     "inputWidgets": {},
     "nuid": "86c3bf3a-48c8-4147-9b51-9cf692889c1e",
     "showTitle": false,
     "title": ""
    }
   },
   "outputs": [
    {
     "output_type": "stream",
     "name": "stdout",
     "output_type": "stream",
     "text": [
      "+-----------+--------------------+----------+------------------+--------------------+--------------------+--------------------+--------------------+----------+-----------+--------------+--------------------+----------+----------+\n|         Id|         Study Title|   Acronym|            Status|          Conditions|       Interventions|             Sponsor|       Collaborators|Enrollment|Funder Type|          Type|        Study Design|     Start|Completion|\n+-----------+--------------------+----------+------------------+--------------------+--------------------+--------------------+--------------------+----------+-----------+--------------+--------------------+----------+----------+\n|NCT03630471|Effectiveness of ...|     PRIDE|         COMPLETED|Mental Health Iss...|BEHAVIORAL: PRIDE...|             Sangath|Harvard Medical S...|      NULL|      OTHER|INTERVENTIONAL|Allocation: RANDO...|2018-08-20|2019-02-28|\n|NCT05992571|Oral Ketone Monoe...|      NULL|        RECRUITING|Cerebrovascular F...|OTHER: Placebo|DI...| McMaster University|Alzheimer's Socie...|      NULL|      OTHER|INTERVENTIONAL|Allocation: RANDO...|2023-10-25|   2024-08|\n|NCT00237471|Impact of Tight G...|      NULL|        TERMINATED|Myocardial Infarc...|DRUG: Insulin (ti...|    Melbourne Health|National Health a...|      NULL|      OTHER|INTERVENTIONAL|Allocation: RANDO...|   2005-10|   2006-05|\n|NCT03820271|New Prognostic Pr...| SUPERMELD|        RECRUITING|Decompensated Cir...|    OTHER: SuperMELD|Assistance Publiq...|                NULL|      NULL|      OTHER|INTERVENTIONAL|Allocation: NA|In...|2020-10-01|2023-10-01|\n|NCT06229171|InTake Care: Deve...|InTakeCare|NOT_YET_RECRUITING|Hypertension|Trea...|OTHER: adherence ...|Istituto Auxologi...|Istituti Clinici ...|      NULL|      OTHER|INTERVENTIONAL|Allocation: RANDO...|2024-10-01|2026-04-01|\n|NCT02945371|Tailored Inhibito...|       REV|         COMPLETED|Smoking|Alcohol D...|BEHAVIORAL: Perso...|University of Oregon|                NULL|      NULL|      OTHER|INTERVENTIONAL|Allocation: RANDO...|   2014-09|   2016-05|\n|NCT01055171|Neuromodulation o...|      NULL|         COMPLETED|Alcohol Dependenc...|DRUG: Propranolol...|Medical Universit...|National Institut...|      NULL|      OTHER|INTERVENTIONAL|Allocation: RANDO...|   2010-01|   2012-08|\n|NCT01125371|Computerized Brie...|      NULL|         COMPLETED|Alcohol; Harmful ...|BEHAVIORAL: Compu...|Johns Hopkins Uni...|National Institut...|      NULL|      OTHER|INTERVENTIONAL|Allocation: RANDO...|   2011-10|2016-06-07|\n|NCT02554071|Manitoba Pharmaci...|      NULL|         COMPLETED|   Smoking Cessation|OTHER: Pharmacist...|University of Man...|Govenment of Mani...|      NULL|      OTHER|INTERVENTIONAL|Allocation: NA|In...|   2014-01|   2014-11|\n|NCT01772771|Molecular Testing...|      NULL|        RECRUITING|Glioma|Hematopoie...|PROCEDURE: Biospe...|M.D. Anderson Can...|National Cancer I...|      NULL|      OTHER| OBSERVATIONAL|Observational Mod...|2012-03-01|2033-03-01|\n|NCT02633371|A Pilot Study Exp...|      NULL|         COMPLETED|       Hyperhidrosis|DRUG: Oxybutynin ...|University of Col...|Society for Pedia...|      NULL|      OTHER|INTERVENTIONAL|Allocation: NA|In...|   2016-02|   2017-05|\n|NCT03400371|Biology of Juveni...|   BIOJUME|        RECRUITING|Juvenile Myocloni...|OTHER: Blood draw...|King's College Lo...|King's College Ho...|      NULL|      OTHER| OBSERVATIONAL|Observational Mod...|2017-07-13|2026-06-30|\n|NCT00120471|Safety and Blood ...|      NULL|         COMPLETED|      HIV Infections|DRUG: Tenofovir d...|National Institut...|Eunice Kennedy Sh...|      NULL|        NIH|INTERVENTIONAL|Allocation: RANDO...|   2006-11|   2011-12|\n|NCT04784871|Promoting Wellbei...|    5WaysA|         COMPLETED|Wellbeing|Health ...|BEHAVIORAL: 5ways...|  University of Oslo|Norwegian Institu...|      NULL|      OTHER|INTERVENTIONAL|Allocation: RANDO...|2021-03-04|2023-02-24|\n|NCT02383771|Reversal of the A...|  REVERSAL|         COMPLETED|Coronary Artery D...|DRUG: Ticagrelor|...|The First Affilia...|National Natural ...|      NULL|      OTHER|INTERVENTIONAL|Allocation: RANDO...|   2015-03|   2016-12|\n|NCT03269071|Neural Stem Cell ...|     STEMS|         COMPLETED|Progressive Multi...|DRUG: human fetal...|  IRCCS San Raffaele|Fondazione Italia...|      NULL|      OTHER|INTERVENTIONAL|Allocation: NON_R...|2017-05-17|2021-07-31|\n|NCT01659671|RCT of the Effect...|     SKUP3|         COMPLETED|Obstructive Sleep...|PROCEDURE: Uvulop...|Karolinska Univer...|Karolinska Instit...|      NULL|      OTHER|INTERVENTIONAL|Allocation: RANDO...|   2007-06|   2014-05|\n|NCT04765371|Comparison Betwee...|  COPreDex|         COMPLETED|Coronavirus Infec...|DRUG: DEXAMETHASO...|        Hôpital NOVO|                NULL|      NULL|      OTHER|INTERVENTIONAL|Allocation: RANDO...|2021-03-03|2022-05-13|\n|NCT02830971|Developing a Stan...|      NULL|         COMPLETED|Registered Nurses...|PROCEDURE: Doing ...|Baqiyatallah Medi...|Shahid Beheshti U...|      NULL|      OTHER|INTERVENTIONAL|Allocation: NA|In...|   2016-07|2021-04-12|\n|NCT00416871|Interleukin-2 and...|      NULL|         COMPLETED|       Kidney Cancer|BIOLOGICAL: aldes...|  Centre Leon Berard|                NULL|      NULL|      OTHER|INTERVENTIONAL|Allocation: RANDO...|      NULL|   2006-02|\n+-----------+--------------------+----------+------------------+--------------------+--------------------+--------------------+--------------------+----------+-----------+--------------+--------------------+----------+----------+\nonly showing top 20 rows\n\n"
     ]
    },
    {
     "output_type": "execute_result",
     "data": {
      "text/plain": [
       "483420"
      ]
     },
     "execution_count": 22,
     "metadata": {},
     "output_type": "execute_result"
    }
   ],
   "source": [
    "from pyspark.sql.functions import when\n",
    "\n",
    "def fill_nulls(df):\n",
    "    columns_to_fill = df.columns\n",
    "    for column in columns_to_fill:\n",
    "        df = df.withColumn(column, when(col(column) == '', None).otherwise(col(column)))\n",
    "    return df\n",
    "\n",
    "clinic_df = fill_nulls(clinic_df)\n",
    "clinic_df.show()\n",
    "clinic_df.count()"
   ]
  },
  {
   "cell_type": "code",
   "execution_count": 0,
   "metadata": {
    "application/vnd.databricks.v1+cell": {
     "cellMetadata": {
      "byteLimit": 2048000,
      "rowLimit": 10000
     },
     "inputWidgets": {},
     "nuid": "7eb83483-870e-421b-aeee-1d9287ff536c",
     "showTitle": false,
     "title": ""
    }
   },
   "outputs": [
    {
     "output_type": "stream",
     "name": "stdout",
     "output_type": "stream",
     "text": [
      "+-----------+--------------------+----------+------------------+--------------------+--------------------+--------------------+--------------------+----------+-----------+--------------+--------------------+----------+----------+\n|         Id|         Study Title|   Acronym|            Status|          Conditions|       Interventions|             Sponsor|       Collaborators|Enrollment|Funder Type|          Type|        Study Design|     Start|Completion|\n+-----------+--------------------+----------+------------------+--------------------+--------------------+--------------------+--------------------+----------+-----------+--------------+--------------------+----------+----------+\n|NCT03630471|Effectiveness of ...|     PRIDE|         COMPLETED|Mental Health Iss...|BEHAVIORAL: PRIDE...|             Sangath|Harvard Medical S...|      NULL|      OTHER|INTERVENTIONAL|Allocation: RANDO...|2018-08-20|2019-02-28|\n|NCT05992571|Oral Ketone Monoe...|      NULL|        RECRUITING|Cerebrovascular F...|OTHER: Placebo|DI...| McMaster University|Alzheimer's Socie...|      NULL|      OTHER|INTERVENTIONAL|Allocation: RANDO...|2023-10-25|2024-08-01|\n|NCT00237471|Impact of Tight G...|      NULL|        TERMINATED|Myocardial Infarc...|DRUG: Insulin (ti...|    Melbourne Health|National Health a...|      NULL|      OTHER|INTERVENTIONAL|Allocation: RANDO...|2005-10-01|2006-05-01|\n|NCT03820271|New Prognostic Pr...| SUPERMELD|        RECRUITING|Decompensated Cir...|    OTHER: SuperMELD|Assistance Publiq...|                NULL|      NULL|      OTHER|INTERVENTIONAL|Allocation: NA|In...|2020-10-01|2023-10-01|\n|NCT06229171|InTake Care: Deve...|InTakeCare|NOT_YET_RECRUITING|Hypertension|Trea...|OTHER: adherence ...|Istituto Auxologi...|Istituti Clinici ...|      NULL|      OTHER|INTERVENTIONAL|Allocation: RANDO...|2024-10-01|2026-04-01|\n|NCT02945371|Tailored Inhibito...|       REV|         COMPLETED|Smoking|Alcohol D...|BEHAVIORAL: Perso...|University of Oregon|                NULL|      NULL|      OTHER|INTERVENTIONAL|Allocation: RANDO...|2014-09-01|2016-05-01|\n|NCT01055171|Neuromodulation o...|      NULL|         COMPLETED|Alcohol Dependenc...|DRUG: Propranolol...|Medical Universit...|National Institut...|      NULL|      OTHER|INTERVENTIONAL|Allocation: RANDO...|2010-01-01|2012-08-01|\n|NCT01125371|Computerized Brie...|      NULL|         COMPLETED|Alcohol; Harmful ...|BEHAVIORAL: Compu...|Johns Hopkins Uni...|National Institut...|      NULL|      OTHER|INTERVENTIONAL|Allocation: RANDO...|2011-10-01|2016-06-07|\n|NCT02554071|Manitoba Pharmaci...|      NULL|         COMPLETED|   Smoking Cessation|OTHER: Pharmacist...|University of Man...|Govenment of Mani...|      NULL|      OTHER|INTERVENTIONAL|Allocation: NA|In...|2014-01-01|2014-11-01|\n|NCT01772771|Molecular Testing...|      NULL|        RECRUITING|Glioma|Hematopoie...|PROCEDURE: Biospe...|M.D. Anderson Can...|National Cancer I...|      NULL|      OTHER| OBSERVATIONAL|Observational Mod...|2012-03-01|2033-03-01|\n+-----------+--------------------+----------+------------------+--------------------+--------------------+--------------------+--------------------+----------+-----------+--------------+--------------------+----------+----------+\nonly showing top 10 rows\n\n"
     ]
    }
   ],
   "source": [
    "from pyspark.sql.functions import to_date, length\n",
    "\n",
    "def normalise_dates(df, date_columns):\n",
    "    for date in date_columns:\n",
    "        df = df.withColumn(\n",
    "            date,\n",
    "            when(length(col(date)) == 7, to_date(col(date), 'yyyy-MM'))\n",
    "            .otherwise(to_date(col(date), 'yyyy-MM-dd'))\n",
    "        )\n",
    "    return df\n",
    "\n",
    "date_columns = ['Start', 'Completion']\n",
    "\n",
    "clinic_df = normalise_dates(clinic_df, date_columns)\n",
    "clinic_df.show(10)"
   ]
  },
  {
   "cell_type": "code",
   "execution_count": 0,
   "metadata": {
    "application/vnd.databricks.v1+cell": {
     "cellMetadata": {
      "byteLimit": 2048000,
      "rowLimit": 10000
     },
     "inputWidgets": {},
     "nuid": "5f8364a2-ecac-42d3-9871-a8b2f7b4be1b",
     "showTitle": false,
     "title": ""
    }
   },
   "outputs": [
    {
     "output_type": "stream",
     "name": "stdout",
     "output_type": "stream",
     "text": [
      "Row(Id='NCT03630471', Study Title='Effectiveness of a Problem-solving Intervention for Common Adolescent Mental Health Problems in India', Acronym='PRIDE', Status='COMPLETED', Conditions='Mental Health Issue (E.G.\", Depression, Psychosis, Personality Disorder,\" Substance Abuse)', Interventions=\"BEHAVIORAL: PRIDE 'Step 1' problem-solving intervention|BEHAVIORAL: Enhanced usual care\", Sponsor='Sangath', Collaborators='Harvard Medical School (HMS and HSDM)|London School of Hygiene and Tropical Medicine', Enrollment=None, Funder Type='OTHER', Type='INTERVENTIONAL', Study Design='Allocation: RANDOMIZED|Intervention Model: PARALLEL|Masking: DOUBLE (INVESTIGATOR\",\" OUTCOMES_ASSESSOR)|Primary Purpose: TREATMENT', Start=datetime.date(2018, 8, 20), Completion=datetime.date(2019, 2, 28))\nRow(Id='NCT05992571', Study Title='Oral Ketone Monoester Supplementation and Resting-state Brain Connectivity', Acronym=None, Status='RECRUITING', Conditions='Cerebrovascular Function|Cognition', Interventions='OTHER: Placebo|DIETARY_SUPPLEMENT: β-OHB', Sponsor='McMaster University', Collaborators='Alzheimer\\'s Society of Brant\", Haldimand Norfolk,\" Hamilton Halton', Enrollment=None, Funder Type='OTHER', Type='INTERVENTIONAL', Study Design='Allocation: RANDOMIZED|Intervention Model: CROSSOVER|Masking: TRIPLE (PARTICIPANT\", INVESTIGATOR,\" OUTCOMES_ASSESSOR)|Primary Purpose: BASIC_SCIENCE', Start=datetime.date(2023, 10, 25), Completion=datetime.date(2024, 8, 1))\nRow(Id='NCT00237471', Study Title='Impact of Tight Glycaemic Control in Acute Myocardial Infarction', Acronym=None, Status='TERMINATED', Conditions='Myocardial Infarct|Hyperglycemia', Interventions='DRUG: Insulin (tight blood glucose control)', Sponsor='Melbourne Health', Collaborators='National Health and Medical Research Council\",\" Australia|Bristol-Myers Squibb', Enrollment=None, Funder Type='OTHER', Type='INTERVENTIONAL', Study Design='Allocation: RANDOMIZED|Intervention Model: PARALLEL|Masking: NONE|Primary Purpose: TREATMENT', Start=datetime.date(2005, 10, 1), Completion=datetime.date(2006, 5, 1))\nRow(Id='NCT03820271', Study Title='New Prognostic Predictive Models of Mortality of Decompensated Cirrhotic Patients Waiting for Liver Transplantation', Acronym='SUPERMELD', Status='RECRUITING', Conditions='Decompensated Cirrhosis|Liver Transplantation', Interventions='OTHER: SuperMELD', Sponsor='Assistance Publique - Hôpitaux de Paris', Collaborators=None, Enrollment=None, Funder Type='OTHER', Type='INTERVENTIONAL', Study Design='Allocation: NA|Intervention Model: SINGLE_GROUP|Masking: NONE|Primary Purpose: OTHER', Start=datetime.date(2020, 10, 1), Completion=datetime.date(2023, 10, 1))\nRow(Id='NCT06229171', Study Title='InTake Care: Development and Validation of an Innovative\",\" Personalized Digital Health Solution for Medication Adherence Support in Cardiovascular Prevention', Acronym='InTakeCare', Status='NOT_YET_RECRUITING', Conditions='Hypertension|Treatment Adherence and Compliance|Digital Health', Interventions='OTHER: adherence support system based on a vocal assistant', Sponsor='Istituto Auxologico Italiano', Collaborators='Istituti Clinici Scientifici Maugeri SpA|Politecnico di Milano', Enrollment=None, Funder Type='OTHER', Type='INTERVENTIONAL', Study Design='Allocation: RANDOMIZED|Intervention Model: PARALLEL|Masking: NONE|Primary Purpose: OTHER', Start=datetime.date(2024, 10, 1), Completion=datetime.date(2026, 4, 1))\nRow(Id='NCT02945371', Study Title='Tailored Inhibitory Control Training to Reverse EA-linked Deficits in Mid-life', Acronym='REV', Status='COMPLETED', Conditions='Smoking|Alcohol Drinking|Prescription Drug Abuse|Substance-Related Disorders|Oral Intake Reduced', Interventions='BEHAVIORAL: Person-centered inhibitory control training|BEHAVIORAL: Active behavioral response training', Sponsor='University of Oregon', Collaborators=None, Enrollment=None, Funder Type='OTHER', Type='INTERVENTIONAL', Study Design='Allocation: RANDOMIZED|Intervention Model: PARALLEL|Masking: SINGLE (PARTICIPANT)|Primary Purpose: PREVENTION', Start=datetime.date(2014, 9, 1), Completion=datetime.date(2016, 5, 1))\nRow(Id='NCT01055171', Study Title='Neuromodulation of Trauma Memories in PTSD & Alcohol Dependence', Acronym=None, Status='COMPLETED', Conditions='Alcohol Dependence|PTSD', Interventions='DRUG: Propranolol|DRUG: Placebo', Sponsor='Medical University of South Carolina', Collaborators='National Institute on Alcohol Abuse and Alcoholism (NIAAA)', Enrollment=None, Funder Type='OTHER', Type='INTERVENTIONAL', Study Design='Allocation: RANDOMIZED|Intervention Model: PARALLEL|Masking: QUADRUPLE (PARTICIPANT\", CARE_PROVIDER, INVESTIGATOR,\" OUTCOMES_ASSESSOR)|Primary Purpose: TREATMENT', Start=datetime.date(2010, 1, 1), Completion=datetime.date(2012, 8, 1))\nRow(Id='NCT01125371', Study Title='Computerized Brief Alcohol Intervention (BI) for Binge Drinking HIV At-Risk and Infected Women', Acronym=None, Status='COMPLETED', Conditions='Alcohol; Harmful Use|Binge Drinking|Risk Behavior|HIV Infection', Interventions='BEHAVIORAL: Computerized brief alcohol intervention + IVR booster calls|BEHAVIORAL: Computerized brief alcohol intervention|BEHAVIORAL: Attention Control', Sponsor='Johns Hopkins University', Collaborators='National Institute on Alcohol Abuse and Alcoholism (NIAAA)', Enrollment=None, Funder Type='OTHER', Type='INTERVENTIONAL', Study Design='Allocation: RANDOMIZED|Intervention Model: PARALLEL|Masking: DOUBLE (INVESTIGATOR\",\" OUTCOMES_ASSESSOR)|Primary Purpose: TREATMENT', Start=datetime.date(2011, 10, 1), Completion=datetime.date(2016, 6, 7))\nRow(Id='NCT02554071', Study Title='Manitoba Pharmacist Initiated Smoking Cessation Pilot Project', Acronym=None, Status='COMPLETED', Conditions='Smoking Cessation', Interventions='OTHER: Pharmacist - Smoking Cessation Support', Sponsor='University of Manitoba', Collaborators='Govenment of Manitoba|Canadian Foundation for Pharmacy|Neighbourhood Pharmacy Association of Canada', Enrollment=None, Funder Type='OTHER', Type='INTERVENTIONAL', Study Design='Allocation: NA|Intervention Model: SINGLE_GROUP|Masking: NONE|Primary Purpose: SUPPORTIVE_CARE', Start=datetime.date(2014, 1, 1), Completion=datetime.date(2014, 11, 1))\nRow(Id='NCT01772771', Study Title='Molecular Testing for the MD Anderson Cancer Center Personalized Cancer Therapy Program', Acronym=None, Status='RECRUITING', Conditions='Glioma|Hematopoietic and Lymphoid Cell Neoplasm|Malignant Solid Neoplasm|Melanoma|Sarcoma', Interventions='PROCEDURE: Biospecimen Collection|OTHER: Genetic Testing|OTHER: Medical Chart Review', Sponsor='M.D. Anderson Cancer Center', Collaborators='National Cancer Institute (NCI)', Enrollment=None, Funder Type='OTHER', Type='OBSERVATIONAL', Study Design='Observational Model: |Time Perspective: p', Start=datetime.date(2012, 3, 1), Completion=datetime.date(2033, 3, 1))\nRow(Id='NCT02633371', Study Title='A Pilot Study Exploring the Efficacy and Safety of Topical Oxybutynin 3% Gel for Primary Focal Hyperhidrosis in Adolescents and Young Adults', Acronym=None, Status='COMPLETED', Conditions='Hyperhidrosis', Interventions='DRUG: Oxybutynin 3% gel', Sponsor='University of Colorado\",\" Denver', Collaborators='Society for Pediatric Dermatology', Enrollment=None, Funder Type='OTHER', Type='INTERVENTIONAL', Study Design='Allocation: NA|Intervention Model: SINGLE_GROUP|Masking: NONE|Primary Purpose: TREATMENT', Start=datetime.date(2016, 2, 1), Completion=datetime.date(2017, 5, 1))\nRow(Id='NCT03400371', Study Title='Biology of Juvenile Myoclonic Epilepsy', Acronym='BIOJUME', Status='RECRUITING', Conditions='Juvenile Myoclonic Epilepsy', Interventions='OTHER: Blood draw|OTHER: Existing samples', Sponsor=\"King's College London\", Collaborators='King\\'s College Hospital NHS Trust|Charles University\",\" Czech Republic|Hopital Universitaire Robert-Debre|Vestre Viken Hospital Trust|The Hospital for Sick Children|Cardiff University|Odense University Hospital', Enrollment=None, Funder Type='OTHER', Type='OBSERVATIONAL', Study Design='Observational Model: |Time Perspective: p', Start=datetime.date(2017, 7, 13), Completion=datetime.date(2026, 6, 30))\nRow(Id='NCT00120471', Study Title='Safety and Blood Levels of Tenofovir Disoproxil Fumarate in HIV Infected Pregnant Women and Their Babies', Acronym=None, Status='COMPLETED', Conditions='HIV Infections', Interventions='DRUG: Tenofovir disoproxil fumarate|DRUG: Tenofovir disoproxil fumarate|DRUG: Tenofovir disoproxil fumarate', Sponsor='National Institute of Allergy and Infectious Diseases (NIAID)', Collaborators='Eunice Kennedy Shriver National Institute of Child Health and Human Development (NICHD)|National Institute on Drug Abuse (NIDA)|National Institute of Mental Health (NIMH)', Enrollment=None, Funder Type='NIH', Type='INTERVENTIONAL', Study Design='Allocation: RANDOMIZED|Intervention Model: PARALLEL|Masking: NONE|Primary Purpose: PREVENTION', Start=datetime.date(2006, 11, 1), Completion=datetime.date(2011, 12, 1))\nRow(Id='NCT04784871', Study Title='Promoting Wellbeing: The Five Ways to All Intervention', Acronym='5WaysA', Status='COMPLETED', Conditions='Wellbeing|Health Attitude|Quality of Life', Interventions='BEHAVIORAL: 5waysA Intervention|BEHAVIORAL: 5waysA Active wait-list control|BEHAVIORAL: 5waysA Inactive wait-list control', Sponsor='University of Oslo', Collaborators='Norwegian Institute of Public Health|Norwegian Council for Mental Health|The Dam Foundation', Enrollment=None, Funder Type='OTHER', Type='INTERVENTIONAL', Study Design='Allocation: RANDOMIZED|Intervention Model: PARALLEL|Masking: NONE|Primary Purpose: PREVENTION', Start=datetime.date(2021, 3, 4), Completion=datetime.date(2023, 2, 24))\nRow(Id='NCT02383771', Study Title='Reversal of the Anti-platelet Effects of Ticagrelor', Acronym='REVERSAL', Status='COMPLETED', Conditions='Coronary Artery Disease', Interventions='DRUG: Ticagrelor|DRUG: Aspirin + Ticagrelor|DRUG: Control|DRUG: Aspirin + Ticagrelor', Sponsor='The First Affiliated Hospital with Nanjing Medical University', Collaborators='National Natural Science Foundation of China', Enrollment=None, Funder Type='OTHER', Type='INTERVENTIONAL', Study Design='Allocation: RANDOMIZED|Intervention Model: PARALLEL|Masking: SINGLE (INVESTIGATOR)|Primary Purpose: TREATMENT', Start=datetime.date(2015, 3, 1), Completion=datetime.date(2016, 12, 1))\nRow(Id='NCT03269071', Study Title='Neural Stem Cell Transplantation in Multiple Sclerosis Patients', Acronym='STEMS', Status='COMPLETED', Conditions='Progressive Multiple Sclerosis', Interventions='DRUG: human fetal-derived Neural Stem Cells (hNSCs)', Sponsor='IRCCS San Raffaele', Collaborators='Fondazione Italiana Sclerosi Multipla', Enrollment=None, Funder Type='OTHER', Type='INTERVENTIONAL', Study Design='Allocation: NON_RANDOMIZED|Intervention Model: SEQUENTIAL|Masking: NONE|Primary Purpose: TREATMENT', Start=datetime.date(2017, 5, 17), Completion=datetime.date(2021, 7, 31))\nRow(Id='NCT01659671', Study Title='RCT of the Effect of Uvulopalatopharyngoplasty Compared to Expectancy in Patients With Obstructive Sleep Apnea', Acronym='SKUP3', Status='COMPLETED', Conditions='Obstructive Sleep Apnea Syndrome', Interventions='PROCEDURE: Uvulopalatopharyngoplasty', Sponsor='Karolinska University Hospital', Collaborators='Karolinska Institutet', Enrollment=None, Funder Type='OTHER', Type='INTERVENTIONAL', Study Design='Allocation: RANDOMIZED|Intervention Model: PARALLEL|Masking: SINGLE (OUTCOMES_ASSESSOR)|Primary Purpose: TREATMENT', Start=datetime.date(2007, 6, 1), Completion=datetime.date(2014, 5, 1))\nRow(Id='NCT04765371', Study Title='Comparison Between Prednisolone and Dexamethasone on Mortality in Patients on Oxygen Therapy\",\" With CoViD-19', Acronym='COPreDex', Status='COMPLETED', Conditions='Coronavirus Infection', Interventions='DRUG: DEXAMETHASONE|DRUG: PREDNISOLONE', Sponsor='Hôpital NOVO', Collaborators=None, Enrollment=None, Funder Type='OTHER', Type='INTERVENTIONAL', Study Design='Allocation: RANDOMIZED|Intervention Model: PARALLEL|Masking: NONE|Primary Purpose: TREATMENT', Start=datetime.date(2021, 3, 3), Completion=datetime.date(2022, 5, 13))\nRow(Id='NCT02830971', Study Title='Developing a Standardized Learning Curve', Acronym=None, Status='COMPLETED', Conditions='Registered Nurses|Nursing Personnel|Motor Skills', Interventions='PROCEDURE: Doing Different ICU techniques and skills', Sponsor='Baqiyatallah Medical Sciences University', Collaborators='Shahid Beheshti University|Tehran University of Medical Sciences', Enrollment=None, Funder Type='OTHER', Type='INTERVENTIONAL', Study Design='Allocation: NA|Intervention Model: SINGLE_GROUP|Masking: NONE|Primary Purpose: BASIC_SCIENCE', Start=datetime.date(2016, 7, 1), Completion=datetime.date(2021, 4, 12))\nRow(Id='NCT00416871', Study Title='Interleukin-2 and Interferon in Treating Patients With Metastatic Kidney Cancer', Acronym=None, Status='COMPLETED', Conditions='Kidney Cancer', Interventions='BIOLOGICAL: aldesleukin|BIOLOGICAL: recombinant interferon alfa', Sponsor='Centre Leon Berard', Collaborators=None, Enrollment=None, Funder Type='OTHER', Type='INTERVENTIONAL', Study Design='Allocation: RANDOMIZED|Intervention Model: |Masking: NONE|Primary Purpose: TREATMENT', Start=None, Completion=datetime.date(2006, 2, 1))\nRow(Id='NCT05900271', Study Title='Dutch-Depression Outcome Trial Comparing 5 Day Multi Daily Neuronavigated Theta Burst Sessions With 6 Weeks rTMS', Acronym='DDOT', Status='ACTIVE_NOT_RECRUITING', Conditions='Treatment Resistant Depression', Interventions='DEVICE: rTMS|DEVICE: iTBS', Sponsor='Amsterdam UMC\",\" location VUmc', Collaborators='Radboud University Medical Center|University Medical Center Groningen|Maastricht University|Trimbos|Academisch Medisch Centrum - Universiteit van Amsterdam (AMC-UvA)', Enrollment=None, Funder Type='OTHER', Type='INTERVENTIONAL', Study Design='Allocation: RANDOMIZED|Intervention Model: PARALLEL|Masking: SINGLE (OUTCOMES_ASSESSOR)|Primary Purpose: TREATMENT', Start=datetime.date(2023, 11, 15), Completion=datetime.date(2027, 12, 1))\nRow(Id='NCT02469571', Study Title='Modulation of Gut Microbiota in Early Sepsis: A Pilot Study', Acronym='MGM-sepsis', Status='COMPLETED', Conditions='Sepsis', Interventions='DIETARY_SUPPLEMENT: Winclove 607|DIETARY_SUPPLEMENT: Placebo', Sponsor='Medical University of Graz', Collaborators=None, Enrollment=None, Funder Type='OTHER', Type='INTERVENTIONAL', Study Design='Allocation: RANDOMIZED|Intervention Model: PARALLEL|Masking: QUADRUPLE (PARTICIPANT\", CARE_PROVIDER, INVESTIGATOR,\" OUTCOMES_ASSESSOR)|Primary Purpose: PREVENTION', Start=datetime.date(2015, 9, 1), Completion=datetime.date(2018, 3, 1))\nRow(Id='NCT05807971', Study Title='Assessment of Safety\", Tolerability, Pharmacokinetics,\" and Pharmacodynamics of ATH-063 in Healthy Subjects', Acronym=None, Status='RECRUITING', Conditions='Inflammatory Bowel Diseases|Crohn Disease|Ulcerative Colitis|Autoimmune Diseases', Interventions='DRUG: ATH-063|DRUG: Placebo', Sponsor='Athos Therapeutics Inc', Collaborators='Syneos Health|Athos Therapeutics Australia Pty Ltd', Enrollment=None, Funder Type='INDUSTRY', Type='INTERVENTIONAL', Study Design='Allocation: RANDOMIZED|Intervention Model: SEQUENTIAL|Masking: QUADRUPLE (PARTICIPANT\", CARE_PROVIDER, INVESTIGATOR,\" OUTCOMES_ASSESSOR)|Primary Purpose: TREATMENT', Start=datetime.date(2023, 4, 6), Completion=datetime.date(2024, 2, 8))\nRow(Id='NCT02083471', Study Title=\"Cow's Milk and Hen's Egg Hyposensitization in Adults\", Acronym=None, Status='UNKNOWN', Conditions=\"Egg Allergy|Cow's Milk Allergy\", Interventions=\"DIETARY_SUPPLEMENT: Specific Oral Tolerance Induction with Egg or Cow's milk\", Sponsor='Turku University Hospital', Collaborators=None, Enrollment=None, Funder Type='OTHER_GOV', Type='INTERVENTIONAL', Study Design='Allocation: RANDOMIZED|Intervention Model: PARALLEL|Masking: NONE|Primary Purpose: TREATMENT', Start=datetime.date(2015, 4, 1), Completion=datetime.date(2017, 5, 1))\nRow(Id='NCT01062971', Study Title='Clinical Study of A Fixed Combination of Timolol-Brimonidine-Dorzolamide', Acronym=None, Status='COMPLETED', Conditions='Primary Open Angle Glaucoma|Ocular Hypertension', Interventions='DRUG: dorzolamide-timolol-brimonidine', Sponsor='Laboratorios Sophia S.A de C.V.', Collaborators=None, Enrollment=None, Funder Type='INDUSTRY', Type='INTERVENTIONAL', Study Design='Allocation: RANDOMIZED|Intervention Model: PARALLEL|Masking: DOUBLE (PARTICIPANT\",\" INVESTIGATOR)|Primary Purpose: TREATMENT', Start=datetime.date(2006, 2, 1), Completion=datetime.date(2008, 6, 1))\nRow(Id='NCT03928171', Study Title='The Effect of Intra-abdominal Pressure on Peritoneal Perfusion During Laparoscopic Colorectal Surgery', Acronym='PERFUSION', Status='COMPLETED', Conditions='Laparoscopic Surgery|Pneumoperitoneum', Interventions='OTHER: Intra-abdominal pressure during laparoscopy', Sponsor='Radboud University Medical Center', Collaborators=None, Enrollment=None, Funder Type='OTHER', Type='INTERVENTIONAL', Study Design='Allocation: RANDOMIZED|Intervention Model: PARALLEL|Masking: TRIPLE (PARTICIPANT\", CARE_PROVIDER,\" OUTCOMES_ASSESSOR)|Primary Purpose: TREATMENT', Start=datetime.date(2018, 6, 13), Completion=datetime.date(2018, 12, 24))\nRow(Id='NCT00897871', Study Title='Evaluating the Side Effects and How Well Anticancer Drugs Work in Very Young Patients With Cancer', Acronym=None, Status='UNKNOWN', Conditions='Unspecified Childhood Solid Tumor\",\" Protocol Specific', Interventions='DRUG: carboplatin|DRUG: cyclophosphamide|DRUG: etoposide phosphate|GENETIC: gene expression analysis|GENETIC: polymorphism analysis|OTHER: pharmacological study', Sponsor=\"Children's Cancer and Leukaemia Group\", Collaborators=None, Enrollment=None, Funder Type='OTHER', Type='OBSERVATIONAL', Study Design='Observational Model: |Time Perspective: p', Start=datetime.date(2007, 2, 1), Completion=None)\nRow(Id='NCT00848471', Study Title='Validation of the Quark RMR Calorimeter (Cosmed) Versus Deltatrac II (GE Health Care Clinical Systems)', Acronym='Protocol Quark', Status='UNKNOWN', Conditions='Healthy|Obesity', Interventions='DEVICE: Quark RMR|DEVICE: Deltatrac II', Sponsor='Hospices Civils de Lyon', Collaborators='Centre de Recherche en Nutrition Humaine Rhone-Alpe', Enrollment=None, Funder Type='OTHER', Type='INTERVENTIONAL', Study Design='Allocation: RANDOMIZED|Intervention Model: CROSSOVER|Masking: NONE|Primary Purpose: HEALTH_SERVICES_RESEARCH', Start=datetime.date(2009, 1, 1), Completion=datetime.date(2009, 12, 1))\nRow(Id='NCT06135571', Study Title='Study on the No.253 Lymph Node Metastasis Patterns in Left-Sided Colon and Rectal Cancer', Acronym=None, Status='RECRUITING', Conditions='Colorectal Cancer|Lymph Node Metastasis', Interventions='PROCEDURE: Laparoscopic colorectal surgery', Sponsor='Cancer Institute and Hospital\",\" Chinese Academy of Medical Sciences', Collaborators='Peking Union Medical College Hospital|Peking University Cancer Hospital & Institute|China-Japan Friendship Hospital|Chinese PLA General Hospital', Enrollment=None, Funder Type='OTHER', Type='OBSERVATIONAL', Study Design='Observational Model: |Time Perspective: p', Start=datetime.date(2023, 9, 1), Completion=datetime.date(2026, 9, 1))\nRow(Id='NCT01189071', Study Title='Preoperative Use of Darifenacin (Enablex) to Alleviate Postoperative Ureteral Stent Pain', Acronym=None, Status='TERMINATED', Conditions='Overactive Bladder|Renal Colic|Pain\",\" Postoperative', Interventions='DRUG: Darifenacin', Sponsor='University of Missouri-Columbia', Collaborators=None, Enrollment=None, Funder Type='OTHER', Type='INTERVENTIONAL', Study Design='Allocation: RANDOMIZED|Intervention Model: PARALLEL|Masking: DOUBLE (PARTICIPANT\",\" INVESTIGATOR)|Primary Purpose: TREATMENT', Start=datetime.date(2009, 8, 1), Completion=datetime.date(2011, 7, 1))\nRow(Id='NCT00728871', Study Title='The Correlations Between HPV L1-Specific Immunologic Responses in Cervical Cancer and Cervical Intraepithelial Neoplasia (CIN) Patients and Their Prognosis', Acronym=None, Status='UNKNOWN', Conditions='Cervical Cancer|Cervical Intraepithelial Neoplasia', Interventions='PROCEDURE: peripheral blood isolation', Sponsor='National Taiwan University Hospital', Collaborators=None, Enrollment=None, Funder Type='OTHER', Type='INTERVENTIONAL', Study Design='Allocation: NA|Intervention Model: SINGLE_GROUP|Masking: NONE|Primary Purpose: BASIC_SCIENCE', Start=datetime.date(2005, 12, 1), Completion=datetime.date(2011, 12, 1))\nRow(Id='NCT05592171', Study Title='Occlusafe® Assisted MW Alone or With DEB-TACE Compared to MW With DEB-TACE in the Treatment of HCC', Acronym='SEASON-HCC', Status='RECRUITING', Conditions='HCC', Interventions='PROCEDURE: Microwave ablation + Occlusafe + DEB-TACE|PROCEDURE: Microwave ablation + Occlusafe|PROCEDURE: Microwave ablation + DEB-TACE', Sponsor='University of Pisa', Collaborators='Azienda Ospedaliera Città della Salute e della Scienza di Torino|Fondazione Policlinico Universitario Agostino Gemelli IRCCS|Azienda Ospedaliera Universitaria Policlinico|IRCCS Azienda Ospedaliero-Universitaria di Bologna|Terumo Europe N.V.|Azienda Ospedaliero\",\" Universitaria Pisana', Enrollment=None, Funder Type='OTHER', Type='INTERVENTIONAL', Study Design='Allocation: RANDOMIZED|Intervention Model: PARALLEL|Masking: NONE|Primary Purpose: TREATMENT', Start=datetime.date(2022, 10, 17), Completion=datetime.date(2025, 10, 17))\nRow(Id='NCT00520871', Study Title='The Water-Blueberry Study', Acronym=None, Status='COMPLETED', Conditions='Cardiovascular Disease', Interventions='DRUG: Blueberry juice', Sponsor='University of Oslo', Collaborators='Ullevaal University Hospital', Enrollment=None, Funder Type='OTHER', Type='INTERVENTIONAL', Study Design='Allocation: RANDOMIZED|Intervention Model: PARALLEL|Masking: SINGLE|Primary Purpose: PREVENTION', Start=datetime.date(2003, 3, 1), Completion=datetime.date(2004, 4, 1))\nRow(Id='NCT05913271', Study Title='Study on the Correlation Between NAT2(N-acetyltransferase2) Gene Polymorphism and CrCl(Creatine Clreance) and the Efficacy and Safety of Levosimendan in Patients With Severe Heart Failure', Acronym=None, Status='RECRUITING', Conditions='Heart Failure|Levosimendan|Efficacy|Safety', Interventions=None, Sponsor='Yi Han', Collaborators='Qianfoshan Hospital', Enrollment=None, Funder Type='OTHER', Type='OBSERVATIONAL', Study Design='Observational Model: |Time Perspective: p', Start=datetime.date(2023, 5, 30), Completion=datetime.date(2025, 5, 30))\nRow(Id='NCT04006171', Study Title='Comparison of Serum C Type Natriuretic Peptide Levels Between Polycystic Ovary Syndrome Patients and Healthy Women', Acronym='CNP', Status='COMPLETED', Conditions='Polycystic Ovary Syndrome|c Type Natriuretic Peptide|Menstrual Irregularity|Hyperandrogenism', Interventions='DIAGNOSTIC_TEST: C type natriuretic peptide', Sponsor='Near East University\",\" Turkey', Collaborators=None, Enrollment=None, Funder Type='OTHER', Type='INTERVENTIONAL', Study Design='Allocation: NON_RANDOMIZED|Intervention Model: PARALLEL|Masking: NONE|Primary Purpose: DIAGNOSTIC', Start=datetime.date(2019, 7, 15), Completion=datetime.date(2020, 9, 1))\nRow(Id='NCT04370171', Study Title='Management of Diabetic Patients With Telemedicine in the Context of the Covid-19 Epidemic', Acronym='TeleCoviDiab', Status='COMPLETED', Conditions='Diabetes|Covid-19', Interventions='OTHER: care modalities|OTHER: Teleconsultation either by phone or by computer consultation', Sponsor='University Hospital\", Strasbourg,\" France', Collaborators=None, Enrollment=None, Funder Type='OTHER', Type='OBSERVATIONAL', Study Design='Observational Model: |Time Perspective: p', Start=datetime.date(2020, 5, 4), Completion=datetime.date(2020, 5, 29))\nRow(Id='NCT04340271', Study Title='The Clinical Utility of Extracorporeal Shock Wave Therapy on Burns', Acronym=None, Status='COMPLETED', Conditions='Burn Scar', Interventions='OTHER: Extracorporeal shock wave therapy|OTHER: conventional occupational therapy', Sponsor='Hangang Sacred Heart Hospital', Collaborators=None, Enrollment=None, Funder Type='OTHER', Type='INTERVENTIONAL', Study Design='Allocation: RANDOMIZED|Intervention Model: PARALLEL|Masking: DOUBLE (PARTICIPANT\",\" OUTCOMES_ASSESSOR)|Primary Purpose: TREATMENT', Start=datetime.date(2020, 4, 15), Completion=datetime.date(2020, 5, 31))\nRow(Id='NCT03075371', Study Title='Homeostatic and Non-homeostatic Processing of Food Cues in Anorexia Nervosa', Acronym=None, Status='COMPLETED', Conditions='Anorexia Nervosa|Healthy', Interventions='OTHER: Glucose|OTHER: Placebo', Sponsor='University of Heidelberg Medical Center', Collaborators='German Research Foundation', Enrollment=None, Funder Type='OTHER', Type='INTERVENTIONAL', Study Design='Allocation: NON_RANDOMIZED|Intervention Model: CROSSOVER|Masking: SINGLE (PARTICIPANT)|Primary Purpose: BASIC_SCIENCE', Start=datetime.date(2014, 9, 1), Completion=datetime.date(2019, 2, 1))\nRow(Id='NCT05966571', Study Title='Ovarian Innervation Study in Patients With Polycystic Ovary Syndrome (PCOS)', Acronym=None, Status='RECRUITING', Conditions='Polycystic Ovary Syndrome', Interventions='PROCEDURE: Ovary Biopsie', Sponsor='Albanian University', Collaborators=None, Enrollment=None, Funder Type='OTHER', Type='OBSERVATIONAL', Study Design='Observational Model: |Time Perspective: p', Start=datetime.date(2023, 7, 1), Completion=datetime.date(2024, 12, 1))\nRow(Id='NCT03313271', Study Title='China Lymphoma Patient Registry Study', Acronym='CLAP', Status='RECRUITING', Conditions='Lymphoma', Interventions=None, Sponsor='Jun Zhu', Collaborators='Peking University First Hospital|Tianjin Medical University Cancer Hospital|Zhejiang Cancer Hospital|Heilongjiang Cancer Hospital|Sipai(Beijing)Network Technology Co Ltd', Enrollment=None, Funder Type='OTHER', Type='OBSERVATIONAL', Study Design='Observational Model: |Time Perspective: p', Start=datetime.date(2017, 5, 17), Completion=datetime.date(2027, 8, 30))\nRow(Id='NCT03490071', Study Title='Long-term Follow up of Patients With Longstanding Hip and Groin Pain', Acronym='Lund LHGP', Status='RECRUITING', Conditions='Hip Pain Chronic', Interventions=None, Sponsor='Lund University', Collaborators=None, Enrollment=None, Funder Type='OTHER', Type='OBSERVATIONAL', Study Design='Observational Model: |Time Perspective: p', Start=datetime.date(2018, 1, 1), Completion=datetime.date(2024, 12, 31))\nRow(Id='NCT05801471', Study Title='Clinical Evaluation of Visual Field Change in Glaucoma: an Assessment of Different Models of Progression', Acronym=None, Status='RECRUITING', Conditions='Glaucoma', Interventions=None, Sponsor='Centervue SpA', Collaborators=None, Enrollment=None, Funder Type='INDUSTRY', Type='OBSERVATIONAL', Study Design='Observational Model: |Time Perspective: p', Start=datetime.date(2022, 5, 6), Completion=datetime.date(2025, 11, 6))\nRow(Id='NCT00266071', Study Title='Study of the Cutaneous Microcirculation in Elderly People', Acronym=None, Status='UNKNOWN', Conditions='Elderly People', Interventions='BEHAVIORAL: Cutaneous response', Sponsor='University Hospital\",\" Angers', Collaborators=None, Enrollment=None, Funder Type='OTHER_GOV', Type='OBSERVATIONAL', Study Design='Observational Model: |Time Perspective: p', Start=datetime.date(2005, 12, 1), Completion=None)\nRow(Id='NCT04405271', Study Title='TAF/FTC for Pre-exposure Prophylaxis of COVID-19 in Healthcare Workers (CoviPrep Study)', Acronym=None, Status='UNKNOWN', Conditions='Healthcare Workers|COVID-19|SARS-CoV 2', Interventions='DRUG: Emtricitabine/Tenofovir Alafenamide 200 MG-25 MG Oral Tablet|DRUG: Placebo', Sponsor='Hospital Italiano de Buenos Aires', Collaborators='Sociedad Argentina de Infectología (SADI) (Argentine Society of Infectious Diseases)', Enrollment=None, Funder Type='OTHER', Type='INTERVENTIONAL', Study Design='Allocation: RANDOMIZED|Intervention Model: PARALLEL|Masking: QUADRUPLE (PARTICIPANT\", CARE_PROVIDER, INVESTIGATOR,\" OUTCOMES_ASSESSOR)|Primary Purpose: PREVENTION', Start=datetime.date(2020, 7, 31), Completion=datetime.date(2020, 11, 15))\nRow(Id='NCT02121171', Study Title='Combined Trab+Trab Versus Combined Trab+Trab With Subconjunctival Implantation of Ologen for Primary Congenital Glaucoma', Acronym=None, Status='UNKNOWN', Conditions='Congenital Glaucoma', Interventions='DEVICE: Ologen Collagen Matrix|PROCEDURE: Combined trabeculotomy-trabeculectomy', Sponsor='National Centre of Ophthalmology named after academician Zarifa Aliyeva', Collaborators='Aeon Astron Europe B.V.', Enrollment=None, Funder Type='OTHER_GOV', Type='INTERVENTIONAL', Study Design='Allocation: RANDOMIZED|Intervention Model: PARALLEL|Masking: NONE|Primary Purpose: TREATMENT', Start=datetime.date(2010, 9, 1), Completion=datetime.date(2015, 9, 1))\nRow(Id='NCT01068171', Study Title='Developing a Diabetic Foot Ulcer Protocol', Acronym=None, Status='WITHDRAWN', Conditions='Diabetic Foot Ulcers', Interventions='OTHER: type of footwear|OTHER: collagen dressing with and without silver', Sponsor='The University of Texas Health Science Center\",\" Houston', Collaborators='Harris County Hospital District|Baylor College of Medicine', Enrollment=None, Funder Type='OTHER', Type='INTERVENTIONAL', Study Design='Allocation: RANDOMIZED|Intervention Model: PARALLEL|Masking: NONE|Primary Purpose: TREATMENT', Start=datetime.date(2010, 5, 1), Completion=datetime.date(2012, 6, 1))\nRow(Id='NCT04875871', Study Title='Particle-based Partial Tumor Irradiation of Unresectable Bulky Tumors', Acronym='PARTICLE-PATHY', Status='RECRUITING', Conditions='Cancer', Interventions='RADIATION: Particle radiotherapy|DIAGNOSTIC_TEST: Magnetic resonance imaging|DIAGNOSTIC_TEST: Computertomography|DIAGNOSTIC_TEST: Copper-64-Diacetyl-bis (N4-methylthiosemicarbazone) Positron Emission Tomography-Computer Tomography (64Cu-ATSM-PET-CT)|DIAGNOSTIC_TEST: 18-F-FluorDesoxyGlukose Positron Emission Tomography-Computer Tomography (18F-FDG-PET-CT)|DIAGNOSTIC_TEST: Blood sampling', Sponsor='EBG MedAustron GmbH', Collaborators='CW-Research & Management GmbH|Medical University of Vienna|Landesklinkum Wiener Neustadt|Klinik Ottakring', Enrollment=None, Funder Type='INDUSTRY', Type='INTERVENTIONAL', Study Design='Allocation: NON_RANDOMIZED|Intervention Model: PARALLEL|Masking: NONE|Primary Purpose: TREATMENT', Start=datetime.date(2021, 11, 11), Completion=datetime.date(2024, 12, 1))\nRow(Id='NCT00553371', Study Title='Follow-up Evaluation Using CT Scans in Patients Who Have Been Treated For Metastatic Testicular Cancer', Acronym=None, Status='UNKNOWN', Conditions='Testicular Germ Cell Tumor', Interventions='OTHER: biomarker analysis|PROCEDURE: computed tomography', Sponsor='Royal Marsden NHS Foundation Trust', Collaborators=None, Enrollment=None, Funder Type='OTHER', Type='OBSERVATIONAL', Study Design='Observational Model: |Time Perspective: p', Start=datetime.date(2006, 4, 1), Completion=None)\nRow(Id='NCT04674371', Study Title='German Point Prevalence Study on CVC', Acronym=None, Status='COMPLETED', Conditions='Data Collection', Interventions='OTHER: central venous catheter insertion', Sponsor='Wolfram Schummer\", MD,\" PhD', Collaborators=None, Enrollment=None, Funder Type='OTHER', Type='OBSERVATIONAL', Study Design='Observational Model: |Time Perspective: p', Start=datetime.date(2022, 5, 17), Completion=datetime.date(2022, 5, 20))\nRow(Id='NCT02321371', Study Title='Effect of Goal Directed Ammonia Lowering Therapy in Acute on Chronic Liver Failure Patients With Hepatic Encephalopathy.', Acronym=None, Status='COMPLETED', Conditions='Acute-On-Chronic Liver Failure', Interventions='DRUG: Lactulose + Rifaximin|DRUG: Lactulose', Sponsor='Institute of Liver and Biliary Sciences\",\" India', Collaborators=None, Enrollment=None, Funder Type='OTHER', Type='INTERVENTIONAL', Study Design='Allocation: RANDOMIZED|Intervention Model: PARALLEL|Masking: NONE|Primary Purpose: TREATMENT', Start=datetime.date(2014, 10, 19), Completion=datetime.date(2016, 1, 31))\n"
     ]
    }
   ],
   "source": [
    "clinicRDD = clinic_df.rdd\n",
    "\n",
    "for row in clinicRDD.take(50):\n",
    "    print(row)"
   ]
  },
  {
   "cell_type": "code",
   "execution_count": 0,
   "metadata": {
    "application/vnd.databricks.v1+cell": {
     "cellMetadata": {
      "byteLimit": 2048000,
      "rowLimit": 10000
     },
     "inputWidgets": {},
     "nuid": "9f89e27a-b5cc-4f4d-a7dd-bfebc2c7f63c",
     "showTitle": false,
     "title": ""
    }
   },
   "outputs": [
    {
     "output_type": "stream",
     "name": "stdout",
     "output_type": "stream",
     "text": [
      "The number of studies is:  483420\n"
     ]
    }
   ],
   "source": [
    "number_of_studies = clinicRDD.map(lambda x:x[0]) \\\n",
    "                            .distinct() \\\n",
    "                            .count()\n",
    "\n",
    "print(\"The number of studies is: \", number_of_studies)"
   ]
  },
  {
   "cell_type": "code",
   "execution_count": 0,
   "metadata": {
    "application/vnd.databricks.v1+cell": {
     "cellMetadata": {
      "byteLimit": 2048000,
      "rowLimit": 10000
     },
     "inputWidgets": {},
     "nuid": "c75c1aa1-ec96-4c1e-a787-951c9daa36da",
     "showTitle": false,
     "title": ""
    }
   },
   "outputs": [
    {
     "output_type": "stream",
     "name": "stdout",
     "output_type": "stream",
     "text": [
      "Study Types and Frequencies: \n('INTERVENTIONAL', 371382)\n('OBSERVATIONAL', 110221)\n('EXPANDED_ACCESS', 928)\n(None, 889)\n"
     ]
    }
   ],
   "source": [
    "study_types = clinicRDD.map(lambda x: (x[10], 1)) \\\n",
    "                       .reduceByKey(lambda a, b: a + b) \\\n",
    "                       .sortBy(lambda x: x[1], ascending=False) \\\n",
    "                       .collect()\n",
    "\n",
    "print(\"Study Types and Frequencies: \")\n",
    "for study_type in study_types:\n",
    "    print(study_type)"
   ]
  },
  {
   "cell_type": "code",
   "execution_count": 0,
   "metadata": {
    "application/vnd.databricks.v1+cell": {
     "cellMetadata": {
      "byteLimit": 2048000,
      "rowLimit": 10000
     },
     "inputWidgets": {},
     "nuid": "aa8a77b8-b04e-4c77-af6b-6afcc598d1a1",
     "showTitle": false,
     "title": ""
    }
   },
   "outputs": [
    {
     "output_type": "stream",
     "name": "stdout",
     "output_type": "stream",
     "text": [
      "Top 5 Conditions and Frequencies:\nHealthy 9731\nBreast Cancer 7502\nObesity 6549\nStroke 4071\nHypertension 4020\n"
     ]
    }
   ],
   "source": [
    "top_5_conditions = clinicRDD \\\n",
    "                      .filter(lambda x: x[4] is not None) \\\n",
    "                      .flatMap(lambda x: x[4].split('|')) \\\n",
    "                      .map(lambda condition: (condition, 1)) \\\n",
    "                      .reduceByKey(lambda a, b: a + b) \\\n",
    "                      .sortBy(lambda x: x[1], ascending=False) \\\n",
    "                      .take(5)\n",
    "\n",
    "print(\"Top 5 Conditions and Frequencies:\")\n",
    "for condition, count in top_5_conditions:\n",
    "    print(condition, count)"
   ]
  },
  {
   "cell_type": "code",
   "execution_count": 0,
   "metadata": {
    "application/vnd.databricks.v1+cell": {
     "cellMetadata": {
      "byteLimit": 2048000,
      "rowLimit": 10000
     },
     "inputWidgets": {},
     "nuid": "19fb5497-c8d3-4f07-a9f3-4fe39bc78a00",
     "showTitle": false,
     "title": ""
    }
   },
   "outputs": [
    {
     "output_type": "stream",
     "name": "stdout",
     "output_type": "stream",
     "text": [
      "Top 5 Conditions and Frequencies:\nBreast Cancer 7502\nObesity 6549\nStroke 4071\nHypertension 4020\nDepression 3910\n"
     ]
    }
   ],
   "source": [
    "top_5_conditions = clinicRDD \\\n",
    "                      .filter(lambda x: x[4] is not None) \\\n",
    "                      .filter(lambda x: x[4] != 'Healthy') \\\n",
    "                      .flatMap(lambda x: x[4].split('|')) \\\n",
    "                      .map(lambda condition: (condition, 1)) \\\n",
    "                      .reduceByKey(lambda a, b: a + b) \\\n",
    "                      .sortBy(lambda x: x[1], ascending=False) \\\n",
    "                      .take(5)\n",
    "\n",
    "print(\"Top 5 Conditions and Frequencies:\")\n",
    "for condition, count in top_5_conditions:\n",
    "    print(condition, count)"
   ]
  },
  {
   "cell_type": "code",
   "execution_count": 0,
   "metadata": {
    "application/vnd.databricks.v1+cell": {
     "cellMetadata": {
      "byteLimit": 2048000,
      "rowLimit": 10000
     },
     "inputWidgets": {},
     "nuid": "bc04a192-ce40-49b6-83a8-ef1e20b83e41",
     "showTitle": false,
     "title": ""
    }
   },
   "outputs": [
    {
     "output_type": "execute_result",
     "data": {
      "text/plain": [
       "['\"Company\",\"Parent_Company\",\"Penalty_Amount\",\"Subtraction_From_Penalty\",\"Penalty_Amount_Adjusted_For_Eliminating_Multiple_Counting\",\"Penalty_Year\",\"Penalty_Date\",\"Offense_Group\",\"Primary_Offense\",\"Secondary_Offense\",\"Description\",\"Level_of_Government\",\"Action_Type\",\"Agency\",\"Civil/Criminal\",\"Prosecution_Agreement\",\"Court\",\"Case_ID\",\"Private_Litigation_Case_Title\",\"Lawsuit_Resolution\",\"Facility_State\",\"City\",\"Address\",\"Zip\",\"NAICS_Code\",\"NAICS_Translation\",\"HQ_Country_of_Parent\",\"HQ_State_of_Parent\",\"Ownership_Structure\",\"Parent_Company_Stock_Ticker\",\"Major_Industry_of_Parent\",\"Specific_Industry_of_Parent\",\"Info_Source\",\"Notes\"',\n",
       " '\"Abbott Laboratories\",\"Abbott Laboratories\",\"$5,475,000\",\"$0\",\"$5,475,000\",\"2013\",\"20131227\",\"government-contracting-related offenses\",\"False Claims Act and related\",\"kickbacks and bribery\",\"Abbott Laboratories agreed to $5.475 million to resolve allegations that it violated the False Claims Act by paying kickbacks to induce doctors to implant the company\\'s carotid, biliary and peripheral vascular products.\",\"federal\",\"agency action\",\"Justice Department Civil Division\",\"civil\",\"\",\"\",\"\",\"\",\"\",\"\",\"\",\"\",\"\",\"\",\"\",\"USA\",\"Illinois\",\"publicly traded\",\"ABT\",\"pharmaceuticals\",\"pharmaceuticals\",\"https://www.justice.gov/opa/pr/abbott-laboratories-pays-us-5475-million-settle-claims-company-paid-kickbacks-physicians\",\"\"']"
      ]
     },
     "execution_count": 29,
     "metadata": {},
     "output_type": "execute_result"
    }
   ],
   "source": [
    "pharmaRDD = sc.textFile(\"/FileStore/tables/pharma/pharma.csv\")\n",
    "\n",
    "pharmaRDD.take(2)"
   ]
  },
  {
   "cell_type": "code",
   "execution_count": 0,
   "metadata": {
    "application/vnd.databricks.v1+cell": {
     "cellMetadata": {
      "byteLimit": 2048000,
      "rowLimit": 10000
     },
     "inputWidgets": {},
     "nuid": "a1163302-a5d8-4a92-b7a3-d23128b05c6d",
     "showTitle": false,
     "title": ""
    }
   },
   "outputs": [
    {
     "output_type": "stream",
     "name": "stdout",
     "output_type": "stream",
     "text": [
      "Top 10 Non-Pharmaceutical Sponsors and Frequencies: \n('GlaxoSmithKline', 3482)\n('National Cancer Institute (NCI)', 3410)\n('Assiut University', 3335)\n('Pfizer', 3045)\n('AstraZeneca', 3024)\n('Cairo University', 3023)\n('Assistance Publique - Hôpitaux de Paris', 2951)\n('Mayo Clinic', 2766)\n('M.D. Anderson Cancer Center', 2702)\n('Novartis Pharmaceuticals', 2393)\n"
     ]
    }
   ],
   "source": [
    "pharmaceutical_companies = set(pharmaRDD.map(lambda x: x.split(',')[1])\n",
    ".distinct().collect())\n",
    "\n",
    "top_sponsors = clinicRDD \\\n",
    "                    .filter(lambda x: x[6] not in pharmaceutical_companies) \\\n",
    "                    .map(lambda x: (x[6], 1)) \\\n",
    "                    .reduceByKey(lambda a, b: a + b) \\\n",
    "                    .sortBy(lambda x: x[1], ascending=False) \\\n",
    "                    .take(10)\n",
    "\n",
    "print(\"Top 10 Non-Pharmaceutical Sponsors and Frequencies: \")\n",
    "for company in top_sponsors:\n",
    "    print(company)"
   ]
  },
  {
   "cell_type": "code",
   "execution_count": 0,
   "metadata": {
    "application/vnd.databricks.v1+cell": {
     "cellMetadata": {
      "byteLimit": 2048000,
      "rowLimit": 10000
     },
     "inputWidgets": {},
     "nuid": "a3a167c9-4db6-49ac-8bd8-1f8c2f4ac40b",
     "showTitle": false,
     "title": ""
    }
   },
   "outputs": [
    {
     "output_type": "stream",
     "name": "stdout",
     "output_type": "stream",
     "text": [
      "{'\"Endo International\"', ' LLC\"', '\"Johnson & Johnson\"', '\"SELLAS Life Sciences Group\"', '\"Jazz Pharmaceuticals\"', '\"Biogen Idec\"', '\"Perrigo\"', ' INC.\"', '\"Insys Therapeutics\"', ' n/k/a Actavis Elizabeth', '\"Roche\"', '\"Elanco Animal Health\"', ' Incorporated\"', ' INC. EMPLOYEES\\' 401(K) SAVINGS PLAN\"', ' Inc. and Purdue Pharma', '\"Bausch Health\"', ' Janssen Pharmaceutical Products LP', ' LLC d/b/a Qualitest Pharmaceuticals\"', '\"Daiichi Sankyo\"', '\"Otsuka Pharmaceutical\"', '\"Dr. Reddy\\'s Laboratories\"', ' Inc.\"', ' INC. ( SB)\"', ' Div of Ethicon\"', ' IVAX Corporation', '\"Zoetis\"', ' Inc. and Mylan Pharmaceuticals', ' Inc. and Pharmacia Corporation\"', '\"Alcami\"', '\"Phibro Animal Health\"', '\"Arbor Pharmaceuticals\"', '\"Aceto\"', '\"Novartis\"', ' CIDRA', '\"Eli Lilly\"', '\"Apotex Corp.\"', '\"Novo Holdings A/S\"', ' LLC.\"', '\"Amgen\"', '\"Clovis Oncology\"', ' Inc. and Purepac Pharmaceutical Co.\"', 'INC.\"', ' Limited\"', '\"Currax Pharmaceuticals\"', '\"Pfizer\"', ' LP\"', '\"Indivior Inc.\"', '\"Parent_Company\"', '\"GlaxoSmithKline\"', ' Inc.', '\"CSL Limited\"', ' LP', ' Inc. and Duramed Pharmaceuticals', '\"Merck\"', '\"Bristol-Myers Squibb\"', '\"Amneal Pharmaceuticals\"', '\"AbbVie\"', '\"Lannett Co.\"', '\"Hikma Pharmaceuticals\"', '\"CytRx\"', ' N.A.', '\"SciClone Pharmaceuticals\"', ' LLC and Actavis Elizabeth', '\"Pacira BioSciences\"', '\"Sanofi\"', ' L.P.\"', '\"Merck KGaA (EMD)\"', ' INC. (SB)\"', '\"Wockhardt Limited\"', '\"Amphastar Pharmaceuticals\"', '\"Lundbeck\"', '\"Gilead Sciences\"', '\"Teva Pharmaceutical Industries\"', '\"Purdue Pharma\"', '\"Viatris\"', ' Inc. et al.\"', '\"AVEO Pharmaceuticals\"', ' S.A.\"', '\"Mallinckrodt\"', '\"Organon & Co.\"', '\"Amryt Pharma\"', '\"Abbott Laboratories\"', '\"AstraZeneca\"', '\"Taro Pharmaceutical Industries\"', ' et al.\"', '\"Eisai\"', ' Sharp & Dohme\"', ' INC\"', '\"Incyte Corp.\"', '\"Sun Pharmaceuticals\"', ' plc\"', '\"United Therapeutics\"', '\"Boehringer Ingelheim\"', '\"Astellas Pharma\"', '\"Takeda Pharmaceutical\"', '\"Anika Therapeutics\"', ' Inc. and Aventis Behring', ' a division of Ethicon Inc.\"', '\"KV Pharmaceutical\"', '\"UCB\"', ' Inc\"'}\n---------------------------------\n['Sangath', 'McMaster University', 'Melbourne Health', 'Assistance Publique - Hôpitaux de Paris', 'Istituto Auxologico Italiano', 'University of Oregon', 'Medical University of South Carolina', 'Johns Hopkins University', 'University of Manitoba', 'M.D. Anderson Cancer Center']\n"
     ]
    }
   ],
   "source": [
    "print(pharmaceutical_companies)\n",
    "print(\"---------------------------------\")\n",
    "print(clinicRDD \\\n",
    "    .filter(lambda x: x[6] not in pharmaceutical_companies) \\\n",
    "    .map(lambda x: x[6]) \\\n",
    "    .take(10)) "
   ]
  },
  {
   "cell_type": "code",
   "execution_count": 0,
   "metadata": {
    "application/vnd.databricks.v1+cell": {
     "cellMetadata": {
      "byteLimit": 2048000,
      "rowLimit": 10000
     },
     "inputWidgets": {},
     "nuid": "0ca0bf53-3ba0-4720-82ba-6687910b5150",
     "showTitle": false,
     "title": ""
    }
   },
   "outputs": [
    {
     "output_type": "stream",
     "name": "stdout",
     "output_type": "stream",
     "text": [
      "Top 10 Non-Pharmaceutical Sponsors and Frequencies: \n('National Cancer Institute (NCI)', 3410)\n('Assiut University', 3335)\n('Cairo University', 3023)\n('Assistance Publique - Hôpitaux de Paris', 2951)\n('Mayo Clinic', 2766)\n('M.D. Anderson Cancer Center', 2702)\n('Novartis Pharmaceuticals', 2393)\n('National Institute of Allergy and Infectious Diseases (NIAID)', 2340)\n('Massachusetts General Hospital', 2263)\n('National Taiwan University Hospital', 2181)\n"
     ]
    }
   ],
   "source": [
    "pharmaceutical_companies = set(pharmaRDD.map(lambda x: x.split(',')[1].replace('\"', '')).distinct().collect())\n",
    "\n",
    "top_sponsors = clinicRDD \\\n",
    "                    .filter(lambda x: x[6] not in pharmaceutical_companies) \\\n",
    "                    .map(lambda x: (x[6], 1)) \\\n",
    "                    .reduceByKey(lambda a, b: a + b) \\\n",
    "                    .sortBy(lambda x: x[1], ascending=False) \\\n",
    "                    .take(10)\n",
    "\n",
    "print(\"Top 10 Non-Pharmaceutical Sponsors and Frequencies: \")\n",
    "for company in top_sponsors:\n",
    "    print(company)"
   ]
  },
  {
   "cell_type": "code",
   "execution_count": 0,
   "metadata": {
    "application/vnd.databricks.v1+cell": {
     "cellMetadata": {
      "byteLimit": 2048000,
      "rowLimit": 10000
     },
     "inputWidgets": {},
     "nuid": "ee6418ec-21b2-4907-b11d-4d4b8e42633c",
     "showTitle": false,
     "title": ""
    }
   },
   "outputs": [
    {
     "output_type": "stream",
     "name": "stdout",
     "output_type": "stream",
     "text": [
      "Number of Completed Studies Each Month in 2023: \n"
     ]
    }
   ],
   "source": [
    "import datetime\n",
    "import calendar\n",
    "\n",
    "def get_year_month(study_date):\n",
    "    try:\n",
    "        date = datetime.datetime.strptime(study_date, '%Y-%m-%d')\n",
    "        return (date.year, date.month) if date.year == 2023 else None\n",
    "    except:\n",
    "        return None\n",
    "    \n",
    "monthly_completed = clinicRDD \\\n",
    "                        .filter(lambda x: x[3] == 'COMPLETED' and x[13] is not None) \\\n",
    "                        .map(lambda x: get_year_month(x[13])) \\\n",
    "                        .filter(lambda x: x is not None and x[0] == 2023) \\\n",
    "                        .map(lambda year_month: (year_month[1], 1)) \\\n",
    "                        .reduceByKey(lambda a, b: a + b) \\\n",
    "                        .sortByKey() \\\n",
    "                        .collect()\n",
    "\n",
    "print(\"Number of Completed Studies Each Month in 2023: \")\n",
    "for month, count in monthly_completed:\n",
    "    month_name = calendar.month_name[month]\n",
    "    print(month_name, count)"
   ]
  },
  {
   "cell_type": "code",
   "execution_count": 0,
   "metadata": {
    "application/vnd.databricks.v1+cell": {
     "cellMetadata": {
      "byteLimit": 2048000,
      "rowLimit": 10000
     },
     "inputWidgets": {},
     "nuid": "f7548de0-3045-469e-8167-8dc2be6ee222",
     "showTitle": false,
     "title": ""
    }
   },
   "outputs": [
    {
     "output_type": "stream",
     "name": "stdout",
     "output_type": "stream",
     "text": [
      "\u001B[43mNote: you may need to restart the kernel using dbutils.library.restartPython() to use updated packages.\u001B[0m\nRequirement already satisfied: matplotlib in /databricks/python3/lib/python3.10/site-packages (3.7.0)\nRequirement already satisfied: contourpy>=1.0.1 in /databricks/python3/lib/python3.10/site-packages (from matplotlib) (1.0.5)\nRequirement already satisfied: pyparsing>=2.3.1 in /databricks/python3/lib/python3.10/site-packages (from matplotlib) (3.0.9)\nRequirement already satisfied: fonttools>=4.22.0 in /databricks/python3/lib/python3.10/site-packages (from matplotlib) (4.25.0)\nRequirement already satisfied: python-dateutil>=2.7 in /databricks/python3/lib/python3.10/site-packages (from matplotlib) (2.8.2)\nRequirement already satisfied: cycler>=0.10 in /databricks/python3/lib/python3.10/site-packages (from matplotlib) (0.11.0)\nRequirement already satisfied: packaging>=20.0 in /databricks/python3/lib/python3.10/site-packages (from matplotlib) (23.2)\nRequirement already satisfied: numpy>=1.20 in /databricks/python3/lib/python3.10/site-packages (from matplotlib) (1.23.5)\nRequirement already satisfied: kiwisolver>=1.0.1 in /databricks/python3/lib/python3.10/site-packages (from matplotlib) (1.4.4)\nRequirement already satisfied: pillow>=6.2.0 in /databricks/python3/lib/python3.10/site-packages (from matplotlib) (9.4.0)\nRequirement already satisfied: six>=1.5 in /usr/lib/python3/dist-packages (from python-dateutil>=2.7->matplotlib) (1.16.0)\n\u001B[43mNote: you may need to restart the kernel using dbutils.library.restartPython() to use updated packages.\u001B[0m\n"
     ]
    },
    {
     "output_type": "display_data",
     "data": {
      "image/png": "[encoded data removed]",
      "text/plain": [
       "<Figure size 1000x300 with 1 Axes>"
      ]
     },
     "metadata": {},
     "output_type": "display_data"
    }
   ],
   "source": [
    "!pip install matplotlib\n",
    "\n",
    "import matplotlib.pyplot as plt\n",
    "\n",
    "month_names = sorted([calendar.month_name[month] for month, _ in monthly_completed])\n",
    "counts = [count for _, count in monthly_completed]\n",
    "\n",
    "colours = ['red','blue','green','magenta','cyan', 'purple']\n",
    "\n",
    "plt.figure(figsize=(10, 3))\n",
    "plt.bar(month_names, counts, color = colours)\n",
    "plt.xlabel('Month')\n",
    "plt.ylabel('Number of Completed Studies')\n",
    "plt.title('Number of Completed Studies Each Month in 2023')\n",
    "plt.show()"
   ]
  }
 ],
 "metadata": {
  "application/vnd.databricks.v1+notebook": {
   "dashboards": [],
   "language": "python",
   "notebookMetadata": {
    "mostRecentlyExecutedCommandWithImplicitDF": {
     "commandId": 4404641369865791,
     "dataframes": [
      "_sqldf"
     ]
    },
    "pythonIndentUnit": 4
   },
   "notebookName": "Son_Nguyen_rdd",
   "widgets": {}
  }
 },
 "nbformat": 4,
 "nbformat_minor": 0
}
