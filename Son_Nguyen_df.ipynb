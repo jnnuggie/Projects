{
 "cells": [
  {
   "cell_type": "code",
   "execution_count": 0,
   "metadata": {
    "application/vnd.databricks.v1+cell": {
     "cellMetadata": {
      "byteLimit": 2048000,
      "rowLimit": 10000
     },
     "inputWidgets": {},
     "nuid": "96dca5c0-70c4-4194-833a-303c55c1e55a",
     "showTitle": false,
     "title": ""
    }
   },
   "outputs": [
    {
     "output_type": "execute_result",
     "data": {
      "text/plain": [
       "[FileInfo(path='dbfs:/FileStore/tables/Occupancy_Detection_Data.csv', name='Occupancy_Detection_Data.csv', size=50968, modificationTime=1709125456000),\n",
       " FileInfo(path='dbfs:/FileStore/tables/TS021.csv', name='TS021.csv', size=263057, modificationTime=1710949689000),\n",
       " FileInfo(path='dbfs:/FileStore/tables/account-models/', name='account-models/', size=0, modificationTime=0),\n",
       " FileInfo(path='dbfs:/FileStore/tables/accounts/', name='accounts/', size=0, modificationTime=0),\n",
       " FileInfo(path='dbfs:/FileStore/tables/activations/', name='activations/', size=0, modificationTime=0),\n",
       " FileInfo(path='dbfs:/FileStore/tables/activations-1.zip', name='activations-1.zip', size=8411369, modificationTime=1706707020000),\n",
       " FileInfo(path='dbfs:/FileStore/tables/activations.zip', name='activations.zip', size=8411369, modificationTime=1706706455000),\n",
       " FileInfo(path='dbfs:/FileStore/tables/clinical_trials/', name='clinical_trials/', size=0, modificationTime=0),\n",
       " FileInfo(path='dbfs:/FileStore/tables/clinicaltrial_2023-1.zip', name='clinicaltrial_2023-1.zip', size=57166668, modificationTime=1714385352000),\n",
       " FileInfo(path='dbfs:/FileStore/tables/clinicaltrial_2023-2.zip', name='clinicaltrial_2023-2.zip', size=57166668, modificationTime=1714392312000),\n",
       " FileInfo(path='dbfs:/FileStore/tables/clinicaltrial_2023-3.zip', name='clinicaltrial_2023-3.zip', size=57166668, modificationTime=1714408156000),\n",
       " FileInfo(path='dbfs:/FileStore/tables/clinicaltrial_2023-4.zip', name='clinicaltrial_2023-4.zip', size=57166668, modificationTime=1714411007000),\n",
       " FileInfo(path='dbfs:/FileStore/tables/clinicaltrial_2023.zip', name='clinicaltrial_2023.zip', size=57166668, modificationTime=1714314932000),\n",
       " FileInfo(path='dbfs:/FileStore/tables/ethnic.csv/', name='ethnic.csv/', size=0, modificationTime=0),\n",
       " FileInfo(path='dbfs:/FileStore/tables/flood-1.csv', name='flood-1.csv', size=128984, modificationTime=1707921096000),\n",
       " FileInfo(path='dbfs:/FileStore/tables/flood-1.zip', name='flood-1.zip', size=52053, modificationTime=1707920893000),\n",
       " FileInfo(path='dbfs:/FileStore/tables/flood-2.zip', name='flood-2.zip', size=52053, modificationTime=1707920978000),\n",
       " FileInfo(path='dbfs:/FileStore/tables/flood.csv', name='flood.csv', size=128984, modificationTime=1707921019000),\n",
       " FileInfo(path='dbfs:/FileStore/tables/flood.zip', name='flood.zip', size=52053, modificationTime=1707920693000),\n",
       " FileInfo(path='dbfs:/FileStore/tables/games.csv', name='games.csv', size=143639, modificationTime=1713974106000),\n",
       " FileInfo(path='dbfs:/FileStore/tables/iotstream/', name='iotstream/', size=0, modificationTime=0),\n",
       " FileInfo(path='dbfs:/FileStore/tables/iotstream.zip', name='iotstream.zip', size=43891, modificationTime=1708522663000),\n",
       " FileInfo(path='dbfs:/FileStore/tables/logs/', name='logs/', size=0, modificationTime=0),\n",
       " FileInfo(path='dbfs:/FileStore/tables/pharma/', name='pharma/', size=0, modificationTime=0),\n",
       " FileInfo(path='dbfs:/FileStore/tables/pharma-1.zip', name='pharma-1.zip', size=109982, modificationTime=1714385343000),\n",
       " FileInfo(path='dbfs:/FileStore/tables/pharma-2.zip', name='pharma-2.zip', size=109982, modificationTime=1714392303000),\n",
       " FileInfo(path='dbfs:/FileStore/tables/pharma-3.zip', name='pharma-3.zip', size=109982, modificationTime=1714408147000),\n",
       " FileInfo(path='dbfs:/FileStore/tables/pharma-4.zip', name='pharma-4.zip', size=109982, modificationTime=1714410999000),\n",
       " FileInfo(path='dbfs:/FileStore/tables/pharma.zip', name='pharma.zip', size=109982, modificationTime=1714314923000),\n",
       " FileInfo(path='dbfs:/FileStore/tables/steam_200k.csv', name='steam_200k.csv', size=8059447, modificationTime=1713974107000),\n",
       " FileInfo(path='dbfs:/FileStore/tables/test.json', name='test.json', size=17958, modificationTime=1706101878000),\n",
       " FileInfo(path='dbfs:/FileStore/tables/webpage/', name='webpage/', size=0, modificationTime=0),\n",
       " FileInfo(path='dbfs:/FileStore/tables/webpage.zip', name='webpage.zip', size=1582, modificationTime=1707311093000),\n",
       " FileInfo(path='dbfs:/FileStore/tables/webpage_files_all/', name='webpage_files_all/', size=0, modificationTime=0),\n",
       " FileInfo(path='dbfs:/FileStore/tables/webpage_files_jpg/', name='webpage_files_jpg/', size=0, modificationTime=0)]"
      ]
     },
     "execution_count": 1,
     "metadata": {},
     "output_type": "execute_result"
    }
   ],
   "source": [
    "dbutils.fs.ls(\"/FileStore/tables/\")"
   ]
  },
  {
   "cell_type": "code",
   "execution_count": 0,
   "metadata": {
    "application/vnd.databricks.v1+cell": {
     "cellMetadata": {
      "byteLimit": 2048000,
      "rowLimit": 10000
     },
     "inputWidgets": {},
     "nuid": "3514cdd0-9590-4cfa-b8dd-069ac7c6bda4",
     "showTitle": false,
     "title": ""
    }
   },
   "outputs": [
    {
     "output_type": "execute_result",
     "data": {
      "text/plain": [
       "True"
      ]
     },
     "execution_count": 2,
     "metadata": {},
     "output_type": "execute_result"
    }
   ],
   "source": [
    "dbutils.fs.cp(\"FileStore/tables/clinicaltrial_2023.zip\", \"file:/tmp/\")"
   ]
  },
  {
   "cell_type": "code",
   "execution_count": 0,
   "metadata": {
    "application/vnd.databricks.v1+cell": {
     "cellMetadata": {
      "byteLimit": 2048000,
      "rowLimit": 10000
     },
     "inputWidgets": {},
     "nuid": "6e3f7ee2-98d1-4bdd-af04-aef07c6285b5",
     "showTitle": false,
     "title": ""
    }
   },
   "outputs": [
    {
     "output_type": "stream",
     "name": "stdout",
     "output_type": "stream",
     "text": [
      "Rserv\nRtmpgkabTm\nchauffeur-daemon-params\nchauffeur-daemon.pid\nchauffeur-env.sh\nclinicaltrial_2023.zip\ncustom-spark.conf\ndriver-daemon-params\ndriver-daemon.pid\ndriver-env.sh\nhsperfdata_root\npharma.zip\npython_lsp_logs\nsystemd-private-cceb7b29e1f7438584329a432a6b9727-systemd-logind.service-VWPP6K\nsystemd-private-cceb7b29e1f7438584329a432a6b9727-systemd-resolved.service-XyVSE8\ntmp.ETX2NOHyk6\n"
     ]
    }
   ],
   "source": [
    "%sh\n",
    "ls /tmp/"
   ]
  },
  {
   "cell_type": "code",
   "execution_count": 0,
   "metadata": {
    "application/vnd.databricks.v1+cell": {
     "cellMetadata": {
      "byteLimit": 2048000,
      "rowLimit": 10000
     },
     "inputWidgets": {},
     "nuid": "8f10a145-8d0c-44c2-ad97-57ec2be97b32",
     "showTitle": false,
     "title": ""
    }
   },
   "outputs": [
    {
     "output_type": "stream",
     "name": "stdout",
     "output_type": "stream",
     "text": [
      "Archive:  /tmp/clinicaltrial_2023.zip\n  inflating: /tmp/clinicaltrial_2023.csv  \n"
     ]
    }
   ],
   "source": [
    "%sh \n",
    "unzip -d /tmp/  /tmp/clinicaltrial_2023.zip"
   ]
  },
  {
   "cell_type": "code",
   "execution_count": 0,
   "metadata": {
    "application/vnd.databricks.v1+cell": {
     "cellMetadata": {
      "byteLimit": 2048000,
      "rowLimit": 10000
     },
     "inputWidgets": {},
     "nuid": "ff368431-6ae4-4439-be04-3f53c04b2bae",
     "showTitle": false,
     "title": ""
    }
   },
   "outputs": [
    {
     "output_type": "stream",
     "name": "stdout",
     "output_type": "stream",
     "text": [
      "Rserv\nRtmpgkabTm\nchauffeur-daemon-params\nchauffeur-daemon.pid\nchauffeur-env.sh\nclinicaltrial_2023.csv\nclinicaltrial_2023.zip\ncustom-spark.conf\ndriver-daemon-params\ndriver-daemon.pid\ndriver-env.sh\nhsperfdata_root\npharma.zip\npython_lsp_logs\nsystemd-private-cceb7b29e1f7438584329a432a6b9727-systemd-logind.service-VWPP6K\nsystemd-private-cceb7b29e1f7438584329a432a6b9727-systemd-resolved.service-XyVSE8\ntmp.ETX2NOHyk6\n"
     ]
    }
   ],
   "source": [
    "%sh \n",
    "ls /tmp/"
   ]
  },
  {
   "cell_type": "code",
   "execution_count": 0,
   "metadata": {
    "application/vnd.databricks.v1+cell": {
     "cellMetadata": {
      "byteLimit": 2048000,
      "rowLimit": 10000
     },
     "inputWidgets": {},
     "nuid": "e7ced398-7536-4ebe-b554-bc8fcc94f9bb",
     "showTitle": false,
     "title": ""
    }
   },
   "outputs": [
    {
     "output_type": "execute_result",
     "data": {
      "text/plain": [
       "True"
      ]
     },
     "execution_count": 6,
     "metadata": {},
     "output_type": "execute_result"
    }
   ],
   "source": [
    "dbutils.fs.mkdirs(\"FileStore/tables/clinical_trials/\")"
   ]
  },
  {
   "cell_type": "code",
   "execution_count": 0,
   "metadata": {
    "application/vnd.databricks.v1+cell": {
     "cellMetadata": {
      "byteLimit": 2048000,
      "rowLimit": 10000
     },
     "inputWidgets": {},
     "nuid": "efb4ffec-1b19-48e4-9e1a-8e41e9b270de",
     "showTitle": false,
     "title": ""
    }
   },
   "outputs": [
    {
     "output_type": "execute_result",
     "data": {
      "text/plain": [
       "True"
      ]
     },
     "execution_count": 7,
     "metadata": {},
     "output_type": "execute_result"
    }
   ],
   "source": [
    "dbutils.fs.cp(\"file:/tmp/clinicaltrial_2023.csv\", \"dbfs:/FileStore/tables/clinical_trials/clinicaltrial_2023.csv\")"
   ]
  },
  {
   "cell_type": "code",
   "execution_count": 0,
   "metadata": {
    "application/vnd.databricks.v1+cell": {
     "cellMetadata": {
      "byteLimit": 2048000,
      "rowLimit": 10000
     },
     "inputWidgets": {},
     "nuid": "77f23261-e7f0-4567-b117-9401c8ffe40a",
     "showTitle": false,
     "title": ""
    }
   },
   "outputs": [
    {
     "output_type": "display_data",
     "data": {
      "text/html": [
       "<style scoped>\n",
       "  .table-result-container {\n",
       "    max-height: 300px;\n",
       "    overflow: auto;\n",
       "  }\n",
       "  table, th, td {\n",
       "    border: 1px solid black;\n",
       "    border-collapse: collapse;\n",
       "  }\n",
       "  th, td {\n",
       "    padding: 5px;\n",
       "  }\n",
       "  th {\n",
       "    text-align: left;\n",
       "  }\n",
       "</style><div class='table-result-container'><table class='table-result'><thead style='background-color: white'><tr><th>path</th><th>name</th><th>size</th><th>modificationTime</th></tr></thead><tbody><tr><td>dbfs:/FileStore/tables/clinical_trials/clinicaltrial_2023.csv</td><td>clinicaltrial_2023.csv</td><td>292436366</td><td>1714583323000</td></tr><tr><td>dbfs:/FileStore/tables/clinical_trials/pharma.csv</td><td>pharma.csv</td><td>678999</td><td>1714308423000</td></tr><tr><td>dbfs:/FileStore/tables/clinical_trials/true # exit without an error</td><td>true # exit without an error</td><td>292436366</td><td>1714148843000</td></tr></tbody></table></div>"
      ]
     },
     "metadata": {
      "application/vnd.databricks.v1+output": {
       "addedWidgets": {},
       "aggData": [],
       "aggError": "",
       "aggOverflow": false,
       "aggSchema": [],
       "aggSeriesLimitReached": false,
       "aggType": "",
       "arguments": {},
       "columnCustomDisplayInfos": {},
       "data": [
        [
         "dbfs:/FileStore/tables/clinical_trials/clinicaltrial_2023.csv",
         "clinicaltrial_2023.csv",
         292436366,
         1714583323000
        ],
        [
         "dbfs:/FileStore/tables/clinical_trials/pharma.csv",
         "pharma.csv",
         678999,
         1714308423000
        ],
        [
         "dbfs:/FileStore/tables/clinical_trials/true # exit without an error",
         "true # exit without an error",
         292436366,
         1714148843000
        ]
       ],
       "datasetInfos": [],
       "dbfsResultPath": null,
       "isJsonSchema": true,
       "metadata": {},
       "overflow": false,
       "plotOptions": {
        "customPlotOptions": {},
        "displayType": "table",
        "pivotAggregation": null,
        "pivotColumns": null,
        "xColumns": null,
        "yColumns": null
       },
       "removedWidgets": [],
       "schema": [
        {
         "metadata": "{}",
         "name": "path",
         "type": "\"string\""
        },
        {
         "metadata": "{}",
         "name": "name",
         "type": "\"string\""
        },
        {
         "metadata": "{}",
         "name": "size",
         "type": "\"long\""
        },
        {
         "metadata": "{}",
         "name": "modificationTime",
         "type": "\"long\""
        }
       ],
       "type": "table"
      }
     },
     "output_type": "display_data"
    }
   ],
   "source": [
    "display(dbutils.fs.ls(\"dbfs:/FileStore/tables/clinical_trials/\"))"
   ]
  },
  {
   "cell_type": "code",
   "execution_count": 0,
   "metadata": {
    "application/vnd.databricks.v1+cell": {
     "cellMetadata": {
      "byteLimit": 2048000,
      "rowLimit": 10000
     },
     "inputWidgets": {},
     "nuid": "1cc6b3b1-aab6-4fea-a4e9-0ef5a40175a5",
     "showTitle": false,
     "title": ""
    }
   },
   "outputs": [],
   "source": [
    "%sh \n",
    "\n",
    "rm /tmp/clinicaltrial_2023.csv"
   ]
  },
  {
   "cell_type": "code",
   "execution_count": 0,
   "metadata": {
    "application/vnd.databricks.v1+cell": {
     "cellMetadata": {
      "byteLimit": 2048000,
      "rowLimit": 10000
     },
     "inputWidgets": {},
     "nuid": "97839f52-2e66-4ef0-9e5b-a5e387f8a967",
     "showTitle": false,
     "title": ""
    }
   },
   "outputs": [
    {
     "output_type": "execute_result",
     "data": {
      "text/plain": [
       "True"
      ]
     },
     "execution_count": 10,
     "metadata": {},
     "output_type": "execute_result"
    }
   ],
   "source": [
    "dbutils.fs.cp(\"FileStore/tables/pharma.zip\", \"file:/tmp/\")"
   ]
  },
  {
   "cell_type": "code",
   "execution_count": 0,
   "metadata": {
    "application/vnd.databricks.v1+cell": {
     "cellMetadata": {
      "byteLimit": 2048000,
      "rowLimit": 10000
     },
     "inputWidgets": {},
     "nuid": "fd9272e0-4e2a-4f67-b5e9-3d23c04cf7e5",
     "showTitle": false,
     "title": ""
    }
   },
   "outputs": [
    {
     "output_type": "stream",
     "name": "stdout",
     "output_type": "stream",
     "text": [
      "Archive:  /tmp/pharma.zip\n  inflating: /tmp/pharma.csv         \n"
     ]
    }
   ],
   "source": [
    "%sh \n",
    "unzip -d /tmp/  /tmp/pharma.zip"
   ]
  },
  {
   "cell_type": "code",
   "execution_count": 0,
   "metadata": {
    "application/vnd.databricks.v1+cell": {
     "cellMetadata": {
      "byteLimit": 2048000,
      "rowLimit": 10000
     },
     "inputWidgets": {},
     "nuid": "0fa8979d-6ca8-4e97-8acc-38087a98b502",
     "showTitle": false,
     "title": ""
    }
   },
   "outputs": [
    {
     "output_type": "execute_result",
     "data": {
      "text/plain": [
       "True"
      ]
     },
     "execution_count": 12,
     "metadata": {},
     "output_type": "execute_result"
    }
   ],
   "source": [
    "dbutils.fs.mkdirs(\"FileStore/tables/pharma/\")"
   ]
  },
  {
   "cell_type": "code",
   "execution_count": 0,
   "metadata": {
    "application/vnd.databricks.v1+cell": {
     "cellMetadata": {
      "byteLimit": 2048000,
      "rowLimit": 10000
     },
     "inputWidgets": {},
     "nuid": "7c58ef00-5eb2-4d34-90d1-b27536ddc3ec",
     "showTitle": false,
     "title": ""
    }
   },
   "outputs": [
    {
     "output_type": "execute_result",
     "data": {
      "text/plain": [
       "True"
      ]
     },
     "execution_count": 13,
     "metadata": {},
     "output_type": "execute_result"
    }
   ],
   "source": [
    "dbutils.fs.cp(\"file:/tmp/pharma.csv\", \"dbfs:/FileStore/tables/pharma/pharma.csv\")"
   ]
  },
  {
   "cell_type": "code",
   "execution_count": 0,
   "metadata": {
    "application/vnd.databricks.v1+cell": {
     "cellMetadata": {
      "byteLimit": 2048000,
      "rowLimit": 10000
     },
     "inputWidgets": {},
     "nuid": "381b5c10-ce72-4e61-97aa-cdd3c09d31c8",
     "showTitle": false,
     "title": ""
    }
   },
   "outputs": [],
   "source": [
    "%sh \n",
    "\n",
    "rm /tmp/pharma.csv"
   ]
  },
  {
   "cell_type": "code",
   "execution_count": 0,
   "metadata": {
    "application/vnd.databricks.v1+cell": {
     "cellMetadata": {
      "byteLimit": 2048000,
      "rowLimit": 10000
     },
     "inputWidgets": {},
     "nuid": "547454ea-ed6b-4ccf-833d-b8b792876f29",
     "showTitle": false,
     "title": ""
    }
   },
   "outputs": [
    {
     "output_type": "display_data",
     "data": {
      "text/html": [
       "<style scoped>\n",
       "  .table-result-container {\n",
       "    max-height: 300px;\n",
       "    overflow: auto;\n",
       "  }\n",
       "  table, th, td {\n",
       "    border: 1px solid black;\n",
       "    border-collapse: collapse;\n",
       "  }\n",
       "  th, td {\n",
       "    padding: 5px;\n",
       "  }\n",
       "  th {\n",
       "    text-align: left;\n",
       "  }\n",
       "</style><div class='table-result-container'><table class='table-result'><thead style='background-color: white'><tr><th>path</th><th>name</th><th>size</th><th>modificationTime</th></tr></thead><tbody><tr><td>dbfs:/FileStore/tables/Occupancy_Detection_Data.csv</td><td>Occupancy_Detection_Data.csv</td><td>50968</td><td>1709125456000</td></tr><tr><td>dbfs:/FileStore/tables/TS021.csv</td><td>TS021.csv</td><td>263057</td><td>1710949689000</td></tr><tr><td>dbfs:/FileStore/tables/account-models/</td><td>account-models/</td><td>0</td><td>0</td></tr><tr><td>dbfs:/FileStore/tables/accounts/</td><td>accounts/</td><td>0</td><td>0</td></tr><tr><td>dbfs:/FileStore/tables/activations/</td><td>activations/</td><td>0</td><td>0</td></tr><tr><td>dbfs:/FileStore/tables/activations-1.zip</td><td>activations-1.zip</td><td>8411369</td><td>1706707020000</td></tr><tr><td>dbfs:/FileStore/tables/activations.zip</td><td>activations.zip</td><td>8411369</td><td>1706706455000</td></tr><tr><td>dbfs:/FileStore/tables/clinical_trials/</td><td>clinical_trials/</td><td>0</td><td>0</td></tr><tr><td>dbfs:/FileStore/tables/clinicaltrial_2023-1.zip</td><td>clinicaltrial_2023-1.zip</td><td>57166668</td><td>1714385352000</td></tr><tr><td>dbfs:/FileStore/tables/clinicaltrial_2023-2.zip</td><td>clinicaltrial_2023-2.zip</td><td>57166668</td><td>1714392312000</td></tr><tr><td>dbfs:/FileStore/tables/clinicaltrial_2023-3.zip</td><td>clinicaltrial_2023-3.zip</td><td>57166668</td><td>1714408156000</td></tr><tr><td>dbfs:/FileStore/tables/clinicaltrial_2023-4.zip</td><td>clinicaltrial_2023-4.zip</td><td>57166668</td><td>1714411007000</td></tr><tr><td>dbfs:/FileStore/tables/clinicaltrial_2023.zip</td><td>clinicaltrial_2023.zip</td><td>57166668</td><td>1714314932000</td></tr><tr><td>dbfs:/FileStore/tables/ethnic.csv/</td><td>ethnic.csv/</td><td>0</td><td>0</td></tr><tr><td>dbfs:/FileStore/tables/flood-1.csv</td><td>flood-1.csv</td><td>128984</td><td>1707921096000</td></tr><tr><td>dbfs:/FileStore/tables/flood-1.zip</td><td>flood-1.zip</td><td>52053</td><td>1707920893000</td></tr><tr><td>dbfs:/FileStore/tables/flood-2.zip</td><td>flood-2.zip</td><td>52053</td><td>1707920978000</td></tr><tr><td>dbfs:/FileStore/tables/flood.csv</td><td>flood.csv</td><td>128984</td><td>1707921019000</td></tr><tr><td>dbfs:/FileStore/tables/flood.zip</td><td>flood.zip</td><td>52053</td><td>1707920693000</td></tr><tr><td>dbfs:/FileStore/tables/games.csv</td><td>games.csv</td><td>143639</td><td>1713974106000</td></tr><tr><td>dbfs:/FileStore/tables/iotstream/</td><td>iotstream/</td><td>0</td><td>0</td></tr><tr><td>dbfs:/FileStore/tables/iotstream.zip</td><td>iotstream.zip</td><td>43891</td><td>1708522663000</td></tr><tr><td>dbfs:/FileStore/tables/logs/</td><td>logs/</td><td>0</td><td>0</td></tr><tr><td>dbfs:/FileStore/tables/pharma/</td><td>pharma/</td><td>0</td><td>0</td></tr><tr><td>dbfs:/FileStore/tables/pharma-1.zip</td><td>pharma-1.zip</td><td>109982</td><td>1714385343000</td></tr><tr><td>dbfs:/FileStore/tables/pharma-2.zip</td><td>pharma-2.zip</td><td>109982</td><td>1714392303000</td></tr><tr><td>dbfs:/FileStore/tables/pharma-3.zip</td><td>pharma-3.zip</td><td>109982</td><td>1714408147000</td></tr><tr><td>dbfs:/FileStore/tables/pharma-4.zip</td><td>pharma-4.zip</td><td>109982</td><td>1714410999000</td></tr><tr><td>dbfs:/FileStore/tables/pharma.zip</td><td>pharma.zip</td><td>109982</td><td>1714314923000</td></tr><tr><td>dbfs:/FileStore/tables/steam_200k.csv</td><td>steam_200k.csv</td><td>8059447</td><td>1713974107000</td></tr><tr><td>dbfs:/FileStore/tables/test.json</td><td>test.json</td><td>17958</td><td>1706101878000</td></tr><tr><td>dbfs:/FileStore/tables/webpage/</td><td>webpage/</td><td>0</td><td>0</td></tr><tr><td>dbfs:/FileStore/tables/webpage.zip</td><td>webpage.zip</td><td>1582</td><td>1707311093000</td></tr><tr><td>dbfs:/FileStore/tables/webpage_files_all/</td><td>webpage_files_all/</td><td>0</td><td>0</td></tr><tr><td>dbfs:/FileStore/tables/webpage_files_jpg/</td><td>webpage_files_jpg/</td><td>0</td><td>0</td></tr></tbody></table></div>"
      ]
     },
     "metadata": {
      "application/vnd.databricks.v1+output": {
       "addedWidgets": {},
       "aggData": [],
       "aggError": "",
       "aggOverflow": false,
       "aggSchema": [],
       "aggSeriesLimitReached": false,
       "aggType": "",
       "arguments": {},
       "columnCustomDisplayInfos": {},
       "data": [
        [
         "dbfs:/FileStore/tables/Occupancy_Detection_Data.csv",
         "Occupancy_Detection_Data.csv",
         50968,
         1709125456000
        ],
        [
         "dbfs:/FileStore/tables/TS021.csv",
         "TS021.csv",
         263057,
         1710949689000
        ],
        [
         "dbfs:/FileStore/tables/account-models/",
         "account-models/",
         0,
         0
        ],
        [
         "dbfs:/FileStore/tables/accounts/",
         "accounts/",
         0,
         0
        ],
        [
         "dbfs:/FileStore/tables/activations/",
         "activations/",
         0,
         0
        ],
        [
         "dbfs:/FileStore/tables/activations-1.zip",
         "activations-1.zip",
         8411369,
         1706707020000
        ],
        [
         "dbfs:/FileStore/tables/activations.zip",
         "activations.zip",
         8411369,
         1706706455000
        ],
        [
         "dbfs:/FileStore/tables/clinical_trials/",
         "clinical_trials/",
         0,
         0
        ],
        [
         "dbfs:/FileStore/tables/clinicaltrial_2023-1.zip",
         "clinicaltrial_2023-1.zip",
         57166668,
         1714385352000
        ],
        [
         "dbfs:/FileStore/tables/clinicaltrial_2023-2.zip",
         "clinicaltrial_2023-2.zip",
         57166668,
         1714392312000
        ],
        [
         "dbfs:/FileStore/tables/clinicaltrial_2023-3.zip",
         "clinicaltrial_2023-3.zip",
         57166668,
         1714408156000
        ],
        [
         "dbfs:/FileStore/tables/clinicaltrial_2023-4.zip",
         "clinicaltrial_2023-4.zip",
         57166668,
         1714411007000
        ],
        [
         "dbfs:/FileStore/tables/clinicaltrial_2023.zip",
         "clinicaltrial_2023.zip",
         57166668,
         1714314932000
        ],
        [
         "dbfs:/FileStore/tables/ethnic.csv/",
         "ethnic.csv/",
         0,
         0
        ],
        [
         "dbfs:/FileStore/tables/flood-1.csv",
         "flood-1.csv",
         128984,
         1707921096000
        ],
        [
         "dbfs:/FileStore/tables/flood-1.zip",
         "flood-1.zip",
         52053,
         1707920893000
        ],
        [
         "dbfs:/FileStore/tables/flood-2.zip",
         "flood-2.zip",
         52053,
         1707920978000
        ],
        [
         "dbfs:/FileStore/tables/flood.csv",
         "flood.csv",
         128984,
         1707921019000
        ],
        [
         "dbfs:/FileStore/tables/flood.zip",
         "flood.zip",
         52053,
         1707920693000
        ],
        [
         "dbfs:/FileStore/tables/games.csv",
         "games.csv",
         143639,
         1713974106000
        ],
        [
         "dbfs:/FileStore/tables/iotstream/",
         "iotstream/",
         0,
         0
        ],
        [
         "dbfs:/FileStore/tables/iotstream.zip",
         "iotstream.zip",
         43891,
         1708522663000
        ],
        [
         "dbfs:/FileStore/tables/logs/",
         "logs/",
         0,
         0
        ],
        [
         "dbfs:/FileStore/tables/pharma/",
         "pharma/",
         0,
         0
        ],
        [
         "dbfs:/FileStore/tables/pharma-1.zip",
         "pharma-1.zip",
         109982,
         1714385343000
        ],
        [
         "dbfs:/FileStore/tables/pharma-2.zip",
         "pharma-2.zip",
         109982,
         1714392303000
        ],
        [
         "dbfs:/FileStore/tables/pharma-3.zip",
         "pharma-3.zip",
         109982,
         1714408147000
        ],
        [
         "dbfs:/FileStore/tables/pharma-4.zip",
         "pharma-4.zip",
         109982,
         1714410999000
        ],
        [
         "dbfs:/FileStore/tables/pharma.zip",
         "pharma.zip",
         109982,
         1714314923000
        ],
        [
         "dbfs:/FileStore/tables/steam_200k.csv",
         "steam_200k.csv",
         8059447,
         1713974107000
        ],
        [
         "dbfs:/FileStore/tables/test.json",
         "test.json",
         17958,
         1706101878000
        ],
        [
         "dbfs:/FileStore/tables/webpage/",
         "webpage/",
         0,
         0
        ],
        [
         "dbfs:/FileStore/tables/webpage.zip",
         "webpage.zip",
         1582,
         1707311093000
        ],
        [
         "dbfs:/FileStore/tables/webpage_files_all/",
         "webpage_files_all/",
         0,
         0
        ],
        [
         "dbfs:/FileStore/tables/webpage_files_jpg/",
         "webpage_files_jpg/",
         0,
         0
        ]
       ],
       "datasetInfos": [],
       "dbfsResultPath": null,
       "isJsonSchema": true,
       "metadata": {},
       "overflow": false,
       "plotOptions": {
        "customPlotOptions": {},
        "displayType": "table",
        "pivotAggregation": null,
        "pivotColumns": null,
        "xColumns": null,
        "yColumns": null
       },
       "removedWidgets": [],
       "schema": [
        {
         "metadata": "{}",
         "name": "path",
         "type": "\"string\""
        },
        {
         "metadata": "{}",
         "name": "name",
         "type": "\"string\""
        },
        {
         "metadata": "{}",
         "name": "size",
         "type": "\"long\""
        },
        {
         "metadata": "{}",
         "name": "modificationTime",
         "type": "\"long\""
        }
       ],
       "type": "table"
      }
     },
     "output_type": "display_data"
    }
   ],
   "source": [
    "display(dbutils.fs.ls(\"dbfs:/FileStore/tables/\"))"
   ]
  },
  {
   "cell_type": "code",
   "execution_count": 0,
   "metadata": {
    "application/vnd.databricks.v1+cell": {
     "cellMetadata": {
      "byteLimit": 2048000,
      "rowLimit": 10000
     },
     "inputWidgets": {},
     "nuid": "1c796974-2080-437d-8abb-d407ce76cffb",
     "showTitle": false,
     "title": ""
    }
   },
   "outputs": [
    {
     "output_type": "display_data",
     "data": {
      "text/html": [
       "<style scoped>\n",
       "  .table-result-container {\n",
       "    max-height: 300px;\n",
       "    overflow: auto;\n",
       "  }\n",
       "  table, th, td {\n",
       "    border: 1px solid black;\n",
       "    border-collapse: collapse;\n",
       "  }\n",
       "  th, td {\n",
       "    padding: 5px;\n",
       "  }\n",
       "  th {\n",
       "    text-align: left;\n",
       "  }\n",
       "</style><div class='table-result-container'><table class='table-result'><thead style='background-color: white'><tr><th>path</th><th>name</th><th>size</th><th>modificationTime</th></tr></thead><tbody><tr><td>dbfs:/FileStore/tables/pharma/pharma.csv</td><td>pharma.csv</td><td>678999</td><td>1714583327000</td></tr></tbody></table></div>"
      ]
     },
     "metadata": {
      "application/vnd.databricks.v1+output": {
       "addedWidgets": {},
       "aggData": [],
       "aggError": "",
       "aggOverflow": false,
       "aggSchema": [],
       "aggSeriesLimitReached": false,
       "aggType": "",
       "arguments": {},
       "columnCustomDisplayInfos": {},
       "data": [
        [
         "dbfs:/FileStore/tables/pharma/pharma.csv",
         "pharma.csv",
         678999,
         1714583327000
        ]
       ],
       "datasetInfos": [],
       "dbfsResultPath": null,
       "isJsonSchema": true,
       "metadata": {},
       "overflow": false,
       "plotOptions": {
        "customPlotOptions": {},
        "displayType": "table",
        "pivotAggregation": null,
        "pivotColumns": null,
        "xColumns": null,
        "yColumns": null
       },
       "removedWidgets": [],
       "schema": [
        {
         "metadata": "{}",
         "name": "path",
         "type": "\"string\""
        },
        {
         "metadata": "{}",
         "name": "name",
         "type": "\"string\""
        },
        {
         "metadata": "{}",
         "name": "size",
         "type": "\"long\""
        },
        {
         "metadata": "{}",
         "name": "modificationTime",
         "type": "\"long\""
        }
       ],
       "type": "table"
      }
     },
     "output_type": "display_data"
    }
   ],
   "source": [
    "display(dbutils.fs.ls(\"dbfs:/FileStore/tables/pharma/\"))"
   ]
  },
  {
   "cell_type": "code",
   "execution_count": 0,
   "metadata": {
    "application/vnd.databricks.v1+cell": {
     "cellMetadata": {
      "byteLimit": 2048000,
      "rowLimit": 10000
     },
     "inputWidgets": {},
     "nuid": "06f8898e-4895-4064-bd00-01a8d627cd03",
     "showTitle": false,
     "title": ""
    }
   },
   "outputs": [
    {
     "output_type": "execute_result",
     "data": {
      "text/plain": [
       "['\"Id\\tStudy Title\\tAcronym\\tStatus\\tConditions\\tInterventions\\tSponsor\\tCollaborators\\tEnrollment\\tFunder Type\\tType\\tStudy Design\\tStart\\tCompletion\",,,,,,,,,,,,,,,,,,,,,,,,,,,,,,,,,,,,,,,,,,,,,,,,,,,,,,,,,,,,,,,,,,,,,,,,,,,,,,,,,,,,,,,,,,,,,,,,,,,,,,,,,,,,,,,,,,,,,,,,,,,,,,,,,,,,,,,,,,,,,,,,,,,,,,,,,,,,,,,,,,,,,,,,,,,,,,,,,,,,,,,,,,,,,,,,,,,,,,,,,,,,,,,,,,',\n",
       " '\"NCT03630471\\tEffectiveness of a Problem-solving Intervention for Common Adolescent Mental Health Problems in India\\tPRIDE\\tCOMPLETED\\tMental Health Issue (E.G.\", Depression, Psychosis, Personality Disorder,\" Substance Abuse)\\tBEHAVIORAL: PRIDE \\'Step 1\\' problem-solving intervention|BEHAVIORAL: Enhanced usual care\\tSangath\\tHarvard Medical School (HMS and HSDM)|London School of Hygiene and Tropical Medicine\\t250.0\\tOTHER\\tINTERVENTIONAL\\tAllocation: RANDOMIZED|Intervention Model: PARALLEL|Masking: DOUBLE (INVESTIGATOR\",\" OUTCOMES_ASSESSOR)|Primary Purpose: TREATMENT\\t2018-08-20\\t2019-02-28\",,,,,,,,,,,,,,,,,,,,,,,,,,,,,,,,,,,,,,,,,,,,,,,,,,,,,,,,,,,,,,,,,,,,,,,,,,,,,,,,,,,,,,,,,,,,,,,,,,,,,,,,,,,,,,,,,,,,,,,,,,,,,,,,,,,,,,,,,,,,,,,,,,,,,,,,,,,,,,,,,,,,,,,,,,,,,,,,,,,,,,,,,,,,,,,,,,,,,,,,,,,,,']"
      ]
     },
     "execution_count": 17,
     "metadata": {},
     "output_type": "execute_result"
    }
   ],
   "source": [
    "from pyspark import SparkContext\n",
    "\n",
    "clinicRDD = sc.textFile(\"/FileStore/tables/clinical_trials/clinicaltrial_2023.csv\")\n",
    "\n",
    "clinicRDD.take(2)"
   ]
  },
  {
   "cell_type": "code",
   "execution_count": 0,
   "metadata": {
    "application/vnd.databricks.v1+cell": {
     "cellMetadata": {
      "byteLimit": 2048000,
      "rowLimit": 10000
     },
     "inputWidgets": {},
     "nuid": "5ff580f4-e901-4bbc-b52f-2c762e00b5cf",
     "showTitle": false,
     "title": ""
    }
   },
   "outputs": [],
   "source": [
    "from pyspark.sql.types import StructType, StructField, StringType, IntegerType\n",
    "\n",
    "\n",
    "clinic_schema = StructType([\n",
    "    StructField(\"Id\", StringType(), True),\n",
    "    StructField(\"Study Title\", StringType(), True),\n",
    "    StructField(\"Acronym\", StringType(), True),\n",
    "    StructField(\"Status\", StringType(), True),\n",
    "    StructField(\"Conditions\", StringType(), True),\n",
    "    StructField(\"Interventions\", StringType(), True),\n",
    "    StructField(\"Sponsor\", StringType(), True),\n",
    "    StructField(\"Collaborators\", StringType(), True),\n",
    "    StructField(\"Enrollment\", IntegerType(), True),  \n",
    "    StructField(\"Funder Type\", StringType(), True),\n",
    "    StructField(\"Type\", StringType(), True),\n",
    "    StructField(\"Study Design\", StringType(), True),\n",
    "    StructField(\"Start\", StringType(), True), \n",
    "    StructField(\"Completion\", StringType(), True)\n",
    "])"
   ]
  },
  {
   "cell_type": "code",
   "execution_count": 0,
   "metadata": {
    "application/vnd.databricks.v1+cell": {
     "cellMetadata": {
      "byteLimit": 2048000,
      "rowLimit": 10000
     },
     "inputWidgets": {},
     "nuid": "34f672d5-8e5b-46a5-876e-f01ca0f062cb",
     "showTitle": false,
     "title": ""
    }
   },
   "outputs": [
    {
     "output_type": "stream",
     "name": "stdout",
     "output_type": "stream",
     "text": [
      "+------------+--------------------+----------+------------------+--------------------+--------------------+--------------------+--------------------+----------+-----------+--------------+--------------------+----------+--------------------+\n|          Id|         Study Title|   Acronym|            Status|          Conditions|       Interventions|             Sponsor|       Collaborators|Enrollment|Funder Type|          Type|        Study Design|     Start|          Completion|\n+------------+--------------------+----------+------------------+--------------------+--------------------+--------------------+--------------------+----------+-----------+--------------+--------------------+----------+--------------------+\n|\"NCT03630471|Effectiveness of ...|     PRIDE|         COMPLETED|Mental Health Iss...|BEHAVIORAL: PRIDE...|             Sangath|Harvard Medical S...|      NULL|      OTHER|INTERVENTIONAL|Allocation: RANDO...|2018-08-20|2019-02-28\",,,,,,...|\n|\"NCT05992571|Oral Ketone Monoe...|          |        RECRUITING|Cerebrovascular F...|OTHER: Placebo|DI...| McMaster University|Alzheimer's Socie...|      NULL|      OTHER|INTERVENTIONAL|Allocation: RANDO...|2023-10-25|2024-08\",,,,,,,,,...|\n|\"NCT00237471|Impact of Tight G...|          |        TERMINATED|Myocardial Infarc...|DRUG: Insulin (ti...|    Melbourne Health|National Health a...|      NULL|      OTHER|INTERVENTIONAL|Allocation: RANDO...|   2005-10|2006-05\",,,,,,,,,...|\n|\"NCT03820271|New Prognostic Pr...| SUPERMELD|        RECRUITING|Decompensated Cir...|    OTHER: SuperMELD|Assistance Publiq...|                    |      NULL|      OTHER|INTERVENTIONAL|Allocation: NA|In...|2020-10-01|2023-10-01\",,,,,,...|\n|\"NCT06229171|InTake Care: Deve...|InTakeCare|NOT_YET_RECRUITING|Hypertension|Trea...|OTHER: adherence ...|Istituto Auxologi...|Istituti Clinici ...|      NULL|      OTHER|INTERVENTIONAL|Allocation: RANDO...|2024-10-01|2026-04-01\",,,,,,...|\n|\"NCT02945371|Tailored Inhibito...|       REV|         COMPLETED|Smoking|Alcohol D...|BEHAVIORAL: Perso...|University of Oregon|                    |      NULL|      OTHER|INTERVENTIONAL|Allocation: RANDO...|   2014-09|2016-05\",,,,,,,,,...|\n|\"NCT01055171|Neuromodulation o...|          |         COMPLETED|Alcohol Dependenc...|DRUG: Propranolol...|Medical Universit...|National Institut...|      NULL|      OTHER|INTERVENTIONAL|Allocation: RANDO...|   2010-01|2012-08\",,,,,,,,,...|\n|\"NCT01125371|Computerized Brie...|          |         COMPLETED|Alcohol; Harmful ...|BEHAVIORAL: Compu...|Johns Hopkins Uni...|National Institut...|      NULL|      OTHER|INTERVENTIONAL|Allocation: RANDO...|   2011-10|2016-06-07\",,,,,,...|\n|\"NCT02554071|Manitoba Pharmaci...|          |         COMPLETED|   Smoking Cessation|OTHER: Pharmacist...|University of Man...|Govenment of Mani...|      NULL|      OTHER|INTERVENTIONAL|Allocation: NA|In...|   2014-01|2014-11\",,,,,,,,,...|\n|\"NCT01772771|Molecular Testing...|          |        RECRUITING|Glioma|Hematopoie...|PROCEDURE: Biospe...|M.D. Anderson Can...|National Cancer I...|      NULL|      OTHER| OBSERVATIONAL|Observational Mod...|2012-03-01|2033-03-01\",,,,,,...|\n|\"NCT02633371|A Pilot Study Exp...|          |         COMPLETED|       Hyperhidrosis|DRUG: Oxybutynin ...|University of Col...|Society for Pedia...|      NULL|      OTHER|INTERVENTIONAL|Allocation: NA|In...|   2016-02|2017-05\",,,,,,,,,...|\n|\"NCT03400371|Biology of Juveni...|   BIOJUME|        RECRUITING|Juvenile Myocloni...|OTHER: Blood draw...|King's College Lo...|King's College Ho...|      NULL|      OTHER| OBSERVATIONAL|Observational Mod...|2017-07-13|2026-06-30\",,,,,,...|\n|\"NCT00120471|Safety and Blood ...|          |         COMPLETED|      HIV Infections|DRUG: Tenofovir d...|National Institut...|Eunice Kennedy Sh...|      NULL|        NIH|INTERVENTIONAL|Allocation: RANDO...|   2006-11|2011-12\",,,,,,,,,...|\n|\"NCT04784871|Promoting Wellbei...|    5WaysA|         COMPLETED|Wellbeing|Health ...|BEHAVIORAL: 5ways...|  University of Oslo|Norwegian Institu...|      NULL|      OTHER|INTERVENTIONAL|Allocation: RANDO...|2021-03-04|2023-02-24\",,,,,,...|\n|\"NCT02383771|Reversal of the A...|  REVERSAL|         COMPLETED|Coronary Artery D...|DRUG: Ticagrelor|...|The First Affilia...|National Natural ...|      NULL|      OTHER|INTERVENTIONAL|Allocation: RANDO...|   2015-03|2016-12\",,,,,,,,,...|\n|\"NCT03269071|Neural Stem Cell ...|     STEMS|         COMPLETED|Progressive Multi...|DRUG: human fetal...|  IRCCS San Raffaele|Fondazione Italia...|      NULL|      OTHER|INTERVENTIONAL|Allocation: NON_R...|2017-05-17|2021-07-31\",,,,,,...|\n|\"NCT01659671|RCT of the Effect...|     SKUP3|         COMPLETED|Obstructive Sleep...|PROCEDURE: Uvulop...|Karolinska Univer...|Karolinska Instit...|      NULL|      OTHER|INTERVENTIONAL|Allocation: RANDO...|   2007-06|2014-05\",,,,,,,,,...|\n|\"NCT04765371|Comparison Betwee...|  COPreDex|         COMPLETED|Coronavirus Infec...|DRUG: DEXAMETHASO...|        Hôpital NOVO|                    |      NULL|      OTHER|INTERVENTIONAL|Allocation: RANDO...|2021-03-03|2022-05-13\",,,,,,...|\n|\"NCT02830971|Developing a Stan...|          |         COMPLETED|Registered Nurses...|PROCEDURE: Doing ...|Baqiyatallah Medi...|Shahid Beheshti U...|      NULL|      OTHER|INTERVENTIONAL|Allocation: NA|In...|   2016-07|2021-04-12\",,,,,,...|\n|\"NCT00416871|Interleukin-2 and...|          |         COMPLETED|       Kidney Cancer|BIOLOGICAL: aldes...|  Centre Leon Berard|                    |      NULL|      OTHER|INTERVENTIONAL|Allocation: RANDO...|          |2006-02\",,,,,,,,,...|\n+------------+--------------------+----------+------------------+--------------------+--------------------+--------------------+--------------------+----------+-----------+--------------+--------------------+----------+--------------------+\nonly showing top 20 rows\n\n"
     ]
    },
    {
     "output_type": "execute_result",
     "data": {
      "text/plain": [
       "483420"
      ]
     },
     "execution_count": 19,
     "metadata": {},
     "output_type": "execute_result"
    }
   ],
   "source": [
    "from pyspark.sql import Row\n",
    "\n",
    "number_of_columns = 14\n",
    "\n",
    "def parse_line(line):\n",
    "    parts = line.split('\\t')\n",
    "    if len(parts) != number_of_columns:\n",
    "        return None\n",
    "    try:\n",
    "        parts[8] = int(parts[8]) if parts[8].isdigit() else None\n",
    "    except ValueError:\n",
    "        parts[8] = None\n",
    "    return Row(*parts)\n",
    "\n",
    "header = clinicRDD.first()\n",
    "dataRDD = clinicRDD.filter(lambda row: row != header)\n",
    "\n",
    "parsedRDD = dataRDD.map(parse_line).filter(lambda x: x is not None)\n",
    "\n",
    "clinic_df = spark.createDataFrame(parsedRDD, clinic_schema)\n",
    "clinic_df.show()\n",
    "clinic_df.count()"
   ]
  },
  {
   "cell_type": "code",
   "execution_count": 0,
   "metadata": {
    "application/vnd.databricks.v1+cell": {
     "cellMetadata": {
      "byteLimit": 2048000,
      "rowLimit": 10000
     },
     "inputWidgets": {},
     "nuid": "c39b098a-bae9-4c84-aae6-151e7344be34",
     "showTitle": false,
     "title": ""
    }
   },
   "outputs": [
    {
     "output_type": "stream",
     "name": "stdout",
     "output_type": "stream",
     "text": [
      "+-----------+--------------------+----------+------------------+--------------------+--------------------+--------------------+--------------------+----------+-----------+--------------+--------------------+----------+--------------------+\n|         Id|         Study Title|   Acronym|            Status|          Conditions|       Interventions|             Sponsor|       Collaborators|Enrollment|Funder Type|          Type|        Study Design|     Start|          Completion|\n+-----------+--------------------+----------+------------------+--------------------+--------------------+--------------------+--------------------+----------+-----------+--------------+--------------------+----------+--------------------+\n|NCT03630471|Effectiveness of ...|     PRIDE|         COMPLETED|Mental Health Iss...|BEHAVIORAL: PRIDE...|             Sangath|Harvard Medical S...|      NULL|      OTHER|INTERVENTIONAL|Allocation: RANDO...|2018-08-20|2019-02-28,,,,,,,...|\n|NCT05992571|Oral Ketone Monoe...|          |        RECRUITING|Cerebrovascular F...|OTHER: Placebo|DI...| McMaster University|Alzheimer's Socie...|      NULL|      OTHER|INTERVENTIONAL|Allocation: RANDO...|2023-10-25|2024-08,,,,,,,,,,...|\n|NCT00237471|Impact of Tight G...|          |        TERMINATED|Myocardial Infarc...|DRUG: Insulin (ti...|    Melbourne Health|National Health a...|      NULL|      OTHER|INTERVENTIONAL|Allocation: RANDO...|   2005-10|2006-05,,,,,,,,,,...|\n|NCT03820271|New Prognostic Pr...| SUPERMELD|        RECRUITING|Decompensated Cir...|    OTHER: SuperMELD|Assistance Publiq...|                    |      NULL|      OTHER|INTERVENTIONAL|Allocation: NA|In...|2020-10-01|2023-10-01,,,,,,,...|\n|NCT06229171|InTake Care: Deve...|InTakeCare|NOT_YET_RECRUITING|Hypertension|Trea...|OTHER: adherence ...|Istituto Auxologi...|Istituti Clinici ...|      NULL|      OTHER|INTERVENTIONAL|Allocation: RANDO...|2024-10-01|2026-04-01,,,,,,,...|\n|NCT02945371|Tailored Inhibito...|       REV|         COMPLETED|Smoking|Alcohol D...|BEHAVIORAL: Perso...|University of Oregon|                    |      NULL|      OTHER|INTERVENTIONAL|Allocation: RANDO...|   2014-09|2016-05,,,,,,,,,,...|\n|NCT01055171|Neuromodulation o...|          |         COMPLETED|Alcohol Dependenc...|DRUG: Propranolol...|Medical Universit...|National Institut...|      NULL|      OTHER|INTERVENTIONAL|Allocation: RANDO...|   2010-01|2012-08,,,,,,,,,,...|\n|NCT01125371|Computerized Brie...|          |         COMPLETED|Alcohol; Harmful ...|BEHAVIORAL: Compu...|Johns Hopkins Uni...|National Institut...|      NULL|      OTHER|INTERVENTIONAL|Allocation: RANDO...|   2011-10|2016-06-07,,,,,,,...|\n|NCT02554071|Manitoba Pharmaci...|          |         COMPLETED|   Smoking Cessation|OTHER: Pharmacist...|University of Man...|Govenment of Mani...|      NULL|      OTHER|INTERVENTIONAL|Allocation: NA|In...|   2014-01|2014-11,,,,,,,,,,...|\n|NCT01772771|Molecular Testing...|          |        RECRUITING|Glioma|Hematopoie...|PROCEDURE: Biospe...|M.D. Anderson Can...|National Cancer I...|      NULL|      OTHER| OBSERVATIONAL|Observational Mod...|2012-03-01|2033-03-01,,,,,,,...|\n|NCT02633371|A Pilot Study Exp...|          |         COMPLETED|       Hyperhidrosis|DRUG: Oxybutynin ...|University of Col...|Society for Pedia...|      NULL|      OTHER|INTERVENTIONAL|Allocation: NA|In...|   2016-02|2017-05,,,,,,,,,,...|\n|NCT03400371|Biology of Juveni...|   BIOJUME|        RECRUITING|Juvenile Myocloni...|OTHER: Blood draw...|King's College Lo...|King's College Ho...|      NULL|      OTHER| OBSERVATIONAL|Observational Mod...|2017-07-13|2026-06-30,,,,,,,...|\n|NCT00120471|Safety and Blood ...|          |         COMPLETED|      HIV Infections|DRUG: Tenofovir d...|National Institut...|Eunice Kennedy Sh...|      NULL|        NIH|INTERVENTIONAL|Allocation: RANDO...|   2006-11|2011-12,,,,,,,,,,...|\n|NCT04784871|Promoting Wellbei...|    5WaysA|         COMPLETED|Wellbeing|Health ...|BEHAVIORAL: 5ways...|  University of Oslo|Norwegian Institu...|      NULL|      OTHER|INTERVENTIONAL|Allocation: RANDO...|2021-03-04|2023-02-24,,,,,,,...|\n|NCT02383771|Reversal of the A...|  REVERSAL|         COMPLETED|Coronary Artery D...|DRUG: Ticagrelor|...|The First Affilia...|National Natural ...|      NULL|      OTHER|INTERVENTIONAL|Allocation: RANDO...|   2015-03|2016-12,,,,,,,,,,...|\n|NCT03269071|Neural Stem Cell ...|     STEMS|         COMPLETED|Progressive Multi...|DRUG: human fetal...|  IRCCS San Raffaele|Fondazione Italia...|      NULL|      OTHER|INTERVENTIONAL|Allocation: NON_R...|2017-05-17|2021-07-31,,,,,,,...|\n|NCT01659671|RCT of the Effect...|     SKUP3|         COMPLETED|Obstructive Sleep...|PROCEDURE: Uvulop...|Karolinska Univer...|Karolinska Instit...|      NULL|      OTHER|INTERVENTIONAL|Allocation: RANDO...|   2007-06|2014-05,,,,,,,,,,...|\n|NCT04765371|Comparison Betwee...|  COPreDex|         COMPLETED|Coronavirus Infec...|DRUG: DEXAMETHASO...|        Hôpital NOVO|                    |      NULL|      OTHER|INTERVENTIONAL|Allocation: RANDO...|2021-03-03|2022-05-13,,,,,,,...|\n|NCT02830971|Developing a Stan...|          |         COMPLETED|Registered Nurses...|PROCEDURE: Doing ...|Baqiyatallah Medi...|Shahid Beheshti U...|      NULL|      OTHER|INTERVENTIONAL|Allocation: NA|In...|   2016-07|2021-04-12,,,,,,,...|\n|NCT00416871|Interleukin-2 and...|          |         COMPLETED|       Kidney Cancer|BIOLOGICAL: aldes...|  Centre Leon Berard|                    |      NULL|      OTHER|INTERVENTIONAL|Allocation: RANDO...|          |2006-02,,,,,,,,,,...|\n+-----------+--------------------+----------+------------------+--------------------+--------------------+--------------------+--------------------+----------+-----------+--------------+--------------------+----------+--------------------+\nonly showing top 20 rows\n\n"
     ]
    }
   ],
   "source": [
    "from pyspark.sql.functions import regexp_replace\n",
    "\n",
    "def remove_quotes(df):\n",
    "    quotes_removed_df = df.withColumn(\"Id\", regexp_replace(\"Id\", '\"', ''))\n",
    "    quotes_removed_df = quotes_removed_df.withColumn(\"Completion\", regexp_replace(\"Completion\", '\"', ''))\n",
    "    return quotes_removed_df\n",
    "\n",
    "clinic_df = remove_quotes(clinic_df)\n",
    "clinic_df.show()"
   ]
  },
  {
   "cell_type": "code",
   "execution_count": 0,
   "metadata": {
    "application/vnd.databricks.v1+cell": {
     "cellMetadata": {
      "byteLimit": 2048000,
      "rowLimit": 10000
     },
     "inputWidgets": {},
     "nuid": "1f13a807-e6e7-447b-b0fd-3de6c9d0c850",
     "showTitle": false,
     "title": ""
    }
   },
   "outputs": [
    {
     "output_type": "stream",
     "name": "stdout",
     "output_type": "stream",
     "text": [
      "+-----------+--------------------+----------+------------------+--------------------+--------------------+--------------------+--------------------+----------+-----------+--------------+--------------------+----------+----------+\n|         Id|         Study Title|   Acronym|            Status|          Conditions|       Interventions|             Sponsor|       Collaborators|Enrollment|Funder Type|          Type|        Study Design|     Start|Completion|\n+-----------+--------------------+----------+------------------+--------------------+--------------------+--------------------+--------------------+----------+-----------+--------------+--------------------+----------+----------+\n|NCT03630471|Effectiveness of ...|     PRIDE|         COMPLETED|Mental Health Iss...|BEHAVIORAL: PRIDE...|             Sangath|Harvard Medical S...|      NULL|      OTHER|INTERVENTIONAL|Allocation: RANDO...|2018-08-20|2019-02-28|\n|NCT05992571|Oral Ketone Monoe...|          |        RECRUITING|Cerebrovascular F...|OTHER: Placebo|DI...| McMaster University|Alzheimer's Socie...|      NULL|      OTHER|INTERVENTIONAL|Allocation: RANDO...|2023-10-25|   2024-08|\n|NCT00237471|Impact of Tight G...|          |        TERMINATED|Myocardial Infarc...|DRUG: Insulin (ti...|    Melbourne Health|National Health a...|      NULL|      OTHER|INTERVENTIONAL|Allocation: RANDO...|   2005-10|   2006-05|\n|NCT03820271|New Prognostic Pr...| SUPERMELD|        RECRUITING|Decompensated Cir...|    OTHER: SuperMELD|Assistance Publiq...|                    |      NULL|      OTHER|INTERVENTIONAL|Allocation: NA|In...|2020-10-01|2023-10-01|\n|NCT06229171|InTake Care: Deve...|InTakeCare|NOT_YET_RECRUITING|Hypertension|Trea...|OTHER: adherence ...|Istituto Auxologi...|Istituti Clinici ...|      NULL|      OTHER|INTERVENTIONAL|Allocation: RANDO...|2024-10-01|2026-04-01|\n|NCT02945371|Tailored Inhibito...|       REV|         COMPLETED|Smoking|Alcohol D...|BEHAVIORAL: Perso...|University of Oregon|                    |      NULL|      OTHER|INTERVENTIONAL|Allocation: RANDO...|   2014-09|   2016-05|\n|NCT01055171|Neuromodulation o...|          |         COMPLETED|Alcohol Dependenc...|DRUG: Propranolol...|Medical Universit...|National Institut...|      NULL|      OTHER|INTERVENTIONAL|Allocation: RANDO...|   2010-01|   2012-08|\n|NCT01125371|Computerized Brie...|          |         COMPLETED|Alcohol; Harmful ...|BEHAVIORAL: Compu...|Johns Hopkins Uni...|National Institut...|      NULL|      OTHER|INTERVENTIONAL|Allocation: RANDO...|   2011-10|2016-06-07|\n|NCT02554071|Manitoba Pharmaci...|          |         COMPLETED|   Smoking Cessation|OTHER: Pharmacist...|University of Man...|Govenment of Mani...|      NULL|      OTHER|INTERVENTIONAL|Allocation: NA|In...|   2014-01|   2014-11|\n|NCT01772771|Molecular Testing...|          |        RECRUITING|Glioma|Hematopoie...|PROCEDURE: Biospe...|M.D. Anderson Can...|National Cancer I...|      NULL|      OTHER| OBSERVATIONAL|Observational Mod...|2012-03-01|2033-03-01|\n|NCT02633371|A Pilot Study Exp...|          |         COMPLETED|       Hyperhidrosis|DRUG: Oxybutynin ...|University of Col...|Society for Pedia...|      NULL|      OTHER|INTERVENTIONAL|Allocation: NA|In...|   2016-02|   2017-05|\n|NCT03400371|Biology of Juveni...|   BIOJUME|        RECRUITING|Juvenile Myocloni...|OTHER: Blood draw...|King's College Lo...|King's College Ho...|      NULL|      OTHER| OBSERVATIONAL|Observational Mod...|2017-07-13|2026-06-30|\n|NCT00120471|Safety and Blood ...|          |         COMPLETED|      HIV Infections|DRUG: Tenofovir d...|National Institut...|Eunice Kennedy Sh...|      NULL|        NIH|INTERVENTIONAL|Allocation: RANDO...|   2006-11|   2011-12|\n|NCT04784871|Promoting Wellbei...|    5WaysA|         COMPLETED|Wellbeing|Health ...|BEHAVIORAL: 5ways...|  University of Oslo|Norwegian Institu...|      NULL|      OTHER|INTERVENTIONAL|Allocation: RANDO...|2021-03-04|2023-02-24|\n|NCT02383771|Reversal of the A...|  REVERSAL|         COMPLETED|Coronary Artery D...|DRUG: Ticagrelor|...|The First Affilia...|National Natural ...|      NULL|      OTHER|INTERVENTIONAL|Allocation: RANDO...|   2015-03|   2016-12|\n|NCT03269071|Neural Stem Cell ...|     STEMS|         COMPLETED|Progressive Multi...|DRUG: human fetal...|  IRCCS San Raffaele|Fondazione Italia...|      NULL|      OTHER|INTERVENTIONAL|Allocation: NON_R...|2017-05-17|2021-07-31|\n|NCT01659671|RCT of the Effect...|     SKUP3|         COMPLETED|Obstructive Sleep...|PROCEDURE: Uvulop...|Karolinska Univer...|Karolinska Instit...|      NULL|      OTHER|INTERVENTIONAL|Allocation: RANDO...|   2007-06|   2014-05|\n|NCT04765371|Comparison Betwee...|  COPreDex|         COMPLETED|Coronavirus Infec...|DRUG: DEXAMETHASO...|        Hôpital NOVO|                    |      NULL|      OTHER|INTERVENTIONAL|Allocation: RANDO...|2021-03-03|2022-05-13|\n|NCT02830971|Developing a Stan...|          |         COMPLETED|Registered Nurses...|PROCEDURE: Doing ...|Baqiyatallah Medi...|Shahid Beheshti U...|      NULL|      OTHER|INTERVENTIONAL|Allocation: NA|In...|   2016-07|2021-04-12|\n|NCT00416871|Interleukin-2 and...|          |         COMPLETED|       Kidney Cancer|BIOLOGICAL: aldes...|  Centre Leon Berard|                    |      NULL|      OTHER|INTERVENTIONAL|Allocation: RANDO...|          |   2006-02|\n+-----------+--------------------+----------+------------------+--------------------+--------------------+--------------------+--------------------+----------+-----------+--------------+--------------------+----------+----------+\nonly showing top 20 rows\n\n"
     ]
    }
   ],
   "source": [
    "from pyspark.sql.functions import col, trim\n",
    "\n",
    "def remove_trailing_punctuation(df):\n",
    "    for column in df.columns:\n",
    "        df = df.withColumn(column, trim(regexp_replace(col(column), ',+$', '')))\n",
    "    return df\n",
    "\n",
    "clinic_df = remove_trailing_punctuation(clinic_df)\n",
    "clinic_df.show()"
   ]
  },
  {
   "cell_type": "code",
   "execution_count": 0,
   "metadata": {
    "application/vnd.databricks.v1+cell": {
     "cellMetadata": {
      "byteLimit": 2048000,
      "rowLimit": 10000
     },
     "inputWidgets": {},
     "nuid": "86c3bf3a-48c8-4147-9b51-9cf692889c1e",
     "showTitle": false,
     "title": ""
    }
   },
   "outputs": [
    {
     "output_type": "stream",
     "name": "stdout",
     "output_type": "stream",
     "text": [
      "+-----------+--------------------+----------+------------------+--------------------+--------------------+--------------------+--------------------+----------+-----------+--------------+--------------------+----------+----------+\n|         Id|         Study Title|   Acronym|            Status|          Conditions|       Interventions|             Sponsor|       Collaborators|Enrollment|Funder Type|          Type|        Study Design|     Start|Completion|\n+-----------+--------------------+----------+------------------+--------------------+--------------------+--------------------+--------------------+----------+-----------+--------------+--------------------+----------+----------+\n|NCT03630471|Effectiveness of ...|     PRIDE|         COMPLETED|Mental Health Iss...|BEHAVIORAL: PRIDE...|             Sangath|Harvard Medical S...|      NULL|      OTHER|INTERVENTIONAL|Allocation: RANDO...|2018-08-20|2019-02-28|\n|NCT05992571|Oral Ketone Monoe...|      NULL|        RECRUITING|Cerebrovascular F...|OTHER: Placebo|DI...| McMaster University|Alzheimer's Socie...|      NULL|      OTHER|INTERVENTIONAL|Allocation: RANDO...|2023-10-25|   2024-08|\n|NCT00237471|Impact of Tight G...|      NULL|        TERMINATED|Myocardial Infarc...|DRUG: Insulin (ti...|    Melbourne Health|National Health a...|      NULL|      OTHER|INTERVENTIONAL|Allocation: RANDO...|   2005-10|   2006-05|\n|NCT03820271|New Prognostic Pr...| SUPERMELD|        RECRUITING|Decompensated Cir...|    OTHER: SuperMELD|Assistance Publiq...|                NULL|      NULL|      OTHER|INTERVENTIONAL|Allocation: NA|In...|2020-10-01|2023-10-01|\n|NCT06229171|InTake Care: Deve...|InTakeCare|NOT_YET_RECRUITING|Hypertension|Trea...|OTHER: adherence ...|Istituto Auxologi...|Istituti Clinici ...|      NULL|      OTHER|INTERVENTIONAL|Allocation: RANDO...|2024-10-01|2026-04-01|\n|NCT02945371|Tailored Inhibito...|       REV|         COMPLETED|Smoking|Alcohol D...|BEHAVIORAL: Perso...|University of Oregon|                NULL|      NULL|      OTHER|INTERVENTIONAL|Allocation: RANDO...|   2014-09|   2016-05|\n|NCT01055171|Neuromodulation o...|      NULL|         COMPLETED|Alcohol Dependenc...|DRUG: Propranolol...|Medical Universit...|National Institut...|      NULL|      OTHER|INTERVENTIONAL|Allocation: RANDO...|   2010-01|   2012-08|\n|NCT01125371|Computerized Brie...|      NULL|         COMPLETED|Alcohol; Harmful ...|BEHAVIORAL: Compu...|Johns Hopkins Uni...|National Institut...|      NULL|      OTHER|INTERVENTIONAL|Allocation: RANDO...|   2011-10|2016-06-07|\n|NCT02554071|Manitoba Pharmaci...|      NULL|         COMPLETED|   Smoking Cessation|OTHER: Pharmacist...|University of Man...|Govenment of Mani...|      NULL|      OTHER|INTERVENTIONAL|Allocation: NA|In...|   2014-01|   2014-11|\n|NCT01772771|Molecular Testing...|      NULL|        RECRUITING|Glioma|Hematopoie...|PROCEDURE: Biospe...|M.D. Anderson Can...|National Cancer I...|      NULL|      OTHER| OBSERVATIONAL|Observational Mod...|2012-03-01|2033-03-01|\n|NCT02633371|A Pilot Study Exp...|      NULL|         COMPLETED|       Hyperhidrosis|DRUG: Oxybutynin ...|University of Col...|Society for Pedia...|      NULL|      OTHER|INTERVENTIONAL|Allocation: NA|In...|   2016-02|   2017-05|\n|NCT03400371|Biology of Juveni...|   BIOJUME|        RECRUITING|Juvenile Myocloni...|OTHER: Blood draw...|King's College Lo...|King's College Ho...|      NULL|      OTHER| OBSERVATIONAL|Observational Mod...|2017-07-13|2026-06-30|\n|NCT00120471|Safety and Blood ...|      NULL|         COMPLETED|      HIV Infections|DRUG: Tenofovir d...|National Institut...|Eunice Kennedy Sh...|      NULL|        NIH|INTERVENTIONAL|Allocation: RANDO...|   2006-11|   2011-12|\n|NCT04784871|Promoting Wellbei...|    5WaysA|         COMPLETED|Wellbeing|Health ...|BEHAVIORAL: 5ways...|  University of Oslo|Norwegian Institu...|      NULL|      OTHER|INTERVENTIONAL|Allocation: RANDO...|2021-03-04|2023-02-24|\n|NCT02383771|Reversal of the A...|  REVERSAL|         COMPLETED|Coronary Artery D...|DRUG: Ticagrelor|...|The First Affilia...|National Natural ...|      NULL|      OTHER|INTERVENTIONAL|Allocation: RANDO...|   2015-03|   2016-12|\n|NCT03269071|Neural Stem Cell ...|     STEMS|         COMPLETED|Progressive Multi...|DRUG: human fetal...|  IRCCS San Raffaele|Fondazione Italia...|      NULL|      OTHER|INTERVENTIONAL|Allocation: NON_R...|2017-05-17|2021-07-31|\n|NCT01659671|RCT of the Effect...|     SKUP3|         COMPLETED|Obstructive Sleep...|PROCEDURE: Uvulop...|Karolinska Univer...|Karolinska Instit...|      NULL|      OTHER|INTERVENTIONAL|Allocation: RANDO...|   2007-06|   2014-05|\n|NCT04765371|Comparison Betwee...|  COPreDex|         COMPLETED|Coronavirus Infec...|DRUG: DEXAMETHASO...|        Hôpital NOVO|                NULL|      NULL|      OTHER|INTERVENTIONAL|Allocation: RANDO...|2021-03-03|2022-05-13|\n|NCT02830971|Developing a Stan...|      NULL|         COMPLETED|Registered Nurses...|PROCEDURE: Doing ...|Baqiyatallah Medi...|Shahid Beheshti U...|      NULL|      OTHER|INTERVENTIONAL|Allocation: NA|In...|   2016-07|2021-04-12|\n|NCT00416871|Interleukin-2 and...|      NULL|         COMPLETED|       Kidney Cancer|BIOLOGICAL: aldes...|  Centre Leon Berard|                NULL|      NULL|      OTHER|INTERVENTIONAL|Allocation: RANDO...|      NULL|   2006-02|\n+-----------+--------------------+----------+------------------+--------------------+--------------------+--------------------+--------------------+----------+-----------+--------------+--------------------+----------+----------+\nonly showing top 20 rows\n\n"
     ]
    },
    {
     "output_type": "execute_result",
     "data": {
      "text/plain": [
       "483420"
      ]
     },
     "execution_count": 22,
     "metadata": {},
     "output_type": "execute_result"
    }
   ],
   "source": [
    "from pyspark.sql.functions import when\n",
    "\n",
    "def fill_nulls(df):\n",
    "    columns_to_fill = df.columns\n",
    "    for column in columns_to_fill:\n",
    "        df = df.withColumn(column, when(col(column) == '', None).otherwise(col(column)))\n",
    "    return df\n",
    "\n",
    "clinic_df = fill_nulls(clinic_df)\n",
    "clinic_df.show()\n",
    "clinic_df.count()"
   ]
  },
  {
   "cell_type": "code",
   "execution_count": 0,
   "metadata": {
    "application/vnd.databricks.v1+cell": {
     "cellMetadata": {
      "byteLimit": 2048000,
      "rowLimit": 10000
     },
     "inputWidgets": {},
     "nuid": "7eb83483-870e-421b-aeee-1d9287ff536c",
     "showTitle": false,
     "title": ""
    }
   },
   "outputs": [
    {
     "output_type": "stream",
     "name": "stdout",
     "output_type": "stream",
     "text": [
      "+-----------+--------------------+----------+------------------+--------------------+--------------------+--------------------+--------------------+----------+-----------+--------------+--------------------+----------+----------+\n|         Id|         Study Title|   Acronym|            Status|          Conditions|       Interventions|             Sponsor|       Collaborators|Enrollment|Funder Type|          Type|        Study Design|     Start|Completion|\n+-----------+--------------------+----------+------------------+--------------------+--------------------+--------------------+--------------------+----------+-----------+--------------+--------------------+----------+----------+\n|NCT03630471|Effectiveness of ...|     PRIDE|         COMPLETED|Mental Health Iss...|BEHAVIORAL: PRIDE...|             Sangath|Harvard Medical S...|      NULL|      OTHER|INTERVENTIONAL|Allocation: RANDO...|2018-08-20|2019-02-28|\n|NCT05992571|Oral Ketone Monoe...|      NULL|        RECRUITING|Cerebrovascular F...|OTHER: Placebo|DI...| McMaster University|Alzheimer's Socie...|      NULL|      OTHER|INTERVENTIONAL|Allocation: RANDO...|2023-10-25|2024-08-01|\n|NCT00237471|Impact of Tight G...|      NULL|        TERMINATED|Myocardial Infarc...|DRUG: Insulin (ti...|    Melbourne Health|National Health a...|      NULL|      OTHER|INTERVENTIONAL|Allocation: RANDO...|2005-10-01|2006-05-01|\n|NCT03820271|New Prognostic Pr...| SUPERMELD|        RECRUITING|Decompensated Cir...|    OTHER: SuperMELD|Assistance Publiq...|                NULL|      NULL|      OTHER|INTERVENTIONAL|Allocation: NA|In...|2020-10-01|2023-10-01|\n|NCT06229171|InTake Care: Deve...|InTakeCare|NOT_YET_RECRUITING|Hypertension|Trea...|OTHER: adherence ...|Istituto Auxologi...|Istituti Clinici ...|      NULL|      OTHER|INTERVENTIONAL|Allocation: RANDO...|2024-10-01|2026-04-01|\n|NCT02945371|Tailored Inhibito...|       REV|         COMPLETED|Smoking|Alcohol D...|BEHAVIORAL: Perso...|University of Oregon|                NULL|      NULL|      OTHER|INTERVENTIONAL|Allocation: RANDO...|2014-09-01|2016-05-01|\n|NCT01055171|Neuromodulation o...|      NULL|         COMPLETED|Alcohol Dependenc...|DRUG: Propranolol...|Medical Universit...|National Institut...|      NULL|      OTHER|INTERVENTIONAL|Allocation: RANDO...|2010-01-01|2012-08-01|\n|NCT01125371|Computerized Brie...|      NULL|         COMPLETED|Alcohol; Harmful ...|BEHAVIORAL: Compu...|Johns Hopkins Uni...|National Institut...|      NULL|      OTHER|INTERVENTIONAL|Allocation: RANDO...|2011-10-01|2016-06-07|\n|NCT02554071|Manitoba Pharmaci...|      NULL|         COMPLETED|   Smoking Cessation|OTHER: Pharmacist...|University of Man...|Govenment of Mani...|      NULL|      OTHER|INTERVENTIONAL|Allocation: NA|In...|2014-01-01|2014-11-01|\n|NCT01772771|Molecular Testing...|      NULL|        RECRUITING|Glioma|Hematopoie...|PROCEDURE: Biospe...|M.D. Anderson Can...|National Cancer I...|      NULL|      OTHER| OBSERVATIONAL|Observational Mod...|2012-03-01|2033-03-01|\n+-----------+--------------------+----------+------------------+--------------------+--------------------+--------------------+--------------------+----------+-----------+--------------+--------------------+----------+----------+\nonly showing top 10 rows\n\n"
     ]
    }
   ],
   "source": [
    "from pyspark.sql.functions import to_date, length\n",
    "\n",
    "def normalise_dates(df, date_columns):\n",
    "    for date in date_columns:\n",
    "        df = df.withColumn(\n",
    "            date,\n",
    "            when(length(col(date)) == 7, to_date(col(date), 'yyyy-MM'))\n",
    "            .otherwise(to_date(col(date), 'yyyy-MM-dd'))\n",
    "        )\n",
    "    return df\n",
    "\n",
    "date_columns = ['Start', 'Completion']\n",
    "\n",
    "clinic_df = normalise_dates(clinic_df, date_columns)\n",
    "clinic_df.show(10)"
   ]
  },
  {
   "cell_type": "code",
   "execution_count": 0,
   "metadata": {
    "application/vnd.databricks.v1+cell": {
     "cellMetadata": {
      "byteLimit": 2048000,
      "rowLimit": 10000
     },
     "inputWidgets": {},
     "nuid": "b58b911e-567d-4e21-b14c-be99db135820",
     "showTitle": false,
     "title": ""
    }
   },
   "outputs": [
    {
     "output_type": "stream",
     "name": "stdout",
     "output_type": "stream",
     "text": [
      "+-----------------+\n|Number of Studies|\n+-----------------+\n|           483420|\n+-----------------+\n\n"
     ]
    }
   ],
   "source": [
    "from pyspark.sql.functions import countDistinct\n",
    "\n",
    "number_of_studies_df = clinic_df.select(countDistinct(\"Id\").alias(\"Number of Studies\"))\n",
    "\n",
    "number_of_studies_df.show()"
   ]
  },
  {
   "cell_type": "code",
   "execution_count": 0,
   "metadata": {
    "application/vnd.databricks.v1+cell": {
     "cellMetadata": {
      "byteLimit": 2048000,
      "rowLimit": 10000
     },
     "inputWidgets": {},
     "nuid": "91e3835f-042d-4ee0-acfe-1160c18ace8c",
     "showTitle": false,
     "title": ""
    }
   },
   "outputs": [
    {
     "output_type": "stream",
     "name": "stdout",
     "output_type": "stream",
     "text": [
      "+---------------+------+\n|           Type| count|\n+---------------+------+\n| INTERVENTIONAL|371382|\n|  OBSERVATIONAL|110221|\n|EXPANDED_ACCESS|   928|\n|           NULL|   889|\n+---------------+------+\n\n"
     ]
    }
   ],
   "source": [
    "study_types_df = clinic_df \\\n",
    "                    .groupBy(\"Type\") \\\n",
    "                    .count() \\\n",
    "                    .orderBy(col(\"count\").desc())\n",
    "\n",
    "study_types_df.show()"
   ]
  },
  {
   "cell_type": "code",
   "execution_count": 0,
   "metadata": {
    "application/vnd.databricks.v1+cell": {
     "cellMetadata": {
      "byteLimit": 2048000,
      "rowLimit": 10000
     },
     "inputWidgets": {},
     "nuid": "de7aecb0-5082-43f3-94fd-1b905e6afb98",
     "showTitle": false,
     "title": ""
    }
   },
   "outputs": [
    {
     "output_type": "stream",
     "name": "stdout",
     "output_type": "stream",
     "text": [
      "+-----------+--------------------+----------+------------------+--------------------+--------------------+--------------------+--------------------+----------+-----------+--------------+--------------------+----------+----------+\n|         Id|         Study Title|   Acronym|            Status|          Conditions|       Interventions|             Sponsor|       Collaborators|Enrollment|Funder Type|          Type|        Study Design|     Start|Completion|\n+-----------+--------------------+----------+------------------+--------------------+--------------------+--------------------+--------------------+----------+-----------+--------------+--------------------+----------+----------+\n|NCT03630471|Effectiveness of ...|     PRIDE|         COMPLETED|Mental Health Iss...|BEHAVIORAL: PRIDE...|             Sangath|Harvard Medical S...|      NULL|      OTHER|INTERVENTIONAL|Allocation: RANDO...|2018-08-20|2019-02-28|\n|NCT05992571|Oral Ketone Monoe...|      NULL|        RECRUITING|Cerebrovascular F...|OTHER: Placebo|DI...| McMaster University|Alzheimer's Socie...|      NULL|      OTHER|INTERVENTIONAL|Allocation: RANDO...|2023-10-25|2024-08-01|\n|NCT00237471|Impact of Tight G...|      NULL|        TERMINATED|Myocardial Infarc...|DRUG: Insulin (ti...|    Melbourne Health|National Health a...|      NULL|      OTHER|INTERVENTIONAL|Allocation: RANDO...|2005-10-01|2006-05-01|\n|NCT03820271|New Prognostic Pr...| SUPERMELD|        RECRUITING|Decompensated Cir...|    OTHER: SuperMELD|Assistance Publiq...|                NULL|      NULL|      OTHER|INTERVENTIONAL|Allocation: NA|In...|2020-10-01|2023-10-01|\n|NCT06229171|InTake Care: Deve...|InTakeCare|NOT_YET_RECRUITING|Hypertension|Trea...|OTHER: adherence ...|Istituto Auxologi...|Istituti Clinici ...|      NULL|      OTHER|INTERVENTIONAL|Allocation: RANDO...|2024-10-01|2026-04-01|\n|NCT02945371|Tailored Inhibito...|       REV|         COMPLETED|Smoking|Alcohol D...|BEHAVIORAL: Perso...|University of Oregon|                NULL|      NULL|      OTHER|INTERVENTIONAL|Allocation: RANDO...|2014-09-01|2016-05-01|\n|NCT01055171|Neuromodulation o...|      NULL|         COMPLETED|Alcohol Dependenc...|DRUG: Propranolol...|Medical Universit...|National Institut...|      NULL|      OTHER|INTERVENTIONAL|Allocation: RANDO...|2010-01-01|2012-08-01|\n|NCT01125371|Computerized Brie...|      NULL|         COMPLETED|Alcohol; Harmful ...|BEHAVIORAL: Compu...|Johns Hopkins Uni...|National Institut...|      NULL|      OTHER|INTERVENTIONAL|Allocation: RANDO...|2011-10-01|2016-06-07|\n|NCT02554071|Manitoba Pharmaci...|      NULL|         COMPLETED|   Smoking Cessation|OTHER: Pharmacist...|University of Man...|Govenment of Mani...|      NULL|      OTHER|INTERVENTIONAL|Allocation: NA|In...|2014-01-01|2014-11-01|\n|NCT01772771|Molecular Testing...|      NULL|        RECRUITING|Glioma|Hematopoie...|PROCEDURE: Biospe...|M.D. Anderson Can...|National Cancer I...|      NULL|      OTHER| OBSERVATIONAL|Observational Mod...|2012-03-01|2033-03-01|\n|NCT02633371|A Pilot Study Exp...|      NULL|         COMPLETED|       Hyperhidrosis|DRUG: Oxybutynin ...|University of Col...|Society for Pedia...|      NULL|      OTHER|INTERVENTIONAL|Allocation: NA|In...|2016-02-01|2017-05-01|\n|NCT03400371|Biology of Juveni...|   BIOJUME|        RECRUITING|Juvenile Myocloni...|OTHER: Blood draw...|King's College Lo...|King's College Ho...|      NULL|      OTHER| OBSERVATIONAL|Observational Mod...|2017-07-13|2026-06-30|\n|NCT00120471|Safety and Blood ...|      NULL|         COMPLETED|      HIV Infections|DRUG: Tenofovir d...|National Institut...|Eunice Kennedy Sh...|      NULL|        NIH|INTERVENTIONAL|Allocation: RANDO...|2006-11-01|2011-12-01|\n|NCT04784871|Promoting Wellbei...|    5WaysA|         COMPLETED|Wellbeing|Health ...|BEHAVIORAL: 5ways...|  University of Oslo|Norwegian Institu...|      NULL|      OTHER|INTERVENTIONAL|Allocation: RANDO...|2021-03-04|2023-02-24|\n|NCT02383771|Reversal of the A...|  REVERSAL|         COMPLETED|Coronary Artery D...|DRUG: Ticagrelor|...|The First Affilia...|National Natural ...|      NULL|      OTHER|INTERVENTIONAL|Allocation: RANDO...|2015-03-01|2016-12-01|\n|NCT03269071|Neural Stem Cell ...|     STEMS|         COMPLETED|Progressive Multi...|DRUG: human fetal...|  IRCCS San Raffaele|Fondazione Italia...|      NULL|      OTHER|INTERVENTIONAL|Allocation: NON_R...|2017-05-17|2021-07-31|\n|NCT01659671|RCT of the Effect...|     SKUP3|         COMPLETED|Obstructive Sleep...|PROCEDURE: Uvulop...|Karolinska Univer...|Karolinska Instit...|      NULL|      OTHER|INTERVENTIONAL|Allocation: RANDO...|2007-06-01|2014-05-01|\n|NCT04765371|Comparison Betwee...|  COPreDex|         COMPLETED|Coronavirus Infec...|DRUG: DEXAMETHASO...|        Hôpital NOVO|                NULL|      NULL|      OTHER|INTERVENTIONAL|Allocation: RANDO...|2021-03-03|2022-05-13|\n|NCT02830971|Developing a Stan...|      NULL|         COMPLETED|Registered Nurses...|PROCEDURE: Doing ...|Baqiyatallah Medi...|Shahid Beheshti U...|      NULL|      OTHER|INTERVENTIONAL|Allocation: NA|In...|2016-07-01|2021-04-12|\n|NCT00416871|Interleukin-2 and...|      NULL|         COMPLETED|       Kidney Cancer|BIOLOGICAL: aldes...|  Centre Leon Berard|                NULL|      NULL|      OTHER|INTERVENTIONAL|Allocation: RANDO...|      NULL|2006-02-01|\n+-----------+--------------------+----------+------------------+--------------------+--------------------+--------------------+--------------------+----------+-----------+--------------+--------------------+----------+----------+\nonly showing top 20 rows\n\n"
     ]
    }
   ],
   "source": [
    "clinic_df.show()"
   ]
  },
  {
   "cell_type": "code",
   "execution_count": 0,
   "metadata": {
    "application/vnd.databricks.v1+cell": {
     "cellMetadata": {
      "byteLimit": 2048000,
      "rowLimit": 10000
     },
     "inputWidgets": {},
     "nuid": "d72c4386-4cfd-4e22-9fec-944a706535b4",
     "showTitle": false,
     "title": ""
    }
   },
   "outputs": [
    {
     "output_type": "stream",
     "name": "stdout",
     "output_type": "stream",
     "text": [
      "+---------------+-----+\n|      Condition|count|\n+---------------+-----+\n|  Breast Cancer| 4557|\n|Prostate Cancer| 2650|\n|         Asthma| 2326|\n|        Obesity| 2301|\n| HIV Infections| 2114|\n+---------------+-----+\n\n"
     ]
    }
   ],
   "source": [
    "from pyspark.sql.functions import explode, split\n",
    "\n",
    "top_5_conditions_df = clinic_df.withColumn(\"Condition\", explode(split(col(\"Conditions\"), \";\"))) \\\n",
    "                                    .filter(col(\"Condition\") != 'Healthy') \\\n",
    "                                    .groupBy(\"Condition\") \\\n",
    "                                    .count() \\\n",
    "                                    .orderBy(col(\"count\").desc()) \\\n",
    "                                    .limit(5)\n",
    "                                \n",
    "top_5_conditions_df.show()"
   ]
  },
  {
   "cell_type": "code",
   "execution_count": 0,
   "metadata": {
    "application/vnd.databricks.v1+cell": {
     "cellMetadata": {
      "byteLimit": 2048000,
      "rowLimit": 10000
     },
     "inputWidgets": {},
     "nuid": "a5d69ac3-d670-41ff-ac52-0dd4e17d2d83",
     "showTitle": false,
     "title": ""
    }
   },
   "outputs": [
    {
     "output_type": "stream",
     "name": "stdout",
     "output_type": "stream",
     "text": [
      "['Curia Inc.', 'AbbVie', 'Teva Pharmaceutical Industries', 'Jazz Pharmaceuticals', 'Pacira BioSciences', 'Amgen', 'Nutraceutical International Corp.', 'CSL Limited', 'Apotex Corp.', 'Phibro Animal Health', 'Sanofi', 'Merck', 'Johnson & Johnson', 'Elanco Animal Health', 'Novartis', 'Wockhardt Limited', 'IDEXX Laboratories', 'Pfizer', 'SELLAS Life Sciences Group', 'Mallinckrodt', 'Insys Therapeutics', 'Endo International', 'Viatris', 'Sun Pharmaceuticals', 'Daiichi Sankyo', 'Takeda Pharmaceutical', 'Abbott Laboratories', 'Zoetis', 'Taro Pharmaceutical Industries', 'Roche', 'UCB', 'KV Pharmaceutical', 'Cambrex', 'Hikma Pharmaceuticals', 'Astellas Pharma', 'CytRx', 'Clovis Oncology', 'Amneal Pharmaceuticals', 'Boehringer Ingelheim', 'Novo Holdings A/S', 'Indivior Inc.', 'Eisai', 'Parexel International', 'Akorn Inc.', 'SciClone Pharmaceuticals', 'AstraZeneca', 'Amphastar Pharmaceuticals', 'Incyte Corp.', 'Organon & Co.', 'Currax Pharmaceuticals', 'Lannett Co.', 'United Therapeutics', 'Purdue Pharma', 'AVEO Pharmaceuticals', 'Arbor Pharmaceuticals', 'Anika Therapeutics', 'Eli Lilly', 'Perrigo', 'Alcami', 'Merck KGaA (EMD)', 'Gilead Sciences', 'Regeneron Pharmaceuticals', 'Otsuka Pharmaceutical', 'Amryt Pharma', 'Lundbeck', 'Bristol-Myers Squibb', 'Biogen Idec', \"Dr. Reddy's Laboratories\", 'Aceto', 'Biocryst Pharmaceuticals', 'Bausch Health', 'GlaxoSmithKline']\n"
     ]
    }
   ],
   "source": [
    "pharma_df = spark.read.csv(\"/FileStore/tables/pharma/pharma.csv\", header = True, inferSchema=True)\n",
    "\n",
    "pharmaceutical_companies = pharma_df.select(\"Parent_Company\").distinct().rdd.flatMap(lambda x: x).collect()\n",
    "\n",
    "print(pharmaceutical_companies)"
   ]
  },
  {
   "cell_type": "code",
   "execution_count": 0,
   "metadata": {
    "application/vnd.databricks.v1+cell": {
     "cellMetadata": {
      "byteLimit": 2048000,
      "rowLimit": 10000
     },
     "inputWidgets": {},
     "nuid": "b2566f6c-5db7-4924-ba91-a3be40a2f247",
     "showTitle": false,
     "title": ""
    }
   },
   "outputs": [
    {
     "output_type": "stream",
     "name": "stdout",
     "output_type": "stream",
     "text": [
      "+-----------+--------------------+----------+------------------+--------------------+--------------------+--------------------+--------------------+----------+-----------+--------------+--------------------+----------+----------+\n|         Id|         Study Title|   Acronym|            Status|          Conditions|       Interventions|             Sponsor|       Collaborators|Enrollment|Funder Type|          Type|        Study Design|     Start|Completion|\n+-----------+--------------------+----------+------------------+--------------------+--------------------+--------------------+--------------------+----------+-----------+--------------+--------------------+----------+----------+\n|NCT03630471|Effectiveness of ...|     PRIDE|         COMPLETED|Mental Health Iss...|BEHAVIORAL: PRIDE...|             Sangath|Harvard Medical S...|      NULL|      OTHER|INTERVENTIONAL|Allocation: RANDO...|2018-08-20|2019-02-28|\n|NCT05992571|Oral Ketone Monoe...|      NULL|        RECRUITING|Cerebrovascular F...|OTHER: Placebo|DI...| McMaster University|Alzheimer's Socie...|      NULL|      OTHER|INTERVENTIONAL|Allocation: RANDO...|2023-10-25|2024-08-01|\n|NCT00237471|Impact of Tight G...|      NULL|        TERMINATED|Myocardial Infarc...|DRUG: Insulin (ti...|    Melbourne Health|National Health a...|      NULL|      OTHER|INTERVENTIONAL|Allocation: RANDO...|2005-10-01|2006-05-01|\n|NCT03820271|New Prognostic Pr...| SUPERMELD|        RECRUITING|Decompensated Cir...|    OTHER: SuperMELD|Assistance Publiq...|                NULL|      NULL|      OTHER|INTERVENTIONAL|Allocation: NA|In...|2020-10-01|2023-10-01|\n|NCT06229171|InTake Care: Deve...|InTakeCare|NOT_YET_RECRUITING|Hypertension|Trea...|OTHER: adherence ...|Istituto Auxologi...|Istituti Clinici ...|      NULL|      OTHER|INTERVENTIONAL|Allocation: RANDO...|2024-10-01|2026-04-01|\n|NCT02945371|Tailored Inhibito...|       REV|         COMPLETED|Smoking|Alcohol D...|BEHAVIORAL: Perso...|University of Oregon|                NULL|      NULL|      OTHER|INTERVENTIONAL|Allocation: RANDO...|2014-09-01|2016-05-01|\n|NCT01055171|Neuromodulation o...|      NULL|         COMPLETED|Alcohol Dependenc...|DRUG: Propranolol...|Medical Universit...|National Institut...|      NULL|      OTHER|INTERVENTIONAL|Allocation: RANDO...|2010-01-01|2012-08-01|\n|NCT01125371|Computerized Brie...|      NULL|         COMPLETED|Alcohol; Harmful ...|BEHAVIORAL: Compu...|Johns Hopkins Uni...|National Institut...|      NULL|      OTHER|INTERVENTIONAL|Allocation: RANDO...|2011-10-01|2016-06-07|\n|NCT02554071|Manitoba Pharmaci...|      NULL|         COMPLETED|   Smoking Cessation|OTHER: Pharmacist...|University of Man...|Govenment of Mani...|      NULL|      OTHER|INTERVENTIONAL|Allocation: NA|In...|2014-01-01|2014-11-01|\n|NCT01772771|Molecular Testing...|      NULL|        RECRUITING|Glioma|Hematopoie...|PROCEDURE: Biospe...|M.D. Anderson Can...|National Cancer I...|      NULL|      OTHER| OBSERVATIONAL|Observational Mod...|2012-03-01|2033-03-01|\n|NCT02633371|A Pilot Study Exp...|      NULL|         COMPLETED|       Hyperhidrosis|DRUG: Oxybutynin ...|University of Col...|Society for Pedia...|      NULL|      OTHER|INTERVENTIONAL|Allocation: NA|In...|2016-02-01|2017-05-01|\n|NCT03400371|Biology of Juveni...|   BIOJUME|        RECRUITING|Juvenile Myocloni...|OTHER: Blood draw...|King's College Lo...|King's College Ho...|      NULL|      OTHER| OBSERVATIONAL|Observational Mod...|2017-07-13|2026-06-30|\n|NCT00120471|Safety and Blood ...|      NULL|         COMPLETED|      HIV Infections|DRUG: Tenofovir d...|National Institut...|Eunice Kennedy Sh...|      NULL|        NIH|INTERVENTIONAL|Allocation: RANDO...|2006-11-01|2011-12-01|\n|NCT04784871|Promoting Wellbei...|    5WaysA|         COMPLETED|Wellbeing|Health ...|BEHAVIORAL: 5ways...|  University of Oslo|Norwegian Institu...|      NULL|      OTHER|INTERVENTIONAL|Allocation: RANDO...|2021-03-04|2023-02-24|\n|NCT02383771|Reversal of the A...|  REVERSAL|         COMPLETED|Coronary Artery D...|DRUG: Ticagrelor|...|The First Affilia...|National Natural ...|      NULL|      OTHER|INTERVENTIONAL|Allocation: RANDO...|2015-03-01|2016-12-01|\n|NCT03269071|Neural Stem Cell ...|     STEMS|         COMPLETED|Progressive Multi...|DRUG: human fetal...|  IRCCS San Raffaele|Fondazione Italia...|      NULL|      OTHER|INTERVENTIONAL|Allocation: NON_R...|2017-05-17|2021-07-31|\n|NCT01659671|RCT of the Effect...|     SKUP3|         COMPLETED|Obstructive Sleep...|PROCEDURE: Uvulop...|Karolinska Univer...|Karolinska Instit...|      NULL|      OTHER|INTERVENTIONAL|Allocation: RANDO...|2007-06-01|2014-05-01|\n|NCT04765371|Comparison Betwee...|  COPreDex|         COMPLETED|Coronavirus Infec...|DRUG: DEXAMETHASO...|        Hôpital NOVO|                NULL|      NULL|      OTHER|INTERVENTIONAL|Allocation: RANDO...|2021-03-03|2022-05-13|\n|NCT02830971|Developing a Stan...|      NULL|         COMPLETED|Registered Nurses...|PROCEDURE: Doing ...|Baqiyatallah Medi...|Shahid Beheshti U...|      NULL|      OTHER|INTERVENTIONAL|Allocation: NA|In...|2016-07-01|2021-04-12|\n|NCT00416871|Interleukin-2 and...|      NULL|         COMPLETED|       Kidney Cancer|BIOLOGICAL: aldes...|  Centre Leon Berard|                NULL|      NULL|      OTHER|INTERVENTIONAL|Allocation: RANDO...|      NULL|2006-02-01|\n+-----------+--------------------+----------+------------------+--------------------+--------------------+--------------------+--------------------+----------+-----------+--------------+--------------------+----------+----------+\nonly showing top 20 rows\n\n"
     ]
    }
   ],
   "source": [
    "clinic_df.show()"
   ]
  },
  {
   "cell_type": "code",
   "execution_count": 0,
   "metadata": {
    "application/vnd.databricks.v1+cell": {
     "cellMetadata": {
      "byteLimit": 2048000,
      "rowLimit": 10000
     },
     "inputWidgets": {},
     "nuid": "996fb4ac-6f1e-49f2-8223-8d117d61a323",
     "showTitle": false,
     "title": ""
    }
   },
   "outputs": [
    {
     "output_type": "stream",
     "name": "stdout",
     "output_type": "stream",
     "text": [
      "+-------------------------------------------------------------+-----+\n|Sponsor                                                      |count|\n+-------------------------------------------------------------+-----+\n|National Cancer Institute (NCI)                              |3410 |\n|Assiut University                                            |3335 |\n|Cairo University                                             |3023 |\n|Assistance Publique - Hôpitaux de Paris                      |2951 |\n|Mayo Clinic                                                  |2766 |\n|M.D. Anderson Cancer Center                                  |2702 |\n|Novartis Pharmaceuticals                                     |2393 |\n|National Institute of Allergy and Infectious Diseases (NIAID)|2340 |\n|Massachusetts General Hospital                               |2263 |\n|National Taiwan University Hospital                          |2181 |\n+-------------------------------------------------------------+-----+\n\n"
     ]
    }
   ],
   "source": [
    "non_pharma_sponsors_df = clinic_df \\\n",
    "                            .filter(~clinic_df[\"Sponsor\"].isin(pharmaceutical_companies)) \\\n",
    "                            .groupBy(\"Sponsor\") \\\n",
    "                            .count() \\\n",
    "                            .orderBy(col(\"count\").desc()) \\\n",
    "                            .limit(10)\n",
    "\n",
    "non_pharma_sponsors_df.show(truncate=False)"
   ]
  },
  {
   "cell_type": "code",
   "execution_count": 0,
   "metadata": {
    "application/vnd.databricks.v1+cell": {
     "cellMetadata": {
      "byteLimit": 2048000,
      "rowLimit": 10000
     },
     "inputWidgets": {},
     "nuid": "e8b7578a-4582-42d8-9600-e1676cf24033",
     "showTitle": false,
     "title": ""
    }
   },
   "outputs": [
    {
     "output_type": "stream",
     "name": "stdout",
     "output_type": "stream",
     "text": [
      "+-----+-----+\n|Month|count|\n+-----+-----+\n|    1| 1494|\n|    2| 1272|\n|    3| 1552|\n|    4| 1324|\n|    5| 1415|\n|    6| 1619|\n|    7| 1360|\n|    8| 1230|\n|    9| 1152|\n|   10| 1058|\n|   11|  909|\n|   12| 1082|\n+-----+-----+\n\n"
     ]
    }
   ],
   "source": [
    "from pyspark.sql.functions import year, month\n",
    "\n",
    "monthly_completed_df = clinic_df \\\n",
    "                            .filter((col(\"Status\") == \"COMPLETED\") & (year(col(\"Completion\")) == 2023)) \\\n",
    "                            .groupBy(month(col(\"Completion\")).alias(\"Month\")) \\\n",
    "                            .count() \\\n",
    "                            .orderBy(\"Month\")\n",
    "\n",
    "monthly_completed_df.show()"
   ]
  },
  {
   "cell_type": "code",
   "execution_count": 0,
   "metadata": {
    "application/vnd.databricks.v1+cell": {
     "cellMetadata": {
      "byteLimit": 2048000,
      "rowLimit": 10000
     },
     "inputWidgets": {},
     "nuid": "deb33744-f7c5-4a4e-a51f-97fafbb5391c",
     "showTitle": false,
     "title": ""
    }
   },
   "outputs": [
    {
     "output_type": "stream",
     "name": "stdout",
     "output_type": "stream",
     "text": [
      "\u001B[43mNote: you may need to restart the kernel using dbutils.library.restartPython() to use updated packages.\u001B[0m\nRequirement already satisfied: matplotlib in /databricks/python3/lib/python3.10/site-packages (3.7.0)\nRequirement already satisfied: fonttools>=4.22.0 in /databricks/python3/lib/python3.10/site-packages (from matplotlib) (4.25.0)\nRequirement already satisfied: contourpy>=1.0.1 in /databricks/python3/lib/python3.10/site-packages (from matplotlib) (1.0.5)\nRequirement already satisfied: pyparsing>=2.3.1 in /databricks/python3/lib/python3.10/site-packages (from matplotlib) (3.0.9)\nRequirement already satisfied: python-dateutil>=2.7 in /databricks/python3/lib/python3.10/site-packages (from matplotlib) (2.8.2)\nRequirement already satisfied: packaging>=20.0 in /databricks/python3/lib/python3.10/site-packages (from matplotlib) (23.2)\nRequirement already satisfied: pillow>=6.2.0 in /databricks/python3/lib/python3.10/site-packages (from matplotlib) (9.4.0)\nRequirement already satisfied: kiwisolver>=1.0.1 in /databricks/python3/lib/python3.10/site-packages (from matplotlib) (1.4.4)\nRequirement already satisfied: cycler>=0.10 in /databricks/python3/lib/python3.10/site-packages (from matplotlib) (0.11.0)\nRequirement already satisfied: numpy>=1.20 in /databricks/python3/lib/python3.10/site-packages (from matplotlib) (1.23.5)\nRequirement already satisfied: six>=1.5 in /usr/lib/python3/dist-packages (from python-dateutil>=2.7->matplotlib) (1.16.0)\n\u001B[43mNote: you may need to restart the kernel using dbutils.library.restartPython() to use updated packages.\u001B[0m\n"
     ]
    },
    {
     "output_type": "display_data",
     "data": {
      "image/png": "[encoded data removed]",
      "text/plain": [
       "<Figure size 1000x1000 with 1 Axes>"
      ]
     },
     "metadata": {},
     "output_type": "display_data"
    }
   ],
   "source": [
    "!pip install matplotlib\n",
    "\n",
    "import matplotlib.pyplot as plt\n",
    "\n",
    "import calendar\n",
    "import datetime\n",
    "\n",
    "monthly_completed_data = monthly_completed_df.collect()\n",
    "\n",
    "month_names = [calendar.month_name[month] for month, _ in monthly_completed_data] \n",
    "counts = [count for _, count in monthly_completed_data]\n",
    "\n",
    "colours = ['red','blue','green','magenta','cyan', 'purple']\n",
    "\n",
    "plt.figure(figsize=(10, 10))\n",
    "plt.bar(month_names, counts, color = colours)\n",
    "plt.xlabel('Month')\n",
    "plt.ylabel('Number of Completed Studies')\n",
    "plt.title('Number of Completed Studies Each Month in 2023')\n",
    "plt.xticks(rotation=45)\n",
    "plt.show()"
   ]
  },
  {
   "cell_type": "code",
   "execution_count": 0,
   "metadata": {
    "application/vnd.databricks.v1+cell": {
     "cellMetadata": {},
     "inputWidgets": {},
     "nuid": "10e54249-95cf-4ee3-88fe-3d0f06e9e739",
     "showTitle": false,
     "title": ""
    }
   },
   "outputs": [],
   "source": []
  }
 ],
 "metadata": {
  "application/vnd.databricks.v1+notebook": {
   "dashboards": [],
   "language": "python",
   "notebookMetadata": {
    "mostRecentlyExecutedCommandWithImplicitDF": {
     "commandId": 4404641369865898,
     "dataframes": [
      "_sqldf"
     ]
    },
    "pythonIndentUnit": 4
   },
   "notebookName": "Son_Nguyen_df",
   "widgets": {}
  }
 },
 "nbformat": 4,
 "nbformat_minor": 0
}
